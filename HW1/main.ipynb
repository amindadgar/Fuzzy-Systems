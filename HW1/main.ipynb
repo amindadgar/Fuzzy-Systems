{
 "cells": [
  {
   "cell_type": "markdown",
   "metadata": {},
   "source": [
    "# Homework #1 Codes\n",
    "**Stu. name:** Seyed Mohammad Amin Dadgar <br>\n",
    "**Stu. id:** 4003624016"
   ]
  },
  {
   "cell_type": "markdown",
   "metadata": {},
   "source": [
    "## Question 2 of the second chapter of Zimmermann, 4th ed, 2001 book"
   ]
  },
  {
   "cell_type": "code",
   "execution_count": 1,
   "metadata": {},
   "outputs": [],
   "source": [
    "import numpy as np\n",
    "import matplotlib.pyplot as plt"
   ]
  },
  {
   "cell_type": "code",
   "execution_count": 14,
   "metadata": {},
   "outputs": [],
   "source": [
    "def find_alpha_cuts(A_tilda, **kwargs):\n",
    "    \"\"\"\n",
    "    Find all the alpha-cuts of a fuzzy set\n",
    "    \n",
    "    Parameters:\n",
    "    ------------\n",
    "    A_tilda : array of tuples\n",
    "        The fuzzy set that we are trying to find its alpha cuts\n",
    "    kwargs -> interval : Floating number between `0` and `1`\n",
    "        the alpha-cuts computed from intervals, example `0.25` have five alpha-cuts `0`, `0.25`, `0.5`, `0.75`, `1`\n",
    "        Note: `0` and `1` are excluded!\n",
    "        default is `-1`\n",
    "    kwargs -> alpha_cuts : array_like\n",
    "        if alpha_cuts are sent as input, the intervals variable would be omited\n",
    "        An array of floating points between `0` and `1`, default is None\n",
    "    \n",
    "    **Important**: one of interval or alpha_cuts should be sent as input, otherwise an error would be raised!\n",
    "        \n",
    "    Returns:\n",
    "    --------\n",
    "    alpha_cuts : dictionary\n",
    "        a python dictionary with key of alpha-cuts and values\n",
    "    strong_alpha_cuts : dictionary\n",
    "        a python dictionary with key of alpha-cuts and values\n",
    "    \"\"\"\n",
    "    ## create dictionaries to save later\n",
    "    alpha_cuts = {}\n",
    "    alpha_cuts_strong = {}\n",
    "    \n",
    "    ## intialize the variable\n",
    "    alpha_cuts_interval = []\n",
    "        \n",
    "    if 'interval' in kwargs:\n",
    "        alpha_cuts_interval = np.arange(0, 1, kwargs['interval'])\n",
    "    elif 'alpha_cuts' in kwargs:\n",
    "        alpha_cuts_interval = kwargs['alpha_cuts']\n",
    "    else:\n",
    "        raise \"Error: One of the interval or alpha_cuts variable must have a value! (Not both either)\" \n",
    "        \n",
    "    ## for each alpha-cut\n",
    "    ## step is alpha-cut in each iteration\n",
    "    for step in alpha_cuts_interval:\n",
    "        ## choose the values of the alpha-cut\n",
    "        values = A_tilda[A_tilda[:, 1] >= step]\n",
    "        \n",
    "        ## choose the values of strong alpha-cuts\n",
    "        strong_values = A_tilda[A_tilda[:, 1] > step]\n",
    "    \n",
    "        ## save the alpha-cut set with the key of alpha-cut value\n",
    "        alpha_cuts[step] = values\n",
    "        alpha_cuts_strong[step] = strong_values\n",
    "        \n",
    "    ## the loop does not find the alpha-cut = 1\n",
    "    ## alpha-cut = 1 is actually the whole set!\n",
    "    alpha_cuts[1.0] = A_tilda\n",
    "        \n",
    "    return alpha_cuts, alpha_cuts_strong"
   ]
  },
  {
   "cell_type": "code",
   "execution_count": 3,
   "metadata": {},
   "outputs": [],
   "source": [
    "def plot_scatter_alpha_cuts(alpha_cut_set):\n",
    "    \"\"\"\n",
    "    Plot the level sets of alpha cuts, using scatter plot\n",
    "    \n",
    "    Parameters:\n",
    "    ----------\n",
    "    alpha_cut_set : fictionary\n",
    "        a dictionary of alpha_cuts related to a fuzzy set\n",
    "        \n",
    "    \"\"\"\n",
    "    \n",
    "    keys = alpha_cut_set.keys()\n",
    "    ## initialize an array to plot the data\n",
    "    plot_data = []\n",
    "    \n",
    "    ## create the (x,y) array to plot the data\n",
    "    for step in keys:\n",
    "        ## find the values with membeship value equal to step\n",
    "        value = alpha_cut_set[step]\n",
    "        value = value[:, 0]\n",
    "        ## get the values count for each alpha levels\n",
    "        values_count = len(value)\n",
    "        \n",
    "        ## create an array of x_values and their alpha set\n",
    "        alpha_level = np.full(values_count, step)\n",
    "        data = np.stack((value, alpha_level), axis=1)\n",
    "        ## the y value is actually the alphas\n",
    "        plot_data.append(data)\n",
    "    \n",
    "    ## convert to a numpy array\n",
    "    plot_data = np.array(plot_data, dtype=object)\n",
    "    \n",
    "    ## create a y array to save the y_ticks\n",
    "    y_ticks = []\n",
    "    x_ticks = []\n",
    "    for data in plot_data:\n",
    "        X = data[:, 0]\n",
    "        Y = data[:, 1]\n",
    "        \n",
    "        y_ticks = np.append(y_ticks, Y)\n",
    "        x_ticks = np.append(x_ticks, X)\n",
    "        plt.scatter(X, Y)\n",
    "    \n",
    "    plt.xticks(x_ticks)\n",
    "    plt.yticks(y_ticks)\n",
    "    plt.show()"
   ]
  },
  {
   "cell_type": "markdown",
   "metadata": {},
   "source": [
    "### Part (a)"
   ]
  },
  {
   "cell_type": "code",
   "execution_count": 15,
   "metadata": {},
   "outputs": [],
   "source": [
    "A = np.array([[3, 1], [4, 0.2], [5, 0.3], [6, 0.4], \n",
    "                  [7, 0.6], [8, 0.8], [10, 1], [12, 0.8], [14, 0.6] ])\n",
    "A_alpha_cuts_set, A_strong_alpha_cuts_set = find_alpha_cuts(A, interval=0.25)"
   ]
  },
  {
   "cell_type": "code",
   "execution_count": 16,
   "metadata": {},
   "outputs": [
    {
     "data": {
      "image/png": "[encoded data removed]",
      "text/plain": [
       "<Figure size 432x288 with 1 Axes>"
      ]
     },
     "metadata": {
      "needs_background": "light"
     },
     "output_type": "display_data"
    }
   ],
   "source": [
    "plot_scatter_alpha_cuts(A_strong_alpha_cuts_set)"
   ]
  },
  {
   "cell_type": "code",
   "execution_count": 17,
   "metadata": {},
   "outputs": [
    {
     "data": {
      "image/png": "[encoded data removed]",
      "text/plain": [
       "<Figure size 432x288 with 1 Axes>"
      ]
     },
     "metadata": {
      "needs_background": "light"
     },
     "output_type": "display_data"
    }
   ],
   "source": [
    "plot_scatter_alpha_cuts(A_strong_alpha_cuts_set)"
   ]
  },
  {
   "cell_type": "markdown",
   "metadata": {},
   "source": [
    "Because our values for $\\tilde{A}$ was discrete we plotted scatter plot for it."
   ]
  },
  {
   "cell_type": "markdown",
   "metadata": {},
   "source": [
    "### Part (b)\n",
    "\\begin{equation}\n",
    "\\tilde{B} = {(x, \\mu_{\\tilde{B}}(x) = (1+(x-10)^2)^{-1})}\n",
    "\\end{equation}"
   ]
  },
  {
   "cell_type": "code",
   "execution_count": 30,
   "metadata": {},
   "outputs": [],
   "source": [
    "def mu_B(x):\n",
    "    \"\"\"\n",
    "    calculating the membership function for \\tilde{B}\n",
    "    \n",
    "    Parameters:\n",
    "    -----------\n",
    "    x : array_like\n",
    "        array of numerics\n",
    "    \n",
    "    Returns:\n",
    "    --------\n",
    "    memebership_value : array_like\n",
    "        the membership function for fuzzy values\n",
    "    \"\"\"\n",
    "    \n",
    "    memebership_value = 1 + 1 / np.power(x - 10, 2)\n",
    "    \n",
    "    return memebership_value"
   ]
  },
  {
   "cell_type": "code",
   "execution_count": 31,
   "metadata": {},
   "outputs": [
    {
     "name": "stderr",
     "output_type": "stream",
     "text": [
      "<ipython-input-30-61e8455105e8>:16: RuntimeWarning: divide by zero encountered in true_divide\n",
      "  memebership_value = 1 + 1 / np.power(x - 10, 2)\n"
     ]
    },
    {
     "data": {
      "text/plain": [
       "array([[ 1.        ,  1.01234568],\n",
       "       [ 2.        ,  1.015625  ],\n",
       "       [ 3.        ,  1.02040816],\n",
       "       [ 4.        ,  1.02777778],\n",
       "       [ 5.        ,  1.04      ],\n",
       "       [ 6.        ,  1.0625    ],\n",
       "       [ 7.        ,  1.11111111],\n",
       "       [ 8.        ,  1.25      ],\n",
       "       [ 9.        ,  2.        ],\n",
       "       [10.        ,         inf],\n",
       "       [11.        ,  2.        ],\n",
       "       [12.        ,  1.25      ],\n",
       "       [13.        ,  1.11111111],\n",
       "       [14.        ,  1.0625    ]])"
      ]
     },
     "execution_count": 31,
     "metadata": {},
     "output_type": "execute_result"
    }
   ],
   "source": [
    "x = np.arange(1, 15)\n",
    "## create the fuzzy set\n",
    "B = np.stack((x, mu_B(x)), axis=1)\n",
    "B"
   ]
  },
  {
   "cell_type": "code",
   "execution_count": 33,
   "metadata": {},
   "outputs": [],
   "source": [
    "B_alpha_cuts_set, B_strong_alpha_cuts_set = find_alpha_cuts(B, alpha_cuts=[0.3, 0.5, 0.8])"
   ]
  },
  {
   "cell_type": "code",
   "execution_count": 32,
   "metadata": {},
   "outputs": [],
   "source": [
    "# B_alpha_cuts_set"
   ]
  }
 ],
 "metadata": {
  "kernelspec": {
   "display_name": "Python 3",
   "language": "python",
   "name": "python3"
  },
  "language_info": {
   "codemirror_mode": {
    "name": "ipython",
    "version": 3
   },
   "file_extension": ".py",
   "mimetype": "text/x-python",
   "name": "python",
   "nbconvert_exporter": "python",
   "pygments_lexer": "ipython3",
   "version": "3.8.6"
  }
 },
 "nbformat": 4,
 "nbformat_minor": 4
}
