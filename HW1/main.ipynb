{
 "cells": [
  {
   "cell_type": "markdown",
   "metadata": {},
   "source": [
    "# Homework #1\n",
    "**Stu. name:** Seyed Mohammad Amin Dadgar <br>\n",
    "**Stu. id:** 4003624016"
   ]
  },
  {
   "cell_type": "markdown",
   "metadata": {},
   "source": [
    "**Used Tools and Libraries**"
   ]
  },
  {
   "cell_type": "markdown",
   "metadata": {},
   "source": [
    "**Numpy:** NumPy is a library for the Python programming language, adding support for large, multi-dimensional arrays and matrices, along with a large collection of high-level mathematical functions to operate on these arrays. (https://numpy.org/)"
   ]
  },
  {
   "cell_type": "markdown",
   "metadata": {},
   "source": [
    "**Matplotlib**:\n",
    "Matplotlib is a plotting library for the Python programming language and its numerical mathematics extension NumPy. It provides an object-oriented API for embedding plots into applications using general-purpose GUI toolkits like Tkinter, wxPython, Qt, or GTK. (https://matplotlib.org/)    "
   ]
  },
  {
   "cell_type": "markdown",
   "metadata": {},
   "source": [
    "*Note:* The libraries description is copied from https://www.wikipedia.org/."
   ]
  },
  {
   "cell_type": "markdown",
   "metadata": {},
   "source": [
    "# Fuzzy sets and related topics"
   ]
  },
  {
   "cell_type": "markdown",
   "metadata": {},
   "source": [
    "## Ex 2. \n",
    "Question 2 of the second chapter of Zimmermann, 4th ed, 2001 book"
   ]
  },
  {
   "cell_type": "code",
   "execution_count": 1,
   "metadata": {},
   "outputs": [],
   "source": [
    "import numpy as np\n",
    "import matplotlib.pyplot as plt"
   ]
  },
  {
   "cell_type": "code",
   "execution_count": 2,
   "metadata": {},
   "outputs": [],
   "source": [
    "def find_alpha_cuts(A_tilda, **kwargs):\n",
    "    \"\"\"\n",
    "    Find all the alpha-cuts of a fuzzy set\n",
    "    \n",
    "    Parameters:\n",
    "    ------------\n",
    "    A_tilda : array of tuples\n",
    "        The fuzzy set that we are trying to find its alpha cuts\n",
    "    kwargs -> interval : Floating number between `0` and `1`\n",
    "        the alpha-cuts computed from intervals, example `0.25` have five alpha-cuts `0`, `0.25`, `0.5`, `0.75`, `1`\n",
    "        Note: `0` and `1` are excluded!\n",
    "        default is `-1`\n",
    "    kwargs -> alpha_cuts : array_like\n",
    "        if alpha_cuts are sent as input, the intervals variable would be omited\n",
    "        An array of floating points between `0` and `1`, default is None\n",
    "    \n",
    "    **Important**: one of interval or alpha_cuts should be sent as input, otherwise an error would be raised!\n",
    "        \n",
    "    Returns:\n",
    "    --------\n",
    "    alpha_cuts : dictionary\n",
    "        a python dictionary with key of alpha-cuts and values\n",
    "    strong_alpha_cuts : dictionary\n",
    "        a python dictionary with key of alpha-cuts and values\n",
    "    \"\"\"\n",
    "    ## create dictionaries to save later\n",
    "    alpha_cuts = {}\n",
    "    alpha_cuts_strong = {}\n",
    "    \n",
    "    ## intialize the variable\n",
    "    alpha_cuts_interval = []\n",
    "        \n",
    "    if 'interval' in kwargs:\n",
    "        alpha_cuts_interval = np.arange(0, 1, kwargs['interval'])\n",
    "    elif 'alpha_cuts' in kwargs:\n",
    "        alpha_cuts_interval = kwargs['alpha_cuts']\n",
    "    else:\n",
    "        raise \"Error: One of the interval or alpha_cuts variable must have a value! (Not both either)\" \n",
    "        \n",
    "    ## for each alpha-cut\n",
    "    ## step is alpha-cut in each iteration\n",
    "    for step in alpha_cuts_interval:\n",
    "        ## choose the values of the alpha-cut\n",
    "        values = A_tilda[A_tilda[:, 1] >= step]\n",
    "        \n",
    "        ## choose the values of strong alpha-cuts\n",
    "        strong_values = A_tilda[A_tilda[:, 1] > step]\n",
    "    \n",
    "        ## save the alpha-cut set with the key of alpha-cut value\n",
    "        alpha_cuts[step] = values\n",
    "        alpha_cuts_strong[step] = strong_values\n",
    "        \n",
    "    ## the loop does not find the alpha-cut = 1\n",
    "    ## alpha-cut = 1 is actually the whole set!\n",
    "    alpha_cuts[1.0] = A_tilda[A_tilda[:, 1] == 1]\n",
    "        \n",
    "    return alpha_cuts, alpha_cuts_strong"
   ]
  },
  {
   "cell_type": "code",
   "execution_count": 3,
   "metadata": {},
   "outputs": [],
   "source": [
    "def plot_scatter_alpha_cuts(alpha_cut_set):\n",
    "    \"\"\"\n",
    "    Plot the level sets of alpha cuts, using scatter plot\n",
    "    \n",
    "    Parameters:\n",
    "    ----------\n",
    "    alpha_cut_set : fictionary\n",
    "        a dictionary of alpha_cuts related to a fuzzy set\n",
    "        \n",
    "    \"\"\"\n",
    "    \n",
    "    keys = alpha_cut_set.keys()\n",
    "    ## initialize an array to plot the data\n",
    "    plot_data = []\n",
    "    \n",
    "    ## create the (x,y) array to plot the data\n",
    "    for step in keys:\n",
    "        ## find the values with membeship value equal to step\n",
    "        value = alpha_cut_set[step]\n",
    "        value = value[:, 0]\n",
    "        ## get the values count for each alpha levels\n",
    "        values_count = len(value)\n",
    "        \n",
    "        ## create an array of x_values and their alpha set\n",
    "        alpha_level = np.full(values_count, step)\n",
    "        data = np.stack((value, alpha_level), axis=1)\n",
    "        ## the y value is actually the alphas\n",
    "        plot_data.append(data)\n",
    "    \n",
    "    ## convert to a numpy array\n",
    "    plot_data = np.array(plot_data, dtype=object)\n",
    "    \n",
    "    ## create x and y array to save the y_ticks\n",
    "    y_ticks = []\n",
    "    x_ticks = []\n",
    "    for data in plot_data:\n",
    "        X = data[:, 0]\n",
    "        Y = data[:, 1]\n",
    "        \n",
    "        y_ticks = np.append(y_ticks, Y)\n",
    "        x_ticks = np.append(x_ticks, X)\n",
    "        plt.scatter(X, Y)\n",
    "    \n",
    "    plt.xticks(x_ticks)\n",
    "    plt.yticks(y_ticks)\n",
    "    plt.show()"
   ]
  },
  {
   "cell_type": "markdown",
   "metadata": {},
   "source": [
    "### Part (a)"
   ]
  },
  {
   "cell_type": "code",
   "execution_count": 4,
   "metadata": {},
   "outputs": [],
   "source": [
    "A = np.array([[3, 1], [4, 0.2], [5, 0.3], [6, 0.4], \n",
    "                  [7, 0.6], [8, 0.8], [10, 1], [12, 0.8], [14, 0.6] ])\n",
    "A_alpha_cuts_set, A_strong_alpha_cuts_set = find_alpha_cuts(A, interval=0.25)"
   ]
  },
  {
   "cell_type": "markdown",
   "metadata": {},
   "source": [
    "To see how it works we just print one of the alpha-cuts set once."
   ]
  },
  {
   "cell_type": "code",
   "execution_count": 5,
   "metadata": {},
   "outputs": [
    {
     "data": {
      "text/plain": [
       "{0.0: array([[ 3. ,  1. ],\n",
       "        [ 4. ,  0.2],\n",
       "        [ 5. ,  0.3],\n",
       "        [ 6. ,  0.4],\n",
       "        [ 7. ,  0.6],\n",
       "        [ 8. ,  0.8],\n",
       "        [10. ,  1. ],\n",
       "        [12. ,  0.8],\n",
       "        [14. ,  0.6]]),\n",
       " 0.25: array([[ 3. ,  1. ],\n",
       "        [ 5. ,  0.3],\n",
       "        [ 6. ,  0.4],\n",
       "        [ 7. ,  0.6],\n",
       "        [ 8. ,  0.8],\n",
       "        [10. ,  1. ],\n",
       "        [12. ,  0.8],\n",
       "        [14. ,  0.6]]),\n",
       " 0.5: array([[ 3. ,  1. ],\n",
       "        [ 7. ,  0.6],\n",
       "        [ 8. ,  0.8],\n",
       "        [10. ,  1. ],\n",
       "        [12. ,  0.8],\n",
       "        [14. ,  0.6]]),\n",
       " 0.75: array([[ 3. ,  1. ],\n",
       "        [ 8. ,  0.8],\n",
       "        [10. ,  1. ],\n",
       "        [12. ,  0.8]]),\n",
       " 1.0: array([[ 3.,  1.],\n",
       "        [10.,  1.]])}"
      ]
     },
     "execution_count": 5,
     "metadata": {},
     "output_type": "execute_result"
    }
   ],
   "source": [
    "A_alpha_cuts_set"
   ]
  },
  {
   "cell_type": "code",
   "execution_count": 6,
   "metadata": {},
   "outputs": [
    {
     "data": {
      "image/png": "[encoded data removed]",
      "text/plain": [
       "<Figure size 432x288 with 1 Axes>"
      ]
     },
     "metadata": {
      "needs_background": "light"
     },
     "output_type": "display_data"
    }
   ],
   "source": [
    "plot_scatter_alpha_cuts(A_alpha_cuts_set)"
   ]
  },
  {
   "cell_type": "markdown",
   "metadata": {},
   "source": [
    "**Question 3 Answer**: With this alpha levels we can see that $\\tilde{A}$ is *not convex*. The reason is for $\\alpha = 1$ there is no value for $4,5,6,8$ and $8$."
   ]
  },
  {
   "cell_type": "code",
   "execution_count": 7,
   "metadata": {},
   "outputs": [
    {
     "data": {
      "image/png": "[encoded data removed]",
      "text/plain": [
       "<Figure size 432x288 with 1 Axes>"
      ]
     },
     "metadata": {
      "needs_background": "light"
     },
     "output_type": "display_data"
    }
   ],
   "source": [
    "plot_scatter_alpha_cuts(A_strong_alpha_cuts_set)"
   ]
  },
  {
   "cell_type": "markdown",
   "metadata": {},
   "source": [
    "Because our values for $\\tilde{A}$ was discrete we plotted scatter plot for it."
   ]
  },
  {
   "cell_type": "markdown",
   "metadata": {},
   "source": [
    "### Part (b)\n",
    "\\begin{equation}\n",
    "\\tilde{B} = {(x, \\mu_{\\tilde{B}}(x) = (1+(x-10)^2)^{-1})} \\\\\n",
    "\\text{for } \\alpha = 0.3, 0.5, 0.8\n",
    "\\end{equation}"
   ]
  },
  {
   "cell_type": "code",
   "execution_count": 8,
   "metadata": {},
   "outputs": [],
   "source": [
    "def mu_B(x , normalize = True):\n",
    "    \"\"\"\n",
    "    calculating the membership function for \\tilde{B}\n",
    "    \n",
    "    Parameters:\n",
    "    -----------\n",
    "    x : array_like\n",
    "        array of numerics\n",
    "    normalize : boolean\n",
    "        normalize the membership values, default is True\n",
    "    \n",
    "    Returns:\n",
    "    --------\n",
    "    x_tilda : array of tuples\n",
    "        the fuzzy set\n",
    "        an array composed by values and normalized fuzzy membership values\n",
    "    \"\"\"\n",
    "    \n",
    "    membership_value = 1 + 1 / np.power(x - 10, 2)\n",
    "    ## replace the infinities to zero\n",
    "    ## computed by dividing with zero\n",
    "    membership_value = np.where(membership_value == np.inf, 0, membership_value)\n",
    "    \n",
    "    ## normalize\n",
    "    membership_value = normalize_membership(membership_value)\n",
    "    \n",
    "    \n",
    "    x_tilda = np.stack((x, membership_value), axis=1)\n",
    "\n",
    "    return x_tilda\n",
    "def normalize_membership(membership_values):\n",
    "    \"\"\"\n",
    "    normalize the values of membership function of a fuzzy set to [0, 1]\n",
    "    \n",
    "    Parameters:\n",
    "    ------------\n",
    "    membership_values : array_like\n",
    "        membership values for a fuzzy set\n",
    "        \n",
    "    Returns:\n",
    "    ---------\n",
    "    membership_normalized : array_like\n",
    "        membership values of a fuzzy set normalized to the interval [0, 1]\n",
    "    \"\"\"\n",
    "    assert (membership_values >= 0).all(), \"Error: all the membership values must be positive!\"\n",
    "    \n",
    "    ## normalize\n",
    "    membership_normalized = membership_values / max(membership_values)\n",
    "    \n",
    "    return membership_normalized"
   ]
  },
  {
   "cell_type": "code",
   "execution_count": 9,
   "metadata": {},
   "outputs": [
    {
     "name": "stderr",
     "output_type": "stream",
     "text": [
      "<ipython-input-8-08f9839dfa94>:19: RuntimeWarning: divide by zero encountered in true_divide\n",
      "  membership_value = 1 + 1 / np.power(x - 10, 2)\n"
     ]
    },
    {
     "data": {
      "text/plain": [
       "array([[ 1.        ,  0.50617284],\n",
       "       [ 2.        ,  0.5078125 ],\n",
       "       [ 3.        ,  0.51020408],\n",
       "       [ 4.        ,  0.51388889],\n",
       "       [ 5.        ,  0.52      ],\n",
       "       [ 6.        ,  0.53125   ],\n",
       "       [ 7.        ,  0.55555556],\n",
       "       [ 8.        ,  0.625     ],\n",
       "       [ 9.        ,  1.        ],\n",
       "       [10.        ,  0.        ],\n",
       "       [11.        ,  1.        ],\n",
       "       [12.        ,  0.625     ],\n",
       "       [13.        ,  0.55555556],\n",
       "       [14.        ,  0.53125   ]])"
      ]
     },
     "execution_count": 9,
     "metadata": {},
     "output_type": "execute_result"
    }
   ],
   "source": [
    "x = np.arange(1, 15)\n",
    "B_tilde = mu_B(x)\n",
    "B_tilde"
   ]
  },
  {
   "cell_type": "code",
   "execution_count": 10,
   "metadata": {},
   "outputs": [],
   "source": [
    "B_alpha_cuts_set, B_strong_alpha_cuts_set = find_alpha_cuts(B_tilde, alpha_cuts=[0.3, 0.5, 0.8])"
   ]
  },
  {
   "cell_type": "markdown",
   "metadata": {},
   "source": [
    "Again our values for $\\tilde{B}$ is discrete, so we plot a scatter plot for it."
   ]
  },
  {
   "cell_type": "code",
   "execution_count": 11,
   "metadata": {},
   "outputs": [
    {
     "data": {
      "image/png": "[encoded data removed]",
      "text/plain": [
       "<Figure size 432x288 with 1 Axes>"
      ]
     },
     "metadata": {
      "needs_background": "light"
     },
     "output_type": "display_data"
    }
   ],
   "source": [
    "plot_scatter_alpha_cuts(B_alpha_cuts_set)"
   ]
  },
  {
   "cell_type": "markdown",
   "metadata": {},
   "source": [
    "**Question 3 Answer**: With this alpha levels we can see that $\\tilde{B}$ is *convex*!"
   ]
  },
  {
   "cell_type": "code",
   "execution_count": 12,
   "metadata": {},
   "outputs": [
    {
     "data": {
      "image/png": "[encoded data removed]",
      "text/plain": [
       "<Figure size 432x288 with 1 Axes>"
      ]
     },
     "metadata": {
      "needs_background": "light"
     },
     "output_type": "display_data"
    }
   ],
   "source": [
    "plot_scatter_alpha_cuts(B_strong_alpha_cuts_set)"
   ]
  },
  {
   "cell_type": "markdown",
   "metadata": {},
   "source": [
    "### Part (c)\n",
    "\\begin{equation}\n",
    "\\tilde{C} = {\\{x, \\mu_{\\tilde{C}}(x)\\}} \\\\\n",
    "\\mu_{\\tilde{C}} = 0 \\text{ for } x \\leq 10 \\\\\n",
    "\\mu_{\\tilde{C}} = (1+(x-10)^2)^{-1}) \\text{ for } x>10\n",
    "\\end{equation}"
   ]
  },
  {
   "cell_type": "code",
   "execution_count": 13,
   "metadata": {},
   "outputs": [],
   "source": [
    "def mu_C(x , normalize = True):\n",
    "    \"\"\"\n",
    "    calculating the membership function for \\tilde{C}\n",
    "    \n",
    "    Parameters:\n",
    "    -----------\n",
    "    x : array_like\n",
    "        array of numerics\n",
    "    normalize : boolean\n",
    "        normalize the membership values, default is True\n",
    "    \n",
    "    Returns:\n",
    "    --------\n",
    "    x_tilda : array of tuples\n",
    "        the fuzzy set\n",
    "        an array composed by values and normalized fuzzy membership values\n",
    "    \"\"\"\n",
    "    \n",
    "    membership_value = 1 + 1 / np.power(x - 10, 2)\n",
    "    ## replace the infinities to zero\n",
    "    ## computed by dividing with zero\n",
    "    membership_value = np.where(membership_value == np.inf, 0, membership_value)\n",
    "    \n",
    "    ## apply the other condition that all the values less equal than 10 have zero membership\n",
    "    membership_value = np.where(x <= 10, 0, membership_value)\n",
    "\n",
    "    \n",
    "    ## normalize\n",
    "    membership_value = normalize_membership(membership_value)\n",
    "    \n",
    "    \n",
    "    x_tilda = np.stack((x, membership_value), axis=1)\n",
    "\n",
    "    return x_tilda"
   ]
  },
  {
   "cell_type": "code",
   "execution_count": 14,
   "metadata": {},
   "outputs": [
    {
     "name": "stderr",
     "output_type": "stream",
     "text": [
      "<ipython-input-13-ab647626a7f3>:19: RuntimeWarning: divide by zero encountered in true_divide\n",
      "  membership_value = 1 + 1 / np.power(x - 10, 2)\n"
     ]
    },
    {
     "data": {
      "text/plain": [
       "array([[ 0.        ,  0.        ],\n",
       "       [ 1.        ,  0.        ],\n",
       "       [ 2.        ,  0.        ],\n",
       "       [ 3.        ,  0.        ],\n",
       "       [ 4.        ,  0.        ],\n",
       "       [ 5.        ,  0.        ],\n",
       "       [ 6.        ,  0.        ],\n",
       "       [ 7.        ,  0.        ],\n",
       "       [ 8.        ,  0.        ],\n",
       "       [ 9.        ,  0.        ],\n",
       "       [10.        ,  0.        ],\n",
       "       [11.        ,  1.        ],\n",
       "       [12.        ,  0.625     ],\n",
       "       [13.        ,  0.55555556],\n",
       "       [14.        ,  0.53125   ],\n",
       "       [15.        ,  0.52      ],\n",
       "       [16.        ,  0.51388889],\n",
       "       [17.        ,  0.51020408],\n",
       "       [18.        ,  0.5078125 ],\n",
       "       [19.        ,  0.50617284],\n",
       "       [20.        ,  0.505     ],\n",
       "       [21.        ,  0.50413223],\n",
       "       [22.        ,  0.50347222],\n",
       "       [23.        ,  0.50295858],\n",
       "       [24.        ,  0.50255102]])"
      ]
     },
     "execution_count": 14,
     "metadata": {},
     "output_type": "execute_result"
    }
   ],
   "source": [
    "C = np.arange(0, 25)\n",
    "C_tilde = mu_C(C)\n",
    "C_tilde"
   ]
  },
  {
   "cell_type": "code",
   "execution_count": 15,
   "metadata": {},
   "outputs": [],
   "source": [
    "C_alpha_cuts_set, C_strong_alpha_cuts_set = find_alpha_cuts(C_tilde, interval = 0.25)"
   ]
  },
  {
   "cell_type": "code",
   "execution_count": 16,
   "metadata": {},
   "outputs": [
    {
     "data": {
      "image/png": "[encoded data removed]",
      "text/plain": [
       "<Figure size 432x288 with 1 Axes>"
      ]
     },
     "metadata": {
      "needs_background": "light"
     },
     "output_type": "display_data"
    }
   ],
   "source": [
    "plot_scatter_alpha_cuts(C_alpha_cuts_set)"
   ]
  },
  {
   "cell_type": "markdown",
   "metadata": {},
   "source": [
    "**Question 3 Answer**: With this alpha levels we can see that $\\tilde{C}$ is *convex*!"
   ]
  },
  {
   "cell_type": "code",
   "execution_count": 17,
   "metadata": {},
   "outputs": [
    {
     "data": {
      "image/png": "[encoded data removed]",
      "text/plain": [
       "<Figure size 432x288 with 1 Axes>"
      ]
     },
     "metadata": {
      "needs_background": "light"
     },
     "output_type": "display_data"
    }
   ],
   "source": [
    "plot_scatter_alpha_cuts(C_strong_alpha_cuts_set)"
   ]
  },
  {
   "cell_type": "markdown",
   "metadata": {},
   "source": [
    "## Ex 3. \n",
    "Question 3 of the second chapter of Zimmermann, 4th ed, 2001 book"
   ]
  },
  {
   "cell_type": "markdown",
   "metadata": {},
   "source": [
    "The answers for this question is added in above cells."
   ]
  },
  {
   "cell_type": "markdown",
   "metadata": {},
   "source": [
    "## Ex 4. \n",
    "Answer to the question 2 of chapter 4 from the book Ross, 4th ed. 2017."
   ]
  },
  {
   "cell_type": "markdown",
   "metadata": {},
   "source": [
    "To answer this question we need to write some equations.\n",
    "first we know that the equation below is correct.\n",
    "\\begin{equation}\n",
    "r \\leq \\lambda r + (1 - \\lambda) s \\leq s \\\\\n",
    "\\text{OR} \\\\\n",
    "s \\leq \\lambda s + (1 - \\lambda) r \\leq r \\\\\n",
    "\\end{equation}\n",
    "This means that each $\\lambda r + (1 - \\lambda) s$ is between r and s, and because our fuzzy set is convex we can assign the equation below to it\n",
    "\\begin{equation}\n",
    "\\mu_{\\tilde{A}}[r] \\leq \\mu_{\\tilde{A}}[\\lambda r + (1 - \\lambda) s] \\leq \\mu_{\\tilde{A}}[s] \\\\\n",
    "\\text{OR} \\\\\n",
    "\\mu_{\\tilde{A}}[s] \\leq \\mu_{\\tilde{A}}[\\lambda s + (1 - \\lambda) r] \\leq \\mu_{\\tilde{A}}[r]\n",
    "\\end{equation}\n",
    "So using the equation above we can say that the term $\\lambda r + (1 - \\lambda) s$, is always greater equal than minimum of $\\mu_{\\tilde{A}}(r),\\mu_{\\tilde{A}}(s)$. And we can write the equation\n",
    "\\begin{equation}\n",
    "\\mu_{\\tilde{A}}[\\lambda s + (1 - \\lambda) r] \\geq min[\\mu_{\\tilde{A}}(r),\\mu_{\\tilde{A}}(s)]\n",
    "\\end{equation}"
   ]
  },
  {
   "cell_type": "markdown",
   "metadata": {},
   "source": [
    "## Ex 5. \n",
    "Question 4 of the second chapter of Zimmermann, 4th ed, 2001 book"
   ]
  },
  {
   "cell_type": "code",
   "execution_count": 18,
   "metadata": {},
   "outputs": [],
   "source": [
    "def find_cardinality(fuzzy_set):\n",
    "    \"\"\"\n",
    "    Find the cardinality of a fuzzy set \n",
    "    \n",
    "    Parameters:\n",
    "    -----------\n",
    "    fuzzy_set : array of tuples\n",
    "        the fuzzy set is an array of tuples\n",
    "        \n",
    "    Returns:\n",
    "    ---------\n",
    "    cardinality : float\n",
    "        the calculated cardinality of a fuzzy set\n",
    "    \"\"\"\n",
    "    ## the second item in each dimension is the membership function value\n",
    "    cardinality = np.sum(fuzzy_set[:, 1])\n",
    "    return cardinality\n",
    "\n",
    "def find_relative_cardinality(fuzzy_set, whole_set):\n",
    "    \"\"\"\n",
    "    Find the relative cardinality value for the fuzzy set\n",
    "    \n",
    "    Parameters:\n",
    "    -----------\n",
    "    fuzzy_set : array of tuples\n",
    "        the fuzzy set is an array of tuples\n",
    "    whole_set : array of tuples\n",
    "        the whole set we are calculating the fuzzy set relative cardinality with respect to it\n",
    "        \n",
    "    Returns:\n",
    "    ---------\n",
    "    cardinality : float\n",
    "        the calculated cardinality of a fuzzy set\n",
    "    \n",
    "    \"\"\"\n",
    "    \n",
    "    cardinality = np.sum(fuzzy_set[:, 1])\n",
    "    ## the whole set is a set with all membership values equal to one\n",
    "    whole_set_cardinality = len(whole_set)\n",
    "    \n",
    "    return cardinality / whole_set_cardinality\n",
    "\n",
    "def find_fuzziness(fuzzy_set, **kwargs):\n",
    "    \"\"\"\n",
    "    Find how much a fuzzy set is fuzzy\n",
    "    \n",
    "    Parameters:\n",
    "    -----------\n",
    "    fuzzy_set : array of tuples\n",
    "        the fuzzy set is an array of tuples\n",
    "    **kwargs : metrics\n",
    "        entropy : find the fuzziness value using entropy metric, the value sent here would be used as K in entropy equation\n",
    "        distance : find the fuzziness value using minkowski, the value sent here is used as p in the equation\n",
    "        \n",
    "    Returns:\n",
    "    ---------\n",
    "    fuzziness : array_like\n",
    "        if both metrics was requested an array is sent as input (entropy, distance)\n",
    "        else a floating point is returned\n",
    "    \"\"\"\n",
    "    ###### METHOD SELECTION ######\n",
    "    \n",
    "    ## the method is chosen using the kwargs\n",
    "    ## if both was chosen find both values\n",
    "    ## if nothing was sent as kwargs entropy would be used as default\n",
    "    method = ''\n",
    "    if 'entropy' in kwargs and 'distance' in kwargs:\n",
    "        method = 'entropy & distance'\n",
    "    elif 'entropy' in kwargs:\n",
    "        method = 'entropy'\n",
    "    elif 'distance' in kwargs:\n",
    "        method = 'distance'\n",
    "    else:\n",
    "        ## default if nothing was entered\n",
    "        method = 'entropy'\n",
    "        \n",
    "    \n",
    "    ###### Calculate the requested metrics ######\n",
    "    if method == 'entropy':\n",
    "        K = kwargs['entropy']\n",
    "        K = int(K)\n",
    "        entropy = find_entropy(fuzzy_set, K)\n",
    "        \n",
    "        print(f'Fuzziness entropy: {entropy}')\n",
    "        \n",
    "        fuzziness = entropy \n",
    "        \n",
    "    elif method == 'entropy & distance':\n",
    "        K = kwargs['entropy']\n",
    "        K = int(K)\n",
    "        entropy = find_entropy(fuzzy_set, K)\n",
    "        \n",
    "        p = kwargs['distance']\n",
    "        p = int(p)\n",
    "        minkowski = find_minkowski(fuzzy_set, p)\n",
    "        distance = find_distance(fuzzy_set, minkowski)\n",
    "        \n",
    "        print(f'Fuzziness entropy with K={K}: {entropy}')\n",
    "        print(f'Fuzziness Minkowski with p={p}: {distance}')\n",
    "        \n",
    "        fuzziness = [entropy, distance]\n",
    "        \n",
    "    elif method == 'distance':\n",
    "        p = kwargs['distance']\n",
    "        p = int(p)\n",
    "        minkowski = find_minkowski(fuzzy_set, p)\n",
    "        distance = find_distance(fuzzy_set, minkowski)\n",
    "        \n",
    "        print(f'Fuzziness Minkowski with p={p}: {distance}')\n",
    "        \n",
    "        fuzziness = distance\n",
    "        \n",
    "    return fuzziness\n",
    "        \n",
    "\n",
    "def find_distance(fuzzy_set, minkowski):\n",
    "    \"\"\"\n",
    "    find the distance using the minkowski metric\n",
    "    \n",
    "    Parameters:\n",
    "    -----------\n",
    "    fuzzy_set : array of tuples\n",
    "        the fuzzy set is an array of tuples\n",
    "    minkowski : float\n",
    "        the minkowski calculated distance\n",
    "    \n",
    "    Returns:\n",
    "    --------\n",
    "    distance : float\n",
    "        distance calculated using minkowski metric\n",
    "    \"\"\"\n",
    "    ## support size is the count of non-zero membership function values\n",
    "    support_set_size = len(fuzzy_set[fuzzy_set[:, 1] != 0])\n",
    "    \n",
    "    distance = 1 - (minkowski / support_set_size)\n",
    "    \n",
    "    return distance\n",
    "    \n",
    "def find_entropy(fuzzy_set, K):\n",
    "    \"\"\"\n",
    "    find the entropy value for a fuzzy set\n",
    "    \n",
    "    Parameters:\n",
    "    -----------\n",
    "    fuzzy_set : array of tuples\n",
    "        the fuzzy set is an array of tuples\n",
    "    K : float\n",
    "        the hyperparameter to set\n",
    "        \n",
    "    Returns:\n",
    "    ---------\n",
    "    entropy : float\n",
    "        the value of entropy\n",
    "    \"\"\"\n",
    "    ## extract the mu values from the fuzzy set\n",
    "    mu = fuzzy_set[:, 1]\n",
    "    log_mu = np.log(mu)\n",
    "    \n",
    "    ## find the element wise multiply  \n",
    "    values = np.multiply(mu, log_mu)\n",
    "    entropy = -K * np.sum(values)\n",
    "    \n",
    "    return entropy\n",
    "\n",
    "def find_minkowski(fuzzy_set, p):\n",
    "    \"\"\"\n",
    "    find the minkowski distance, using the complement of the set\n",
    "    \n",
    "    Parameters:\n",
    "    -----------\n",
    "    fuzzy_set : array of tuples\n",
    "        the fuzzy set is an array of tuples\n",
    "    p : float\n",
    "        the hyperparameter to set for the function\n",
    "        \n",
    "    Returns:\n",
    "    ---------\n",
    "    minkowski : float\n",
    "        the minkowski distance\n",
    "    \"\"\"\n",
    "    ## extract the mu values from the fuzzy set\n",
    "    mu = fuzzy_set[:, 1]\n",
    "    ## the complement of the set membership values\n",
    "    mu_C = 1 - mu\n",
    "    \n",
    "    ## differenc of both\n",
    "    diff = abs(mu - mu_C)\n",
    "    ## element-wise power\n",
    "    diff = np.power(diff, p)\n",
    "    \n",
    "    value = np.sum(diff)\n",
    "    \n",
    "    ## again another power is needed\n",
    "    minkowski = np.power(value, 1/p)\n",
    "    \n",
    "    return minkowski"
   ]
  },
  {
   "cell_type": "markdown",
   "metadata": {},
   "source": [
    "### Part (a)"
   ]
  },
  {
   "cell_type": "code",
   "execution_count": 19,
   "metadata": {},
   "outputs": [],
   "source": [
    "A_tilde = np.array([[3, 1], [4, 0.2], [5, 0.3], [6, 0.4], \n",
    "                  [7, 0.6], [8, 0.8], [10, 1], [12, 0.8], [14, 0.6] ])\n",
    "## X is our whole set\n",
    "X = np.arange(1, 11)"
   ]
  },
  {
   "cell_type": "code",
   "execution_count": 20,
   "metadata": {},
   "outputs": [
    {
     "data": {
      "text/plain": [
       "5.699999999999999"
      ]
     },
     "execution_count": 20,
     "metadata": {},
     "output_type": "execute_result"
    }
   ],
   "source": [
    "find_cardinality(A_tilde)"
   ]
  },
  {
   "cell_type": "code",
   "execution_count": 21,
   "metadata": {},
   "outputs": [
    {
     "data": {
      "text/plain": [
       "0.57"
      ]
     },
     "execution_count": 21,
     "metadata": {},
     "output_type": "execute_result"
    }
   ],
   "source": [
    "find_relative_cardinality(A_tilde, X)"
   ]
  },
  {
   "cell_type": "code",
   "execution_count": 22,
   "metadata": {},
   "outputs": [
    {
     "name": "stdout",
     "output_type": "stream",
     "text": [
      "Fuzziness entropy with K=1: 2.0196161471561873\n",
      "Fuzziness Minkowski with p=2: 0.7963299691130737\n"
     ]
    },
    {
     "data": {
      "text/plain": [
       "[2.0196161471561873, 0.7963299691130737]"
      ]
     },
     "execution_count": 22,
     "metadata": {},
     "output_type": "execute_result"
    }
   ],
   "source": [
    "find_fuzziness(A_tilde, entropy=1, distance = 2)"
   ]
  },
  {
   "cell_type": "markdown",
   "metadata": {},
   "source": [
    "### Part (b)"
   ]
  },
  {
   "cell_type": "code",
   "execution_count": 23,
   "metadata": {},
   "outputs": [],
   "source": [
    "B_tilde = np.array([[2, 0.4], [3, 0.6], [4, 0.8], [5, 1],\n",
    "                    [6, 0.8], [7, 0.6], [8, 0.4]])"
   ]
  },
  {
   "cell_type": "code",
   "execution_count": 24,
   "metadata": {},
   "outputs": [
    {
     "data": {
      "text/plain": [
       "4.6"
      ]
     },
     "execution_count": 24,
     "metadata": {},
     "output_type": "execute_result"
    }
   ],
   "source": [
    "find_cardinality(B_tilde)"
   ]
  },
  {
   "cell_type": "code",
   "execution_count": 25,
   "metadata": {},
   "outputs": [
    {
     "data": {
      "text/plain": [
       "0.45999999999999996"
      ]
     },
     "execution_count": 25,
     "metadata": {},
     "output_type": "execute_result"
    }
   ],
   "source": [
    "find_relative_cardinality(B_tilde, X)"
   ]
  },
  {
   "cell_type": "code",
   "execution_count": 26,
   "metadata": {},
   "outputs": [
    {
     "name": "stdout",
     "output_type": "stream",
     "text": [
      "Fuzziness entropy with K=1: 1.7030530161212485\n",
      "Fuzziness Minkowski with p=2: 0.8041241542742559\n"
     ]
    },
    {
     "data": {
      "text/plain": [
       "[1.7030530161212485, 0.8041241542742559]"
      ]
     },
     "execution_count": 26,
     "metadata": {},
     "output_type": "execute_result"
    }
   ],
   "source": [
    "find_fuzziness(B_tilde, entropy=1, distance = 2)"
   ]
  },
  {
   "cell_type": "markdown",
   "metadata": {},
   "source": [
    "### Part (c)"
   ]
  },
  {
   "cell_type": "code",
   "execution_count": 27,
   "metadata": {},
   "outputs": [],
   "source": [
    "C_tilde = np.array([[2, 0.4], [4, 0.8], [5, 1], [7, 0.6]])"
   ]
  },
  {
   "cell_type": "code",
   "execution_count": 28,
   "metadata": {},
   "outputs": [
    {
     "data": {
      "text/plain": [
       "2.8000000000000003"
      ]
     },
     "execution_count": 28,
     "metadata": {},
     "output_type": "execute_result"
    }
   ],
   "source": [
    "find_cardinality(C_tilde)"
   ]
  },
  {
   "cell_type": "code",
   "execution_count": 29,
   "metadata": {},
   "outputs": [
    {
     "data": {
      "text/plain": [
       "0.28"
      ]
     },
     "execution_count": 29,
     "metadata": {},
     "output_type": "execute_result"
    }
   ],
   "source": [
    "find_relative_cardinality(C_tilde, X)"
   ]
  },
  {
   "cell_type": "code",
   "execution_count": 30,
   "metadata": {},
   "outputs": [
    {
     "name": "stdout",
     "output_type": "stream",
     "text": [
      "Fuzziness entropy with K=1: 0.8515265080606242\n",
      "Fuzziness Minkowski with p=2: 0.7\n"
     ]
    },
    {
     "data": {
      "text/plain": [
       "[0.8515265080606242, 0.7]"
      ]
     },
     "execution_count": 30,
     "metadata": {},
     "output_type": "execute_result"
    }
   ],
   "source": [
    "find_fuzziness(C_tilde, entropy=1, distance = 2)"
   ]
  },
  {
   "cell_type": "markdown",
   "metadata": {},
   "source": [
    "# Fuzzy Operations"
   ]
  },
  {
   "cell_type": "markdown",
   "metadata": {},
   "source": [
    "## Question 2, chapter 2, Ross, 4th ed. 2017"
   ]
  },
  {
   "cell_type": "markdown",
   "metadata": {},
   "source": [
    "The tensile strenghts are as\n",
    "\\begin{equation}\n",
    "\\tilde{A} = \\{(1, 0.4), (2, 0.35), (3 , 0.5), (4, 0.6)\\} \\\\\n",
    "\\tilde{B} = \\{(1, 0.7), (2, 0.75), (3 , 0.65), (4, 0.8)\\} \n",
    "\\end{equation}"
   ]
  },
  {
   "cell_type": "markdown",
   "metadata": {},
   "source": [
    "### Part (a)\n",
    "\\begin{equation}\n",
    "\\tilde{A} \\cap \\tilde{B}\n",
    "\\end{equation}\n",
    "We know that intersect of a fuzzy set, return the minimum membership values from both sets, so the answer is\n",
    "\\begin{equation}\n",
    "\\tilde{A} \\cap \\tilde{B} = \\{(1, 0.4), (2, 0.35), (3 , 0.5), (4, 0.6)\\} \n",
    "\\end{equation}"
   ]
  },
  {
   "cell_type": "markdown",
   "metadata": {},
   "source": [
    "### Part (b)\n",
    "\\begin{equation}\n",
    "\\tilde{A} \\cup \\tilde{B}\n",
    "\\end{equation}\n",
    "And for union the membership for values is the maximum membership value of the both sets.\n",
    "\n",
    "\\begin{equation}\n",
    "\\tilde{A} \\cup \\tilde{B} =\\{(1, 0.7), (2, 0.75), (3 , 0.65), (4, 0.8)\\}\n",
    "\\end{equation}"
   ]
  },
  {
   "cell_type": "markdown",
   "metadata": {},
   "source": [
    "### Part (c)\n",
    "TODO"
   ]
  },
  {
   "cell_type": "markdown",
   "metadata": {},
   "source": [
    "### Part (d)\n",
    "\\begin{equation}\n",
    "\\tilde{A} - \\tilde{B}\n",
    "\\end{equation}\n",
    "First we need to convert minus into intersect\n",
    "\\begin{equation}\n",
    "\\tilde{A} - \\tilde{B} = \\tilde{A} \\cap \\neg\\tilde{B}\n",
    "\\end{equation}\n",
    "Then it's easy to find the answer, first we calculate $\\neg\\tilde{B}$ and then we calculate the intersect with $\\tilde{A}$."
   ]
  },
  {
   "cell_type": "markdown",
   "metadata": {},
   "source": [
    "So $\\neg\\tilde{B}$ can be written as\n",
    "\\begin{equation}\n",
    "\\neg\\tilde{B} = \\{(1, 0.3), (2, 0.25), (3 , 0.65), (4, 0.8)\\} \n",
    "\\end{equation}\n",
    "And the intersection of $\\tilde{A}$ with $\\neg\\tilde{B}$ is the minimum membership functions of both sets.\n",
    "\\begin{equation}\n",
    "\\tilde{A} \\cap \\neg\\tilde{B} = \\{(1, 0.3), (2, 0.25), (3 , 0.35), (4, 0.2)\\} = \\tilde{A} - \\tilde{B}\n",
    "\\end{equation}"
   ]
  },
  {
   "cell_type": "markdown",
   "metadata": {},
   "source": [
    "## Ex 6. \n",
    "Answer to the question 8, chapter 2 from the book Ross, 4th ed. 2017"
   ]
  },
  {
   "cell_type": "code",
   "execution_count": 31,
   "metadata": {},
   "outputs": [],
   "source": [
    "def membership(x, mu, sigma):\n",
    "    \"\"\"\n",
    "    membership function to calculate membership values for x, with mu and sigma parameters\n",
    "    \n",
    "    Parameters:\n",
    "    -----------\n",
    "    x : array_like\n",
    "        set of numeric values\n",
    "    mu, sigma : integer\n",
    "        hyperparameters for membership function\n",
    "        \n",
    "    Returns:\n",
    "    --------\n",
    "    fuzzy_set : array_like\n",
    "        an array of tuples representing the fuzzy set\n",
    "    \"\"\"\n",
    "    ## find the membership values\n",
    "    memberships = np.exp(-((x-mu)**2)/ (2* sigma **2) )\n",
    "    fuzzy_set = np.stack((x, memberships), axis=1 )\n",
    "    \n",
    "    return fuzzy_set"
   ]
  },
  {
   "cell_type": "code",
   "execution_count": 32,
   "metadata": {},
   "outputs": [],
   "source": [
    "X = np.arange(0, 11)\n",
    "A_tilde = membership(X, 4, 2)\n",
    "B_tilde = membership(X, 8, 2)"
   ]
  },
  {
   "cell_type": "code",
   "execution_count": 33,
   "metadata": {},
   "outputs": [
    {
     "data": {
      "text/plain": [
       "array([[ 0.        ,  0.13533528],\n",
       "       [ 1.        ,  0.32465247],\n",
       "       [ 2.        ,  0.60653066],\n",
       "       [ 3.        ,  0.8824969 ],\n",
       "       [ 4.        ,  1.        ],\n",
       "       [ 5.        ,  0.8824969 ],\n",
       "       [ 6.        ,  0.60653066],\n",
       "       [ 7.        ,  0.32465247],\n",
       "       [ 8.        ,  0.13533528],\n",
       "       [ 9.        ,  0.04393693],\n",
       "       [10.        ,  0.011109  ]])"
      ]
     },
     "execution_count": 33,
     "metadata": {},
     "output_type": "execute_result"
    }
   ],
   "source": [
    "A_tilde"
   ]
  },
  {
   "cell_type": "code",
   "execution_count": 34,
   "metadata": {},
   "outputs": [
    {
     "data": {
      "text/plain": [
       "array([[0.00000000e+00, 3.35462628e-04],\n",
       "       [1.00000000e+00, 2.18749112e-03],\n",
       "       [2.00000000e+00, 1.11089965e-02],\n",
       "       [3.00000000e+00, 4.39369336e-02],\n",
       "       [4.00000000e+00, 1.35335283e-01],\n",
       "       [5.00000000e+00, 3.24652467e-01],\n",
       "       [6.00000000e+00, 6.06530660e-01],\n",
       "       [7.00000000e+00, 8.82496903e-01],\n",
       "       [8.00000000e+00, 1.00000000e+00],\n",
       "       [9.00000000e+00, 8.82496903e-01],\n",
       "       [1.00000000e+01, 6.06530660e-01]])"
      ]
     },
     "execution_count": 34,
     "metadata": {},
     "output_type": "execute_result"
    }
   ],
   "source": [
    "B_tilde"
   ]
  },
  {
   "cell_type": "code",
   "execution_count": 35,
   "metadata": {},
   "outputs": [],
   "source": [
    "def intersect_fuzzy(A_tilde, B_tilde):\n",
    "    \"\"\"\n",
    "    Intersect two fuzzy sets\n",
    "    A intersect B\n",
    "    \n",
    "    Parameters:\n",
    "    -----------\n",
    "    A_tilde : array of tuples\n",
    "        the first fuzzy set\n",
    "    B_tilde : array of tuples\n",
    "        the second fuzzy set\n",
    "        \n",
    "    Returns:\n",
    "    --------\n",
    "    fuzzy_set : array of tuples\n",
    "        the result of A_tilde intersect B_tilde\n",
    "    \"\"\"\n",
    "    fuzzy_set = []\n",
    "    for value in A_tilde[:, 0]:\n",
    "        ## get the memberships for each value\n",
    "        A_var = A_tilde[A_tilde[:, 0] == value][0, 1]\n",
    "        B_var = A_tilde[A_tilde[:, 0] == value][0, 1]\n",
    "        \n",
    "        fuzzy_set.append([value, min(A_var, B_var)])\n",
    "    return fuzzy_set\n",
    "\n",
    "def union_fuzzy(A_tilde, B_tilde):\n",
    "    \"\"\"\n",
    "    union two fuzzy sets\n",
    "    A union B\n",
    "    \n",
    "    Parameters:\n",
    "    -----------\n",
    "    A_tilde : array of tuples\n",
    "        the first fuzzy set\n",
    "    B_tilde : array of tuples\n",
    "        the second fuzzy set\n",
    "        \n",
    "    Returns:\n",
    "    --------\n",
    "    fuzzy_set : array of tuples\n",
    "        the result of A_tilde union B_tilde\n",
    "    \"\"\"\n",
    "    fuzzy_set = []\n",
    "    for value in A_tilde[:, 0]:\n",
    "        ## get the memberships for each value\n",
    "        A_var = A_tilde[A_tilde[:, 0] == value][0, 1]\n",
    "        B_var = A_tilde[A_tilde[:, 0] == value][0, 1]\n",
    "        \n",
    "        fuzzy_set.append([value, max(A_var, B_var)])\n",
    "    return fuzzy_set\n",
    "\n",
    "def complement_fuzzy(A_tilde):\n",
    "    \"\"\"\n",
    "    complement of a fuzzy sets\n",
    "    return not A\n",
    "    \n",
    "    Parameters:\n",
    "    -----------\n",
    "    A_tilde : array of tuples\n",
    "        the fuzzy set to be complemented\n",
    "        \n",
    "    Returns:\n",
    "    --------\n",
    "    fuzzy_set : array of tuples\n",
    "        the result of not A_tilde\n",
    "    \"\"\"\n",
    "    memberships = 1 - A_tilde[:, 1]\n",
    "    fuzzy_set = np.stack((A_tilde[:, 0], memberships), axis = 1)\n",
    "    return fuzzy_set\n",
    "\n",
    "def difference_fuzzy(A_tilde, B_tilde):\n",
    "    \"\"\"\n",
    "    find the difference between two fuzzy sets\n",
    "    A - B\n",
    "    \n",
    "    Parameters:\n",
    "    -----------\n",
    "    A_tilde : array of tuples\n",
    "        the first fuzzy set\n",
    "    B_tilde : array of tuples\n",
    "        the second fuzzy set\n",
    "        \n",
    "    Returns:\n",
    "    --------\n",
    "    fuzzy_set : array of tuples\n",
    "        the result of A_tilde - B_tilde\n",
    "    \"\"\"\n",
    "    ## A - B is equal to A intersect not B\n",
    "    \n",
    "    not_B_tilde = complement_fuzzy(B_tilde)\n",
    "    fuzzy_set = intersect_fuzzy(A_tilde, not_B_tilde)\n",
    "    return fuzzy_set"
   ]
  },
  {
   "cell_type": "code",
   "execution_count": 36,
   "metadata": {},
   "outputs": [
    {
     "data": {
      "text/plain": [
       "[[0.0, 0.1353352832366127],\n",
       " [1.0, 0.32465246735834974],\n",
       " [2.0, 0.6065306597126334],\n",
       " [3.0, 0.8824969025845955],\n",
       " [4.0, 1.0],\n",
       " [5.0, 0.8824969025845955],\n",
       " [6.0, 0.6065306597126334],\n",
       " [7.0, 0.32465246735834974],\n",
       " [8.0, 0.1353352832366127],\n",
       " [9.0, 0.04393693362340742],\n",
       " [10.0, 0.011108996538242306]]"
      ]
     },
     "execution_count": 36,
     "metadata": {},
     "output_type": "execute_result"
    }
   ],
   "source": [
    "intersect_fuzzy(A_tilde, B_tilde)"
   ]
  },
  {
   "cell_type": "code",
   "execution_count": 37,
   "metadata": {},
   "outputs": [
    {
     "data": {
      "text/plain": [
       "array([[ 0.        ,  0.86466472],\n",
       "       [ 1.        ,  0.67534753],\n",
       "       [ 2.        ,  0.39346934],\n",
       "       [ 3.        ,  0.1175031 ],\n",
       "       [ 4.        ,  0.        ],\n",
       "       [ 5.        ,  0.1175031 ],\n",
       "       [ 6.        ,  0.39346934],\n",
       "       [ 7.        ,  0.67534753],\n",
       "       [ 8.        ,  0.86466472],\n",
       "       [ 9.        ,  0.95606307],\n",
       "       [10.        ,  0.988891  ]])"
      ]
     },
     "execution_count": 37,
     "metadata": {},
     "output_type": "execute_result"
    }
   ],
   "source": [
    "complement_fuzzy(A_tilde)"
   ]
  },
  {
   "cell_type": "code",
   "execution_count": 38,
   "metadata": {},
   "outputs": [
    {
     "data": {
      "text/plain": [
       "[[0.0, 0.1353352832366127],\n",
       " [1.0, 0.32465246735834974],\n",
       " [2.0, 0.6065306597126334],\n",
       " [3.0, 0.8824969025845955],\n",
       " [4.0, 1.0],\n",
       " [5.0, 0.8824969025845955],\n",
       " [6.0, 0.6065306597126334],\n",
       " [7.0, 0.32465246735834974],\n",
       " [8.0, 0.1353352832366127],\n",
       " [9.0, 0.04393693362340742],\n",
       " [10.0, 0.011108996538242306]]"
      ]
     },
     "execution_count": 38,
     "metadata": {},
     "output_type": "execute_result"
    }
   ],
   "source": [
    "difference_fuzzy(A_tilde, B_tilde)"
   ]
  }
 ],
 "metadata": {
  "kernelspec": {
   "display_name": "Python 3",
   "language": "python",
   "name": "python3"
  },
  "language_info": {
   "codemirror_mode": {
    "name": "ipython",
    "version": 3
   },
   "file_extension": ".py",
   "mimetype": "text/x-python",
   "name": "python",
   "nbconvert_exporter": "python",
   "pygments_lexer": "ipython3",
   "version": "3.8.6"
  }
 },
 "nbformat": 4,
 "nbformat_minor": 4
}
