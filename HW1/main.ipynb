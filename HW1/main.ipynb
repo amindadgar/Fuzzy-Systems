{
 "cells": [
  {
   "cell_type": "markdown",
   "metadata": {},
   "source": [
    "# Homework #1 Codes\n",
    "**Stu. name:** Seyed Mohammad Amin Dadgar <br>\n",
    "**Stu. id:** 4003624016"
   ]
  },
  {
   "cell_type": "markdown",
   "metadata": {},
   "source": [
    "## Question 2 of the second chapter of Zimmermann, 4th ed, 2001 book"
   ]
  },
  {
   "cell_type": "code",
   "execution_count": 1,
   "metadata": {},
   "outputs": [],
   "source": [
    "import numpy as np\n",
    "import matplotlib.pyplot as plt"
   ]
  },
  {
   "cell_type": "code",
   "execution_count": 2,
   "metadata": {},
   "outputs": [],
   "source": [
    "def find_alpha_cuts(A_tilda, **kwargs):\n",
    "    \"\"\"\n",
    "    Find all the alpha-cuts of a fuzzy set\n",
    "    \n",
    "    Parameters:\n",
    "    ------------\n",
    "    A_tilda : array of tuples\n",
    "        The fuzzy set that we are trying to find its alpha cuts\n",
    "    kwargs -> interval : Floating number between `0` and `1`\n",
    "        the alpha-cuts computed from intervals, example `0.25` have five alpha-cuts `0`, `0.25`, `0.5`, `0.75`, `1`\n",
    "        Note: `0` and `1` are excluded!\n",
    "        default is `-1`\n",
    "    kwargs -> alpha_cuts : array_like\n",
    "        if alpha_cuts are sent as input, the intervals variable would be omited\n",
    "        An array of floating points between `0` and `1`, default is None\n",
    "    \n",
    "    **Important**: one of interval or alpha_cuts should be sent as input, otherwise an error would be raised!\n",
    "        \n",
    "    Returns:\n",
    "    --------\n",
    "    alpha_cuts : dictionary\n",
    "        a python dictionary with key of alpha-cuts and values\n",
    "    strong_alpha_cuts : dictionary\n",
    "        a python dictionary with key of alpha-cuts and values\n",
    "    \"\"\"\n",
    "    ## create dictionaries to save later\n",
    "    alpha_cuts = {}\n",
    "    alpha_cuts_strong = {}\n",
    "    \n",
    "    ## intialize the variable\n",
    "    alpha_cuts_interval = []\n",
    "        \n",
    "    if 'interval' in kwargs:\n",
    "        alpha_cuts_interval = np.arange(0, 1, kwargs['interval'])\n",
    "    elif 'alpha_cuts' in kwargs:\n",
    "        alpha_cuts_interval = kwargs['alpha_cuts']\n",
    "    else:\n",
    "        raise \"Error: One of the interval or alpha_cuts variable must have a value! (Not both either)\" \n",
    "        \n",
    "    ## for each alpha-cut\n",
    "    ## step is alpha-cut in each iteration\n",
    "    for step in alpha_cuts_interval:\n",
    "        ## choose the values of the alpha-cut\n",
    "        values = A_tilda[A_tilda[:, 1] >= step]\n",
    "        \n",
    "        ## choose the values of strong alpha-cuts\n",
    "        strong_values = A_tilda[A_tilda[:, 1] > step]\n",
    "    \n",
    "        ## save the alpha-cut set with the key of alpha-cut value\n",
    "        alpha_cuts[step] = values\n",
    "        alpha_cuts_strong[step] = strong_values\n",
    "        \n",
    "    ## the loop does not find the alpha-cut = 1\n",
    "    ## alpha-cut = 1 is actually the whole set!\n",
    "    alpha_cuts[1.0] = A_tilda\n",
    "        \n",
    "    return alpha_cuts, alpha_cuts_strong"
   ]
  },
  {
   "cell_type": "code",
   "execution_count": 3,
   "metadata": {},
   "outputs": [],
   "source": [
    "def plot_scatter_alpha_cuts(alpha_cut_set):\n",
    "    \"\"\"\n",
    "    Plot the level sets of alpha cuts, using scatter plot\n",
    "    \n",
    "    Parameters:\n",
    "    ----------\n",
    "    alpha_cut_set : fictionary\n",
    "        a dictionary of alpha_cuts related to a fuzzy set\n",
    "        \n",
    "    \"\"\"\n",
    "    \n",
    "    keys = alpha_cut_set.keys()\n",
    "    ## initialize an array to plot the data\n",
    "    plot_data = []\n",
    "    \n",
    "    ## create the (x,y) array to plot the data\n",
    "    for step in keys:\n",
    "        ## find the values with membeship value equal to step\n",
    "        value = alpha_cut_set[step]\n",
    "        value = value[:, 0]\n",
    "        ## get the values count for each alpha levels\n",
    "        values_count = len(value)\n",
    "        \n",
    "        ## create an array of x_values and their alpha set\n",
    "        alpha_level = np.full(values_count, step)\n",
    "        data = np.stack((value, alpha_level), axis=1)\n",
    "        ## the y value is actually the alphas\n",
    "        plot_data.append(data)\n",
    "    \n",
    "    ## convert to a numpy array\n",
    "    plot_data = np.array(plot_data, dtype=object)\n",
    "    \n",
    "    ## create a y array to save the y_ticks\n",
    "    y_ticks = []\n",
    "    x_ticks = []\n",
    "    for data in plot_data:\n",
    "        X = data[:, 0]\n",
    "        Y = data[:, 1]\n",
    "        \n",
    "        y_ticks = np.append(y_ticks, Y)\n",
    "        x_ticks = np.append(x_ticks, X)\n",
    "        plt.scatter(X, Y)\n",
    "    \n",
    "    plt.xticks(x_ticks)\n",
    "    plt.yticks(y_ticks)\n",
    "    plt.show()"
   ]
  },
  {
   "cell_type": "markdown",
   "metadata": {},
   "source": [
    "### Part (a)"
   ]
  },
  {
   "cell_type": "code",
   "execution_count": 4,
   "metadata": {},
   "outputs": [],
   "source": [
    "A = np.array([[3, 1], [4, 0.2], [5, 0.3], [6, 0.4], \n",
    "                  [7, 0.6], [8, 0.8], [10, 1], [12, 0.8], [14, 0.6] ])\n",
    "A_alpha_cuts_set, A_strong_alpha_cuts_set = find_alpha_cuts(A, interval=0.25)"
   ]
  },
  {
   "cell_type": "markdown",
   "metadata": {},
   "source": [
    "To see how it works we just print one of the alpha-cuts set once."
   ]
  },
  {
   "cell_type": "code",
   "execution_count": 47,
   "metadata": {},
   "outputs": [
    {
     "data": {
      "text/plain": [
       "{0.0: array([[ 3. ,  1. ],\n",
       "        [ 4. ,  0.2],\n",
       "        [ 5. ,  0.3],\n",
       "        [ 6. ,  0.4],\n",
       "        [ 7. ,  0.6],\n",
       "        [ 8. ,  0.8],\n",
       "        [10. ,  1. ],\n",
       "        [12. ,  0.8],\n",
       "        [14. ,  0.6]]),\n",
       " 0.25: array([[ 3. ,  1. ],\n",
       "        [ 5. ,  0.3],\n",
       "        [ 6. ,  0.4],\n",
       "        [ 7. ,  0.6],\n",
       "        [ 8. ,  0.8],\n",
       "        [10. ,  1. ],\n",
       "        [12. ,  0.8],\n",
       "        [14. ,  0.6]]),\n",
       " 0.5: array([[ 3. ,  1. ],\n",
       "        [ 7. ,  0.6],\n",
       "        [ 8. ,  0.8],\n",
       "        [10. ,  1. ],\n",
       "        [12. ,  0.8],\n",
       "        [14. ,  0.6]]),\n",
       " 0.75: array([[ 3. ,  1. ],\n",
       "        [ 8. ,  0.8],\n",
       "        [10. ,  1. ],\n",
       "        [12. ,  0.8]]),\n",
       " 1.0: array([[ 3. ,  1. ],\n",
       "        [ 4. ,  0.2],\n",
       "        [ 5. ,  0.3],\n",
       "        [ 6. ,  0.4],\n",
       "        [ 7. ,  0.6],\n",
       "        [ 8. ,  0.8],\n",
       "        [10. ,  1. ],\n",
       "        [12. ,  0.8],\n",
       "        [14. ,  0.6]])}"
      ]
     },
     "execution_count": 47,
     "metadata": {},
     "output_type": "execute_result"
    }
   ],
   "source": [
    "A_alpha_cuts_set"
   ]
  },
  {
   "cell_type": "code",
   "execution_count": 46,
   "metadata": {},
   "outputs": [
    {
     "data": {
      "image/png": "[encoded data removed]",
      "text/plain": [
       "<Figure size 432x288 with 1 Axes>"
      ]
     },
     "metadata": {
      "needs_background": "light"
     },
     "output_type": "display_data"
    }
   ],
   "source": [
    "plot_scatter_alpha_cuts(A_alpha_cuts_set)"
   ]
  },
  {
   "cell_type": "code",
   "execution_count": 6,
   "metadata": {},
   "outputs": [
    {
     "data": {
      "image/png": "[encoded data removed]",
      "text/plain": [
       "<Figure size 432x288 with 1 Axes>"
      ]
     },
     "metadata": {
      "needs_background": "light"
     },
     "output_type": "display_data"
    }
   ],
   "source": [
    "plot_scatter_alpha_cuts(A_strong_alpha_cuts_set)"
   ]
  },
  {
   "cell_type": "markdown",
   "metadata": {},
   "source": [
    "Because our values for $\\tilde{A}$ was discrete we plotted scatter plot for it."
   ]
  },
  {
   "cell_type": "markdown",
   "metadata": {},
   "source": [
    "### Part (b)\n",
    "\\begin{equation}\n",
    "\\tilde{B} = {(x, \\mu_{\\tilde{B}}(x) = (1+(x-10)^2)^{-1})} \\\\\n",
    "\\text{for } \\alpha = 0.3, 0.5, 0.8\n",
    "\\end{equation}"
   ]
  },
  {
   "cell_type": "code",
   "execution_count": 28,
   "metadata": {},
   "outputs": [],
   "source": [
    "def mu_B(x , normalize = True):\n",
    "    \"\"\"\n",
    "    calculating the membership function for \\tilde{B}\n",
    "    \n",
    "    Parameters:\n",
    "    -----------\n",
    "    x : array_like\n",
    "        array of numerics\n",
    "    normalize : boolean\n",
    "        normalize the membership values, default is True\n",
    "    \n",
    "    Returns:\n",
    "    --------\n",
    "    x_tilda : array of tuples\n",
    "        the fuzzy set\n",
    "        an array composed by values and normalized fuzzy membership values\n",
    "    \"\"\"\n",
    "    \n",
    "    membership_value = 1 + 1 / np.power(x - 10, 2)\n",
    "    ## replace the infinities to zero\n",
    "    ## computed by dividing with zero\n",
    "    membership_value = np.where(membership_value == np.inf, 0, membership_value)\n",
    "    \n",
    "    ## normalize\n",
    "    membership_value = normalize_membership(membership_value)\n",
    "    \n",
    "    \n",
    "    x_tilda = np.stack((x, membership_value), axis=1)\n",
    "\n",
    "    return x_tilda\n",
    "def normalize_membership(membership_values):\n",
    "    \"\"\"\n",
    "    normalize the values of membership function of a fuzzy set to [0, 1]\n",
    "    \n",
    "    Parameters:\n",
    "    ------------\n",
    "    membership_values : array_like\n",
    "        membership values for a fuzzy set\n",
    "        \n",
    "    Returns:\n",
    "    ---------\n",
    "    membership_normalized : array_like\n",
    "        membership values of a fuzzy set normalized to the interval [0, 1]\n",
    "    \"\"\"\n",
    "    assert (membership_values >= 0).all(), \"Error: all the membership values must be positive!\"\n",
    "    \n",
    "    ## normalize\n",
    "    membership_normalized = membership_values / max(membership_values)\n",
    "    \n",
    "    return membership_normalized"
   ]
  },
  {
   "cell_type": "code",
   "execution_count": 36,
   "metadata": {},
   "outputs": [
    {
     "name": "stderr",
     "output_type": "stream",
     "text": [
      "<ipython-input-28-08f9839dfa94>:19: RuntimeWarning: divide by zero encountered in true_divide\n",
      "  membership_value = 1 + 1 / np.power(x - 10, 2)\n"
     ]
    },
    {
     "data": {
      "text/plain": [
       "array([[ 1.        ,  0.50617284],\n",
       "       [ 2.        ,  0.5078125 ],\n",
       "       [ 3.        ,  0.51020408],\n",
       "       [ 4.        ,  0.51388889],\n",
       "       [ 5.        ,  0.52      ],\n",
       "       [ 6.        ,  0.53125   ],\n",
       "       [ 7.        ,  0.55555556],\n",
       "       [ 8.        ,  0.625     ],\n",
       "       [ 9.        ,  1.        ],\n",
       "       [10.        ,  0.        ],\n",
       "       [11.        ,  1.        ],\n",
       "       [12.        ,  0.625     ],\n",
       "       [13.        ,  0.55555556],\n",
       "       [14.        ,  0.53125   ]])"
      ]
     },
     "execution_count": 36,
     "metadata": {},
     "output_type": "execute_result"
    }
   ],
   "source": [
    "x = np.arange(1, 15)\n",
    "B_tilde = mu_B(x)\n",
    "B_tilde"
   ]
  },
  {
   "cell_type": "code",
   "execution_count": 37,
   "metadata": {},
   "outputs": [],
   "source": [
    "B_alpha_cuts_set, B_strong_alpha_cuts_set = find_alpha_cuts(B_tilde, alpha_cuts=[0.3, 0.5, 0.8])"
   ]
  },
  {
   "cell_type": "markdown",
   "metadata": {},
   "source": [
    "Again our values for $\\tilde{B}$ is discrete, so we plot a scatter plot for it."
   ]
  },
  {
   "cell_type": "code",
   "execution_count": 38,
   "metadata": {},
   "outputs": [
    {
     "data": {
      "image/png": "[encoded data removed]",
      "text/plain": [
       "<Figure size 432x288 with 1 Axes>"
      ]
     },
     "metadata": {
      "needs_background": "light"
     },
     "output_type": "display_data"
    }
   ],
   "source": [
    "plot_scatter_alpha_cuts(B_alpha_cuts_set)"
   ]
  },
  {
   "cell_type": "code",
   "execution_count": 39,
   "metadata": {},
   "outputs": [
    {
     "data": {
      "image/png": "[encoded data removed]",
      "text/plain": [
       "<Figure size 432x288 with 1 Axes>"
      ]
     },
     "metadata": {
      "needs_background": "light"
     },
     "output_type": "display_data"
    }
   ],
   "source": [
    "plot_scatter_alpha_cuts(B_strong_alpha_cuts_set)"
   ]
  },
  {
   "cell_type": "markdown",
   "metadata": {},
   "source": [
    "### Part (c)\n",
    "\\begin{equation}\n",
    "\\tilde{C} = {\\{x, \\mu_{\\tilde{C}}(x)\\}} \\\\\n",
    "\\mu_{\\tilde{C}} = 0 \\text{ for } x \\leq 10 \\\\\n",
    "\\mu_{\\tilde{C}} = (1+(x-10)^2)^{-1}) \\text{ for } x>10\n",
    "\\end{equation}"
   ]
  },
  {
   "cell_type": "code",
   "execution_count": 34,
   "metadata": {},
   "outputs": [],
   "source": [
    "def mu_C(x , normalize = True):\n",
    "    \"\"\"\n",
    "    calculating the membership function for \\tilde{C}\n",
    "    \n",
    "    Parameters:\n",
    "    -----------\n",
    "    x : array_like\n",
    "        array of numerics\n",
    "    normalize : boolean\n",
    "        normalize the membership values, default is True\n",
    "    \n",
    "    Returns:\n",
    "    --------\n",
    "    x_tilda : array of tuples\n",
    "        the fuzzy set\n",
    "        an array composed by values and normalized fuzzy membership values\n",
    "    \"\"\"\n",
    "    \n",
    "    membership_value = 1 + 1 / np.power(x - 10, 2)\n",
    "    ## replace the infinities to zero\n",
    "    ## computed by dividing with zero\n",
    "    membership_value = np.where(membership_value == np.inf, 0, membership_value)\n",
    "    \n",
    "    ## apply the other condition that all the values less equal than 10 have zero membership\n",
    "    membership_value = np.where(x <= 10, 0, membership_value)\n",
    "\n",
    "    \n",
    "    ## normalize\n",
    "    membership_value = normalize_membership(membership_value)\n",
    "    \n",
    "    \n",
    "    x_tilda = np.stack((x, membership_value), axis=1)\n",
    "\n",
    "    return x_tilda"
   ]
  },
  {
   "cell_type": "code",
   "execution_count": 41,
   "metadata": {},
   "outputs": [
    {
     "name": "stderr",
     "output_type": "stream",
     "text": [
      "<ipython-input-34-ab647626a7f3>:19: RuntimeWarning: divide by zero encountered in true_divide\n",
      "  membership_value = 1 + 1 / np.power(x - 10, 2)\n"
     ]
    },
    {
     "data": {
      "text/plain": [
       "array([[ 0.        ,  0.        ],\n",
       "       [ 1.        ,  0.        ],\n",
       "       [ 2.        ,  0.        ],\n",
       "       [ 3.        ,  0.        ],\n",
       "       [ 4.        ,  0.        ],\n",
       "       [ 5.        ,  0.        ],\n",
       "       [ 6.        ,  0.        ],\n",
       "       [ 7.        ,  0.        ],\n",
       "       [ 8.        ,  0.        ],\n",
       "       [ 9.        ,  0.        ],\n",
       "       [10.        ,  0.        ],\n",
       "       [11.        ,  1.        ],\n",
       "       [12.        ,  0.625     ],\n",
       "       [13.        ,  0.55555556],\n",
       "       [14.        ,  0.53125   ],\n",
       "       [15.        ,  0.52      ],\n",
       "       [16.        ,  0.51388889],\n",
       "       [17.        ,  0.51020408],\n",
       "       [18.        ,  0.5078125 ],\n",
       "       [19.        ,  0.50617284],\n",
       "       [20.        ,  0.505     ],\n",
       "       [21.        ,  0.50413223],\n",
       "       [22.        ,  0.50347222],\n",
       "       [23.        ,  0.50295858],\n",
       "       [24.        ,  0.50255102]])"
      ]
     },
     "execution_count": 41,
     "metadata": {},
     "output_type": "execute_result"
    }
   ],
   "source": [
    "C = np.arange(0, 25)\n",
    "C_tilde = mu_C(C)\n",
    "C_tilde"
   ]
  },
  {
   "cell_type": "code",
   "execution_count": 42,
   "metadata": {},
   "outputs": [],
   "source": [
    "C_alpha_cuts_set, C_strong_alpha_cuts_set = find_alpha_cuts(C_tilde, interval = 0.25)"
   ]
  },
  {
   "cell_type": "code",
   "execution_count": 43,
   "metadata": {},
   "outputs": [
    {
     "data": {
      "image/png": "[encoded data removed]",
      "text/plain": [
       "<Figure size 432x288 with 1 Axes>"
      ]
     },
     "metadata": {
      "needs_background": "light"
     },
     "output_type": "display_data"
    }
   ],
   "source": [
    "plot_scatter_alpha_cuts(C_alpha_cuts_set)"
   ]
  },
  {
   "cell_type": "code",
   "execution_count": 44,
   "metadata": {},
   "outputs": [
    {
     "data": {
      "image/png": "[encoded data removed]",
      "text/plain": [
       "<Figure size 432x288 with 1 Axes>"
      ]
     },
     "metadata": {
      "needs_background": "light"
     },
     "output_type": "display_data"
    }
   ],
   "source": [
    "plot_scatter_alpha_cuts(C_strong_alpha_cuts_set)"
   ]
  }
 ],
 "metadata": {
  "kernelspec": {
   "display_name": "Python 3",
   "language": "python",
   "name": "python3"
  },
  "language_info": {
   "codemirror_mode": {
    "name": "ipython",
    "version": 3
   },
   "file_extension": ".py",
   "mimetype": "text/x-python",
   "name": "python",
   "nbconvert_exporter": "python",
   "pygments_lexer": "ipython3",
   "version": "3.8.6"
  }
 },
 "nbformat": 4,
 "nbformat_minor": 4
}
