{
 "cells": [
  {
   "cell_type": "markdown",
   "metadata": {
    "slideshow": {
     "slide_type": "slide"
    }
   },
   "source": [
    "# Homework #1\n",
    "**Stu. name:** Seyed Mohammad Amin Dadgar <br>\n",
    "**Stu. id:** 4003624016"
   ]
  },
  {
   "cell_type": "markdown",
   "metadata": {
    "slideshow": {
     "slide_type": "slide"
    }
   },
   "source": [
    "**Used Tools and Libraries**"
   ]
  },
  {
   "cell_type": "markdown",
   "metadata": {
    "slideshow": {
     "slide_type": "subslide"
    }
   },
   "source": [
    "**Numpy:** NumPy is a library for the Python programming language, adding support for large, multi-dimensional arrays and matrices, along with a large collection of high-level mathematical functions to operate on these arrays. (https://numpy.org/)"
   ]
  },
  {
   "cell_type": "markdown",
   "metadata": {
    "slideshow": {
     "slide_type": "subslide"
    }
   },
   "source": [
    "**Matplotlib:**\n",
    "Matplotlib is a plotting library for the Python programming language and its numerical mathematics extension NumPy. It provides an object-oriented API for embedding plots into applications using general-purpose GUI toolkits like Tkinter, wxPython, Qt, or GTK. (https://matplotlib.org/)    "
   ]
  },
  {
   "cell_type": "markdown",
   "metadata": {
    "slideshow": {
     "slide_type": "subslide"
    }
   },
   "source": [
    "**IPython:** IPython is a command shell for interactive computing in multiple programming languages, originally developed for the Python programming language, that offers introspection, rich media, shell syntax, tab completion, and history. IPython provides the following features: Interactive shells.(https://ipython.org/)"
   ]
  },
  {
   "cell_type": "markdown",
   "metadata": {
    "slideshow": {
     "slide_type": "notes"
    }
   },
   "source": [
    "*Note:* The libraries description is copied from https://www.wikipedia.org/."
   ]
  },
  {
   "cell_type": "markdown",
   "metadata": {
    "slideshow": {
     "slide_type": "slide"
    }
   },
   "source": [
    "# Fuzzy sets and related topics"
   ]
  },
  {
   "cell_type": "markdown",
   "metadata": {
    "slideshow": {
     "slide_type": "subslide"
    }
   },
   "source": [
    "## Ex 2. \n",
    "Question 2 of the second chapter of Zimmermann, 4th ed, 2001 book"
   ]
  },
  {
   "cell_type": "code",
   "execution_count": 1,
   "metadata": {
    "slideshow": {
     "slide_type": "skip"
    }
   },
   "outputs": [],
   "source": [
    "import numpy as np\n",
    "import matplotlib.pyplot as plt\n",
    "from IPython.display import display, Math\n",
    "\n",
    "## suppress the scientific notation of numbers\n",
    "np.set_printoptions(suppress=True)"
   ]
  },
  {
   "cell_type": "code",
   "execution_count": 2,
   "metadata": {
    "slideshow": {
     "slide_type": "fragment"
    }
   },
   "outputs": [],
   "source": [
    "def find_alpha_cuts(A_tilda, **kwargs):\n",
    "    \"\"\"\n",
    "    Find all the alpha-cuts of a fuzzy set\n",
    "    \n",
    "    Parameters:\n",
    "    ------------\n",
    "    A_tilda : array of tuples\n",
    "        The fuzzy set that we are trying to find its alpha cuts\n",
    "    kwargs -> interval : Floating number between `0` and `1`\n",
    "        the alpha-cuts computed from intervals, example `0.25` have five alpha-cuts `0`, `0.25`, `0.5`, `0.75`, `1`\n",
    "        Note: `0` and `1` are excluded!\n",
    "        default is `-1`\n",
    "    kwargs -> alpha_cuts : array_like\n",
    "        if alpha_cuts are sent as input, the intervals variable would be omited\n",
    "        An array of floating points between `0` and `1`, default is None\n",
    "    \n",
    "    **Important**: one of interval or alpha_cuts should be sent as input, otherwise an error would be raised!\n",
    "        \n",
    "    Returns:\n",
    "    --------\n",
    "    alpha_cuts : dictionary\n",
    "        a python dictionary with key of alpha-cuts and values\n",
    "    strong_alpha_cuts : dictionary\n",
    "        a python dictionary with key of alpha-cuts and values\n",
    "    \"\"\"\n",
    "    ## create dictionaries to save later\n",
    "    alpha_cuts = {}\n",
    "    alpha_cuts_strong = {}\n",
    "    \n",
    "    ## intialize the variable\n",
    "    alpha_cuts_interval = []\n",
    "        \n",
    "    if 'interval' in kwargs:\n",
    "        alpha_cuts_interval = np.arange(0, 1, kwargs['interval'])\n",
    "    elif 'alpha_cuts' in kwargs:\n",
    "        alpha_cuts_interval = kwargs['alpha_cuts']\n",
    "    else:\n",
    "        raise \"Error: One of the interval or alpha_cuts variable must have a value! (Not both either)\" \n",
    "        \n",
    "    ## for each alpha-cut\n",
    "    ## step is alpha-cut in each iteration\n",
    "    for step in alpha_cuts_interval:\n",
    "        ## choose the values of the alpha-cut\n",
    "        values = A_tilda[A_tilda[:, 1] >= step]\n",
    "        \n",
    "        ## choose the values of strong alpha-cuts\n",
    "        strong_values = A_tilda[A_tilda[:, 1] > step]\n",
    "    \n",
    "        ## save the alpha-cut set with the key of alpha-cut value\n",
    "        alpha_cuts[step] = values\n",
    "        alpha_cuts_strong[step] = strong_values\n",
    "        \n",
    "    ## the loop does not find the alpha-cut = 1\n",
    "    ## alpha-cut = 1 is actually the whole set!\n",
    "    alpha_cuts[1.0] = A_tilda[A_tilda[:, 1] == 1]\n",
    "        \n",
    "    return alpha_cuts, alpha_cuts_strong"
   ]
  },
  {
   "cell_type": "code",
   "execution_count": 3,
   "metadata": {
    "slideshow": {
     "slide_type": "fragment"
    }
   },
   "outputs": [],
   "source": [
    "def plot_scatter_alpha_cuts(alpha_cut_set):\n",
    "    \"\"\"\n",
    "    Plot the level sets of alpha cuts, using scatter plot\n",
    "    \n",
    "    Parameters:\n",
    "    ----------\n",
    "    alpha_cut_set : fictionary\n",
    "        a dictionary of alpha_cuts related to a fuzzy set\n",
    "        \n",
    "    \"\"\"\n",
    "    \n",
    "    keys = alpha_cut_set.keys()\n",
    "    ## initialize an array to plot the data\n",
    "    plot_data = []\n",
    "    \n",
    "    ## create the (x,y) array to plot the data\n",
    "    for step in keys:\n",
    "        ## find the values with membeship value equal to step\n",
    "        value = alpha_cut_set[step]\n",
    "        value = value[:, 0]\n",
    "        ## get the values count for each alpha levels\n",
    "        values_count = len(value)\n",
    "        \n",
    "        ## create an array of x_values and their alpha set\n",
    "        alpha_level = np.full(values_count, step)\n",
    "        data = np.stack((value, alpha_level), axis=1)\n",
    "        ## the y value is actually the alphas\n",
    "        plot_data.append(data)\n",
    "    \n",
    "    ## convert to a numpy array\n",
    "    plot_data = np.array(plot_data, dtype=object)\n",
    "    \n",
    "    ## create x and y array to save the y_ticks\n",
    "    y_ticks = []\n",
    "    x_ticks = []\n",
    "    for data in plot_data:\n",
    "        X = data[:, 0]\n",
    "        Y = data[:, 1]\n",
    "        \n",
    "        y_ticks = np.append(y_ticks, Y)\n",
    "        x_ticks = np.append(x_ticks, X)\n",
    "        plt.scatter(X, Y)\n",
    "    \n",
    "    plt.xticks(x_ticks)\n",
    "    plt.yticks(y_ticks)\n",
    "    plt.show()"
   ]
  },
  {
   "cell_type": "markdown",
   "metadata": {},
   "source": [
    "### Part (a)"
   ]
  },
  {
   "cell_type": "code",
   "execution_count": 4,
   "metadata": {},
   "outputs": [],
   "source": [
    "A = np.array([[3, 1], [4, 0.2], [5, 0.3], [6, 0.4], \n",
    "                  [7, 0.6], [8, 0.8], [10, 1], [12, 0.8], [14, 0.6] ])\n",
    "A_alpha_cuts_set, A_strong_alpha_cuts_set = find_alpha_cuts(A, interval=0.25)"
   ]
  },
  {
   "cell_type": "markdown",
   "metadata": {},
   "source": [
    "To see how it works we just print one of the alpha-cuts set once."
   ]
  },
  {
   "cell_type": "code",
   "execution_count": 5,
   "metadata": {},
   "outputs": [
    {
     "data": {
      "text/plain": [
       "{0.0: array([[ 3. ,  1. ],\n",
       "        [ 4. ,  0.2],\n",
       "        [ 5. ,  0.3],\n",
       "        [ 6. ,  0.4],\n",
       "        [ 7. ,  0.6],\n",
       "        [ 8. ,  0.8],\n",
       "        [10. ,  1. ],\n",
       "        [12. ,  0.8],\n",
       "        [14. ,  0.6]]),\n",
       " 0.25: array([[ 3. ,  1. ],\n",
       "        [ 5. ,  0.3],\n",
       "        [ 6. ,  0.4],\n",
       "        [ 7. ,  0.6],\n",
       "        [ 8. ,  0.8],\n",
       "        [10. ,  1. ],\n",
       "        [12. ,  0.8],\n",
       "        [14. ,  0.6]]),\n",
       " 0.5: array([[ 3. ,  1. ],\n",
       "        [ 7. ,  0.6],\n",
       "        [ 8. ,  0.8],\n",
       "        [10. ,  1. ],\n",
       "        [12. ,  0.8],\n",
       "        [14. ,  0.6]]),\n",
       " 0.75: array([[ 3. ,  1. ],\n",
       "        [ 8. ,  0.8],\n",
       "        [10. ,  1. ],\n",
       "        [12. ,  0.8]]),\n",
       " 1.0: array([[ 3.,  1.],\n",
       "        [10.,  1.]])}"
      ]
     },
     "execution_count": 5,
     "metadata": {},
     "output_type": "execute_result"
    }
   ],
   "source": [
    "A_alpha_cuts_set"
   ]
  },
  {
   "cell_type": "code",
   "execution_count": 6,
   "metadata": {},
   "outputs": [
    {
     "data": {
      "image/png": "[encoded data removed]",
      "text/plain": [
       "<Figure size 432x288 with 1 Axes>"
      ]
     },
     "metadata": {
      "filenames": {
       "image/png": "D:\\lessons\\MSc\\2nd Term\\Fuzzy systems\\Excersises\\_build\\jupyter_execute\\HW1\\main_15_0.png"
      },
      "needs_background": "light"
     },
     "output_type": "display_data"
    }
   ],
   "source": [
    "plot_scatter_alpha_cuts(A_alpha_cuts_set)"
   ]
  },
  {
   "cell_type": "markdown",
   "metadata": {},
   "source": [
    "**Question 3 Answer**: With this alpha levels we can see that $\\tilde{A}$ is *not convex*. The reason is for $\\alpha = 1$ there is no value for $4,5,6,8$ and $8$."
   ]
  },
  {
   "cell_type": "code",
   "execution_count": 7,
   "metadata": {},
   "outputs": [
    {
     "data": {
      "image/png": "[encoded data removed]",
      "text/plain": [
       "<Figure size 432x288 with 1 Axes>"
      ]
     },
     "metadata": {
      "filenames": {
       "image/png": "D:\\lessons\\MSc\\2nd Term\\Fuzzy systems\\Excersises\\_build\\jupyter_execute\\HW1\\main_17_0.png"
      },
      "needs_background": "light"
     },
     "output_type": "display_data"
    }
   ],
   "source": [
    "plot_scatter_alpha_cuts(A_strong_alpha_cuts_set)"
   ]
  },
  {
   "cell_type": "markdown",
   "metadata": {},
   "source": [
    "Because our values for $\\tilde{A}$ was discrete we plotted scatter plot for it."
   ]
  },
  {
   "cell_type": "markdown",
   "metadata": {},
   "source": [
    "### Part (b)\n",
    "\\begin{equation}\n",
    "\\tilde{B} = {(x, \\mu_{\\tilde{B}}(x) = (1+(x-10)^2)^{-1})} \\\\\n",
    "\\text{for } \\alpha = 0.3, 0.5, 0.8\n",
    "\\end{equation}"
   ]
  },
  {
   "cell_type": "code",
   "execution_count": 8,
   "metadata": {},
   "outputs": [],
   "source": [
    "def mu_B(x , normalize = True):\n",
    "    \"\"\"\n",
    "    calculating the membership function for \\tilde{B}\n",
    "    \n",
    "    Parameters:\n",
    "    -----------\n",
    "    x : array_like\n",
    "        array of numerics\n",
    "    normalize : boolean\n",
    "        normalize the membership values, default is True\n",
    "    \n",
    "    Returns:\n",
    "    --------\n",
    "    x_tilda : array of tuples\n",
    "        the fuzzy set\n",
    "        an array composed by values and normalized fuzzy membership values\n",
    "    \"\"\"\n",
    "    \n",
    "    membership_value = np.power(1 + np.power(x - 10, 2), -1)\n",
    "    \n",
    "    x_tilda = np.stack((x, membership_value), axis=1)\n",
    "\n",
    "    return x_tilda\n",
    "def normalize_membership(membership_values):\n",
    "    \"\"\"\n",
    "    normalize the values of membership function of a fuzzy set to [0, 1]\n",
    "    \n",
    "    Parameters:\n",
    "    ------------\n",
    "    membership_values : array_like\n",
    "        membership values for a fuzzy set\n",
    "        \n",
    "    Returns:\n",
    "    ---------\n",
    "    membership_normalized : array_like\n",
    "        membership values of a fuzzy set normalized to the interval [0, 1]\n",
    "    \"\"\"\n",
    "    assert (membership_values >= 0).all(), \"Error: all the membership values must be positive!\"\n",
    "    \n",
    "    ## normalize\n",
    "    membership_normalized = membership_values / max(membership_values)\n",
    "    \n",
    "    return membership_normalized"
   ]
  },
  {
   "cell_type": "code",
   "execution_count": 9,
   "metadata": {},
   "outputs": [
    {
     "data": {
      "text/plain": [
       "array([[ 1.        ,  0.01219512],\n",
       "       [ 2.        ,  0.01538462],\n",
       "       [ 3.        ,  0.02      ],\n",
       "       [ 4.        ,  0.02702703],\n",
       "       [ 5.        ,  0.03846154],\n",
       "       [ 6.        ,  0.05882353],\n",
       "       [ 7.        ,  0.1       ],\n",
       "       [ 8.        ,  0.2       ],\n",
       "       [ 9.        ,  0.5       ],\n",
       "       [10.        ,  1.        ],\n",
       "       [11.        ,  0.5       ],\n",
       "       [12.        ,  0.2       ],\n",
       "       [13.        ,  0.1       ],\n",
       "       [14.        ,  0.05882353]])"
      ]
     },
     "execution_count": 9,
     "metadata": {},
     "output_type": "execute_result"
    }
   ],
   "source": [
    "x = np.arange(1, 15).astype(float)\n",
    "B_tilde = mu_B(x)\n",
    "B_tilde"
   ]
  },
  {
   "cell_type": "code",
   "execution_count": 10,
   "metadata": {},
   "outputs": [],
   "source": [
    "B_alpha_cuts_set, B_strong_alpha_cuts_set = find_alpha_cuts(B_tilde, alpha_cuts=[0.3, 0.5, 0.8])"
   ]
  },
  {
   "cell_type": "markdown",
   "metadata": {},
   "source": [
    "Again our values for $\\tilde{B}$ is discrete, so we plot a scatter plot for it."
   ]
  },
  {
   "cell_type": "code",
   "execution_count": 11,
   "metadata": {},
   "outputs": [
    {
     "data": {
      "image/png": "[encoded data removed]",
      "text/plain": [
       "<Figure size 432x288 with 1 Axes>"
      ]
     },
     "metadata": {
      "filenames": {
       "image/png": "D:\\lessons\\MSc\\2nd Term\\Fuzzy systems\\Excersises\\_build\\jupyter_execute\\HW1\\main_24_0.png"
      },
      "needs_background": "light"
     },
     "output_type": "display_data"
    }
   ],
   "source": [
    "plot_scatter_alpha_cuts(B_alpha_cuts_set)"
   ]
  },
  {
   "cell_type": "markdown",
   "metadata": {},
   "source": [
    "**Question 3 Answer**: With this alpha levels we can see that $\\tilde{B}$ is *convex*!"
   ]
  },
  {
   "cell_type": "code",
   "execution_count": 12,
   "metadata": {},
   "outputs": [
    {
     "data": {
      "image/png": "[encoded data removed]",
      "text/plain": [
       "<Figure size 432x288 with 1 Axes>"
      ]
     },
     "metadata": {
      "filenames": {
       "image/png": "D:\\lessons\\MSc\\2nd Term\\Fuzzy systems\\Excersises\\_build\\jupyter_execute\\HW1\\main_26_0.png"
      },
      "needs_background": "light"
     },
     "output_type": "display_data"
    }
   ],
   "source": [
    "plot_scatter_alpha_cuts(B_strong_alpha_cuts_set)"
   ]
  },
  {
   "cell_type": "markdown",
   "metadata": {},
   "source": [
    "### Part (c)\n",
    "\\begin{equation}\n",
    "\\tilde{C} = {\\{x, \\mu_{\\tilde{C}}(x)\\}} \\\\\n",
    "\\mu_{\\tilde{C}} = 0 \\text{ for } x \\leq 10 \\\\\n",
    "\\mu_{\\tilde{C}} = (1+(x-10)^2)^{-1}) \\text{ for } x>10\n",
    "\\end{equation}"
   ]
  },
  {
   "cell_type": "code",
   "execution_count": 13,
   "metadata": {},
   "outputs": [],
   "source": [
    "def mu_C(x , normalize = True):\n",
    "    \"\"\"\n",
    "    calculating the membership function for \\tilde{C}\n",
    "    \n",
    "    Parameters:\n",
    "    -----------\n",
    "    x : array_like\n",
    "        array of numerics\n",
    "    normalize : boolean\n",
    "        normalize the membership values, default is True\n",
    "    \n",
    "    Returns:\n",
    "    --------\n",
    "    x_tilda : array of tuples\n",
    "        the fuzzy set\n",
    "        an array composed by values and normalized fuzzy membership values\n",
    "    \"\"\"\n",
    "    \n",
    "    membership_value = np.power(1 + np.power(x - 10, 2), -1)\n",
    "    \n",
    "    ## apply the other condition that all the values less equal than 10 have zero membership\n",
    "    membership_value = np.where(x <= 10, 0, membership_value)\n",
    "\n",
    "    \n",
    "    ## normalize\n",
    "    membership_value = normalize_membership(membership_value)\n",
    "    \n",
    "    \n",
    "    x_tilda = np.stack((x, membership_value), axis=1)\n",
    "\n",
    "    return x_tilda"
   ]
  },
  {
   "cell_type": "code",
   "execution_count": 14,
   "metadata": {},
   "outputs": [
    {
     "data": {
      "text/plain": [
       "array([[ 0.        ,  0.        ],\n",
       "       [ 1.        ,  0.        ],\n",
       "       [ 2.        ,  0.        ],\n",
       "       [ 3.        ,  0.        ],\n",
       "       [ 4.        ,  0.        ],\n",
       "       [ 5.        ,  0.        ],\n",
       "       [ 6.        ,  0.        ],\n",
       "       [ 7.        ,  0.        ],\n",
       "       [ 8.        ,  0.        ],\n",
       "       [ 9.        ,  0.        ],\n",
       "       [10.        ,  0.        ],\n",
       "       [11.        ,  1.        ],\n",
       "       [12.        ,  0.4       ],\n",
       "       [13.        ,  0.2       ],\n",
       "       [14.        ,  0.11764706],\n",
       "       [15.        ,  0.07692308],\n",
       "       [16.        ,  0.05405405],\n",
       "       [17.        ,  0.04      ],\n",
       "       [18.        ,  0.03076923],\n",
       "       [19.        ,  0.02439024],\n",
       "       [20.        ,  0.01980198],\n",
       "       [21.        ,  0.01639344],\n",
       "       [22.        ,  0.0137931 ],\n",
       "       [23.        ,  0.01176471],\n",
       "       [24.        ,  0.01015228]])"
      ]
     },
     "execution_count": 14,
     "metadata": {},
     "output_type": "execute_result"
    }
   ],
   "source": [
    "C = np.arange(0, 25).astype(float)\n",
    "C_tilde = mu_C(C)\n",
    "C_tilde"
   ]
  },
  {
   "cell_type": "code",
   "execution_count": 15,
   "metadata": {},
   "outputs": [],
   "source": [
    "C_alpha_cuts_set, C_strong_alpha_cuts_set = find_alpha_cuts(C_tilde, interval = 0.25)"
   ]
  },
  {
   "cell_type": "code",
   "execution_count": 16,
   "metadata": {},
   "outputs": [
    {
     "data": {
      "image/png": "[encoded data removed]",
      "text/plain": [
       "<Figure size 432x288 with 1 Axes>"
      ]
     },
     "metadata": {
      "filenames": {
       "image/png": "D:\\lessons\\MSc\\2nd Term\\Fuzzy systems\\Excersises\\_build\\jupyter_execute\\HW1\\main_31_0.png"
      },
      "needs_background": "light"
     },
     "output_type": "display_data"
    }
   ],
   "source": [
    "plot_scatter_alpha_cuts(C_alpha_cuts_set)"
   ]
  },
  {
   "cell_type": "markdown",
   "metadata": {},
   "source": [
    "**Question 3 Answer**: With this alpha levels we can see that $\\tilde{C}$ is *convex*!"
   ]
  },
  {
   "cell_type": "code",
   "execution_count": 17,
   "metadata": {},
   "outputs": [
    {
     "data": {
      "image/png": "[encoded data removed]",
      "text/plain": [
       "<Figure size 432x288 with 1 Axes>"
      ]
     },
     "metadata": {
      "filenames": {
       "image/png": "D:\\lessons\\MSc\\2nd Term\\Fuzzy systems\\Excersises\\_build\\jupyter_execute\\HW1\\main_33_0.png"
      },
      "needs_background": "light"
     },
     "output_type": "display_data"
    }
   ],
   "source": [
    "plot_scatter_alpha_cuts(C_strong_alpha_cuts_set)"
   ]
  },
  {
   "cell_type": "markdown",
   "metadata": {},
   "source": [
    "## Ex 3. \n",
    "Question 3 of the second chapter of Zimmermann, 4th ed, 2001 book"
   ]
  },
  {
   "cell_type": "markdown",
   "metadata": {},
   "source": [
    "The answers for this question is added in above cells."
   ]
  },
  {
   "cell_type": "markdown",
   "metadata": {},
   "source": [
    "## Ex 4. \n",
    "Answer to the question 2 of chapter 4 from the book Ross, 4th ed. 2017."
   ]
  },
  {
   "cell_type": "markdown",
   "metadata": {},
   "source": [
    "To answer this question we need to write some equations.\n",
    "first we know that the equation below is correct.\n",
    "\\begin{equation}\n",
    "r \\leq \\lambda r + (1 - \\lambda) s \\leq s \\\\\n",
    "\\text{OR} \\\\\n",
    "s \\leq \\lambda s + (1 - \\lambda) r \\leq r \\\\\n",
    "\\end{equation}\n",
    "This means that each $\\lambda r + (1 - \\lambda) s$ is between r and s, and because our fuzzy set is convex we can assign the equation below to it\n",
    "\\begin{equation}\n",
    "\\mu_{\\tilde{A}}[r] \\leq \\mu_{\\tilde{A}}[\\lambda r + (1 - \\lambda) s] \\leq \\mu_{\\tilde{A}}[s] \\\\\n",
    "\\text{OR} \\\\\n",
    "\\mu_{\\tilde{A}}[s] \\leq \\mu_{\\tilde{A}}[\\lambda s + (1 - \\lambda) r] \\leq \\mu_{\\tilde{A}}[r]\n",
    "\\end{equation}\n",
    "So using the equation above we can say that the term $\\lambda r + (1 - \\lambda) s$, is always greater equal than minimum of $\\mu_{\\tilde{A}}(r),\\mu_{\\tilde{A}}(s)$. And we can write the equation\n",
    "\\begin{equation}\n",
    "\\mu_{\\tilde{A}}[\\lambda s + (1 - \\lambda) r] \\geq min[\\mu_{\\tilde{A}}(r),\\mu_{\\tilde{A}}(s)]\n",
    "\\end{equation}"
   ]
  },
  {
   "cell_type": "markdown",
   "metadata": {},
   "source": [
    "## Ex 5. \n",
    "Question 4 of the second chapter of Zimmermann, 4th ed, 2001 book"
   ]
  },
  {
   "cell_type": "code",
   "execution_count": 18,
   "metadata": {},
   "outputs": [],
   "source": [
    "def find_cardinality(fuzzy_set):\n",
    "    \"\"\"\n",
    "    Find the cardinality of a fuzzy set \n",
    "    \n",
    "    Parameters:\n",
    "    -----------\n",
    "    fuzzy_set : array of tuples\n",
    "        the fuzzy set is an array of tuples\n",
    "        \n",
    "    Returns:\n",
    "    ---------\n",
    "    cardinality : float\n",
    "        the calculated cardinality of a fuzzy set\n",
    "    \"\"\"\n",
    "    ## the second item in each dimension is the membership function value\n",
    "    cardinality = np.sum(fuzzy_set[:, 1])\n",
    "    return cardinality\n",
    "\n",
    "def find_relative_cardinality(fuzzy_set, whole_set):\n",
    "    \"\"\"\n",
    "    Find the relative cardinality value for the fuzzy set\n",
    "    \n",
    "    Parameters:\n",
    "    -----------\n",
    "    fuzzy_set : array of tuples\n",
    "        the fuzzy set is an array of tuples\n",
    "    whole_set : array of tuples\n",
    "        the whole set we are calculating the fuzzy set relative cardinality with respect to it\n",
    "        \n",
    "    Returns:\n",
    "    ---------\n",
    "    cardinality : float\n",
    "        the calculated cardinality of a fuzzy set\n",
    "    \n",
    "    \"\"\"\n",
    "    \n",
    "    cardinality = np.sum(fuzzy_set[:, 1])\n",
    "    ## the whole set is a set with all membership values equal to one\n",
    "    whole_set_cardinality = len(whole_set)\n",
    "    \n",
    "    return cardinality / whole_set_cardinality\n",
    "\n",
    "def find_fuzziness(fuzzy_set, **kwargs):\n",
    "    \"\"\"\n",
    "    Find how much a fuzzy set is fuzzy\n",
    "    \n",
    "    Parameters:\n",
    "    -----------\n",
    "    fuzzy_set : array of tuples\n",
    "        the fuzzy set is an array of tuples\n",
    "    **kwargs : metrics\n",
    "        entropy : find the fuzziness value using entropy metric, the value sent here would be used as K in entropy equation\n",
    "        distance : find the fuzziness value using minkowski, the value sent here is used as p in the equation\n",
    "        \n",
    "    Returns:\n",
    "    ---------\n",
    "    fuzziness : array_like\n",
    "        if both metrics was requested an array is sent as input (entropy, distance)\n",
    "        else a floating point is returned\n",
    "    \"\"\"\n",
    "    ###### METHOD SELECTION ######\n",
    "    \n",
    "    ## the method is chosen using the kwargs\n",
    "    ## if both was chosen find both values\n",
    "    ## if nothing was sent as kwargs entropy would be used as default\n",
    "    method = ''\n",
    "    if 'entropy' in kwargs and 'distance' in kwargs:\n",
    "        method = 'entropy & distance'\n",
    "    elif 'entropy' in kwargs:\n",
    "        method = 'entropy'\n",
    "    elif 'distance' in kwargs:\n",
    "        method = 'distance'\n",
    "    else:\n",
    "        ## default if nothing was entered\n",
    "        method = 'entropy'\n",
    "        \n",
    "    \n",
    "    ###### Calculate the requested metrics ######\n",
    "    if method == 'entropy':\n",
    "        K = kwargs['entropy']\n",
    "        K = int(K)\n",
    "        entropy = find_entropy(fuzzy_set, K)\n",
    "        \n",
    "        print(f'Fuzziness entropy: {entropy}')\n",
    "        \n",
    "        fuzziness = entropy \n",
    "        \n",
    "    elif method == 'entropy & distance':\n",
    "        K = kwargs['entropy']\n",
    "        K = int(K)\n",
    "        entropy = find_entropy(fuzzy_set, K)\n",
    "        \n",
    "        p = kwargs['distance']\n",
    "        p = int(p)\n",
    "        minkowski = find_minkowski(fuzzy_set, p)\n",
    "        distance = find_distance(fuzzy_set, minkowski)\n",
    "        \n",
    "        print(f'Fuzziness entropy with K={K}: {entropy}')\n",
    "        print(f'Fuzziness Minkowski with p={p}: {distance}')\n",
    "        \n",
    "        fuzziness = [entropy, distance]\n",
    "        \n",
    "    elif method == 'distance':\n",
    "        p = kwargs['distance']\n",
    "        p = int(p)\n",
    "        minkowski = find_minkowski(fuzzy_set, p)\n",
    "        distance = find_distance(fuzzy_set, minkowski)\n",
    "        \n",
    "        print(f'Fuzziness Minkowski with p={p}: {distance}')\n",
    "        \n",
    "        fuzziness = distance\n",
    "        \n",
    "    return fuzziness\n",
    "        \n",
    "\n",
    "def find_distance(fuzzy_set, minkowski):\n",
    "    \"\"\"\n",
    "    find the distance using the minkowski metric\n",
    "    \n",
    "    Parameters:\n",
    "    -----------\n",
    "    fuzzy_set : array of tuples\n",
    "        the fuzzy set is an array of tuples\n",
    "    minkowski : float\n",
    "        the minkowski calculated distance\n",
    "    \n",
    "    Returns:\n",
    "    --------\n",
    "    distance : float\n",
    "        distance calculated using minkowski metric\n",
    "    \"\"\"\n",
    "    ## support size is the count of non-zero membership function values\n",
    "    support_set_size = len(fuzzy_set[fuzzy_set[:, 1] != 0])\n",
    "    \n",
    "    distance = 1 - (minkowski / support_set_size)\n",
    "    \n",
    "    return distance\n",
    "    \n",
    "def find_entropy(fuzzy_set, K):\n",
    "    \"\"\"\n",
    "    find the entropy value for a fuzzy set\n",
    "    \n",
    "    Parameters:\n",
    "    -----------\n",
    "    fuzzy_set : array of tuples\n",
    "        the fuzzy set is an array of tuples\n",
    "    K : float\n",
    "        the hyperparameter to set\n",
    "        \n",
    "    Returns:\n",
    "    ---------\n",
    "    entropy : float\n",
    "        the value of entropy\n",
    "    \"\"\"\n",
    "    ## extract the mu values from the fuzzy set\n",
    "    mu = fuzzy_set[:, 1]\n",
    "    log_mu = np.log(mu)\n",
    "    \n",
    "    ## change the infinity values to 0\n",
    "    log_mu = np.where(log_mu == -np.inf, 0, log_mu)\n",
    "    \n",
    "    ## find the element wise multiply  \n",
    "    values = np.multiply(mu, log_mu)\n",
    "    entropy = -K * np.sum(values)\n",
    "    \n",
    "    return entropy\n",
    "\n",
    "def find_minkowski(fuzzy_set, p):\n",
    "    \"\"\"\n",
    "    find the minkowski distance, using the complement of the set\n",
    "    \n",
    "    Parameters:\n",
    "    -----------\n",
    "    fuzzy_set : array of tuples\n",
    "        the fuzzy set is an array of tuples\n",
    "    p : float\n",
    "        the hyperparameter to set for the function\n",
    "        \n",
    "    Returns:\n",
    "    ---------\n",
    "    minkowski : float\n",
    "        the minkowski distance\n",
    "    \"\"\"\n",
    "    ## extract the mu values from the fuzzy set\n",
    "    mu = fuzzy_set[:, 1]\n",
    "    ## the complement of the set membership values\n",
    "    mu_C = 1 - mu\n",
    "    \n",
    "    ## differenc of both\n",
    "    diff = abs(mu - mu_C)\n",
    "    ## element-wise power\n",
    "    diff = np.power(diff, p)\n",
    "    \n",
    "    value = np.sum(diff)\n",
    "    \n",
    "    ## again another power is needed\n",
    "    minkowski = np.power(value, 1/p)\n",
    "    \n",
    "    return minkowski"
   ]
  },
  {
   "cell_type": "markdown",
   "metadata": {},
   "source": [
    "### Part (a)"
   ]
  },
  {
   "cell_type": "code",
   "execution_count": 19,
   "metadata": {},
   "outputs": [],
   "source": [
    "A_tilde = np.array([[3, 1], [4, 0.2], [5, 0.3], [6, 0.4], \n",
    "                  [7, 0.6], [8, 0.8], [10, 1], [12, 0.8], [14, 0.6] ])\n",
    "## X is our whole set\n",
    "X = np.arange(1, 15)"
   ]
  },
  {
   "cell_type": "code",
   "execution_count": 20,
   "metadata": {},
   "outputs": [
    {
     "data": {
      "text/plain": [
       "5.699999999999999"
      ]
     },
     "execution_count": 20,
     "metadata": {},
     "output_type": "execute_result"
    }
   ],
   "source": [
    "find_cardinality(A_tilde)"
   ]
  },
  {
   "cell_type": "code",
   "execution_count": 21,
   "metadata": {},
   "outputs": [
    {
     "data": {
      "text/plain": [
       "0.4071428571428571"
      ]
     },
     "execution_count": 21,
     "metadata": {},
     "output_type": "execute_result"
    }
   ],
   "source": [
    "find_relative_cardinality(A_tilde, X)"
   ]
  },
  {
   "cell_type": "code",
   "execution_count": 22,
   "metadata": {},
   "outputs": [
    {
     "name": "stdout",
     "output_type": "stream",
     "text": [
      "Fuzziness entropy with K=1: 2.0196161471561873\n",
      "Fuzziness Minkowski with p=2: 0.7963299691130737\n"
     ]
    },
    {
     "data": {
      "text/plain": [
       "[2.0196161471561873, 0.7963299691130737]"
      ]
     },
     "execution_count": 22,
     "metadata": {},
     "output_type": "execute_result"
    }
   ],
   "source": [
    "find_fuzziness(A_tilde, entropy=1, distance = 2)"
   ]
  },
  {
   "cell_type": "markdown",
   "metadata": {},
   "source": [
    "### Part (b)"
   ]
  },
  {
   "cell_type": "code",
   "execution_count": 23,
   "metadata": {},
   "outputs": [],
   "source": [
    "B_tilde = np.array([[2, 0.4], [3, 0.6], [4, 0.8], [5, 1],\n",
    "                    [6, 0.8], [7, 0.6], [8, 0.4]])\n",
    "## X is our whole set\n",
    "X = np.arange(1, 11)"
   ]
  },
  {
   "cell_type": "code",
   "execution_count": 24,
   "metadata": {},
   "outputs": [
    {
     "data": {
      "text/plain": [
       "4.6"
      ]
     },
     "execution_count": 24,
     "metadata": {},
     "output_type": "execute_result"
    }
   ],
   "source": [
    "find_cardinality(B_tilde)"
   ]
  },
  {
   "cell_type": "code",
   "execution_count": 25,
   "metadata": {},
   "outputs": [
    {
     "data": {
      "text/plain": [
       "0.45999999999999996"
      ]
     },
     "execution_count": 25,
     "metadata": {},
     "output_type": "execute_result"
    }
   ],
   "source": [
    "find_relative_cardinality(B_tilde, X)"
   ]
  },
  {
   "cell_type": "code",
   "execution_count": 26,
   "metadata": {},
   "outputs": [
    {
     "name": "stdout",
     "output_type": "stream",
     "text": [
      "Fuzziness entropy with K=1: 1.7030530161212485\n",
      "Fuzziness Minkowski with p=2: 0.8041241542742559\n"
     ]
    },
    {
     "data": {
      "text/plain": [
       "[1.7030530161212485, 0.8041241542742559]"
      ]
     },
     "execution_count": 26,
     "metadata": {},
     "output_type": "execute_result"
    }
   ],
   "source": [
    "find_fuzziness(B_tilde, entropy=1, distance = 2)"
   ]
  },
  {
   "cell_type": "markdown",
   "metadata": {},
   "source": [
    "### Part (c)"
   ]
  },
  {
   "cell_type": "code",
   "execution_count": 27,
   "metadata": {},
   "outputs": [],
   "source": [
    "C_tilde = np.array([[2, 0.4], [4, 0.8], [5, 1], [7, 0.6]])"
   ]
  },
  {
   "cell_type": "code",
   "execution_count": 28,
   "metadata": {},
   "outputs": [
    {
     "data": {
      "text/plain": [
       "2.8000000000000003"
      ]
     },
     "execution_count": 28,
     "metadata": {},
     "output_type": "execute_result"
    }
   ],
   "source": [
    "find_cardinality(C_tilde)"
   ]
  },
  {
   "cell_type": "code",
   "execution_count": 29,
   "metadata": {},
   "outputs": [
    {
     "data": {
      "text/plain": [
       "0.28"
      ]
     },
     "execution_count": 29,
     "metadata": {},
     "output_type": "execute_result"
    }
   ],
   "source": [
    "find_relative_cardinality(C_tilde, X)"
   ]
  },
  {
   "cell_type": "code",
   "execution_count": 30,
   "metadata": {},
   "outputs": [
    {
     "name": "stdout",
     "output_type": "stream",
     "text": [
      "Fuzziness entropy with K=1: 0.8515265080606242\n",
      "Fuzziness Minkowski with p=2: 0.7\n"
     ]
    },
    {
     "data": {
      "text/plain": [
       "[0.8515265080606242, 0.7]"
      ]
     },
     "execution_count": 30,
     "metadata": {},
     "output_type": "execute_result"
    }
   ],
   "source": [
    "find_fuzziness(C_tilde, entropy=1, distance = 2)"
   ]
  },
  {
   "cell_type": "markdown",
   "metadata": {},
   "source": [
    "# Fuzzy Operations"
   ]
  },
  {
   "cell_type": "markdown",
   "metadata": {},
   "source": [
    "## Question 2, chapter 2, Ross, 4th ed. 2017"
   ]
  },
  {
   "cell_type": "markdown",
   "metadata": {},
   "source": [
    "The tensile strenghts are as\n",
    "\\begin{equation}\n",
    "\\tilde{A} = \\{(1, 0.4), (2, 0.35), (3 , 0.5), (4, 0.6)\\} \\\\\n",
    "\\tilde{B} = \\{(1, 0.7), (2, 0.75), (3 , 0.65), (4, 0.8)\\} \n",
    "\\end{equation}"
   ]
  },
  {
   "cell_type": "markdown",
   "metadata": {},
   "source": [
    "### Part (a)\n",
    "\\begin{equation}\n",
    "\\tilde{A} \\cap \\tilde{B}\n",
    "\\end{equation}\n",
    "We know that intersect of a fuzzy set, return the minimum membership values from both sets, so the answer is\n",
    "\\begin{equation}\n",
    "\\tilde{A} \\cap \\tilde{B} = \\{(1, 0.4), (2, 0.35), (3 , 0.5), (4, 0.6)\\} \n",
    "\\end{equation}"
   ]
  },
  {
   "cell_type": "markdown",
   "metadata": {},
   "source": [
    "### Part (b)\n",
    "\\begin{equation}\n",
    "\\tilde{A} \\cup \\tilde{B}\n",
    "\\end{equation}\n",
    "And for union the membership for values is the maximum membership value of the both sets.\n",
    "\n",
    "\\begin{equation}\n",
    "\\tilde{A} \\cup \\tilde{B} =\\{(1, 0.7), (2, 0.75), (3 , 0.65), (4, 0.8)\\}\n",
    "\\end{equation}"
   ]
  },
  {
   "cell_type": "markdown",
   "metadata": {},
   "source": [
    "### Part (d)\n",
    "\\begin{equation}\n",
    "\\tilde{A} - \\tilde{B}\n",
    "\\end{equation}\n",
    "First we need to convert minus into intersect\n",
    "\\begin{equation}\n",
    "\\tilde{A} - \\tilde{B} = \\tilde{A} \\cap \\neg\\tilde{B}\n",
    "\\end{equation}\n",
    "Then it's easy to find the answer, first we calculate $\\neg\\tilde{B}$ and then we calculate the intersect with $\\tilde{A}$."
   ]
  },
  {
   "cell_type": "markdown",
   "metadata": {},
   "source": [
    "So $\\neg\\tilde{B}$ can be written as\n",
    "\\begin{equation}\n",
    "\\neg\\tilde{B} = \\{(1, 0.3), (2, 0.25), (3 , 0.65), (4, 0.8)\\} \n",
    "\\end{equation}\n",
    "And the intersection of $\\tilde{A}$ with $\\neg\\tilde{B}$ is the minimum membership functions of both sets.\n",
    "\\begin{equation}\n",
    "\\tilde{A} \\cap \\neg\\tilde{B} = \\{(1, 0.3), (2, 0.25), (3 , 0.35), (4, 0.2)\\} = \\tilde{A} - \\tilde{B}\n",
    "\\end{equation}"
   ]
  },
  {
   "cell_type": "markdown",
   "metadata": {},
   "source": [
    "## Ex 6. \n",
    "Answer to the question 8, chapter 2 from the book Ross, 4th ed. 2017"
   ]
  },
  {
   "cell_type": "code",
   "execution_count": 31,
   "metadata": {},
   "outputs": [],
   "source": [
    "def membership(x, mu, sigma):\n",
    "    \"\"\"\n",
    "    membership function to calculate membership values for x, with mu and sigma parameters\n",
    "    \n",
    "    Parameters:\n",
    "    -----------\n",
    "    x : array_like\n",
    "        set of numeric values\n",
    "    mu, sigma : integer\n",
    "        hyperparameters for membership function\n",
    "        \n",
    "    Returns:\n",
    "    --------\n",
    "    fuzzy_set : array_like\n",
    "        an array of tuples representing the fuzzy set\n",
    "    \"\"\"\n",
    "    ## find the membership values\n",
    "    memberships = np.exp(-((x-mu)**2)/ (2* sigma **2) )\n",
    "    fuzzy_set = np.stack((x, memberships), axis=1 )\n",
    "    \n",
    "    return fuzzy_set"
   ]
  },
  {
   "cell_type": "code",
   "execution_count": 32,
   "metadata": {},
   "outputs": [],
   "source": [
    "X = np.arange(0, 11)\n",
    "A_tilde = membership(X, 4, 2)\n",
    "B_tilde = membership(X, 8, 2)"
   ]
  },
  {
   "cell_type": "code",
   "execution_count": 33,
   "metadata": {},
   "outputs": [
    {
     "data": {
      "text/plain": [
       "array([[ 0.        ,  0.13533528],\n",
       "       [ 1.        ,  0.32465247],\n",
       "       [ 2.        ,  0.60653066],\n",
       "       [ 3.        ,  0.8824969 ],\n",
       "       [ 4.        ,  1.        ],\n",
       "       [ 5.        ,  0.8824969 ],\n",
       "       [ 6.        ,  0.60653066],\n",
       "       [ 7.        ,  0.32465247],\n",
       "       [ 8.        ,  0.13533528],\n",
       "       [ 9.        ,  0.04393693],\n",
       "       [10.        ,  0.011109  ]])"
      ]
     },
     "execution_count": 33,
     "metadata": {},
     "output_type": "execute_result"
    }
   ],
   "source": [
    "A_tilde"
   ]
  },
  {
   "cell_type": "code",
   "execution_count": 34,
   "metadata": {},
   "outputs": [
    {
     "data": {
      "text/plain": [
       "array([[ 0.        ,  0.00033546],\n",
       "       [ 1.        ,  0.00218749],\n",
       "       [ 2.        ,  0.011109  ],\n",
       "       [ 3.        ,  0.04393693],\n",
       "       [ 4.        ,  0.13533528],\n",
       "       [ 5.        ,  0.32465247],\n",
       "       [ 6.        ,  0.60653066],\n",
       "       [ 7.        ,  0.8824969 ],\n",
       "       [ 8.        ,  1.        ],\n",
       "       [ 9.        ,  0.8824969 ],\n",
       "       [10.        ,  0.60653066]])"
      ]
     },
     "execution_count": 34,
     "metadata": {},
     "output_type": "execute_result"
    }
   ],
   "source": [
    "B_tilde"
   ]
  },
  {
   "cell_type": "code",
   "execution_count": 35,
   "metadata": {},
   "outputs": [],
   "source": [
    "def intersect_fuzzy(A_tilde, B_tilde):\n",
    "    \"\"\"\n",
    "    Intersect two fuzzy sets\n",
    "    A intersect B\n",
    "    \n",
    "    Parameters:\n",
    "    -----------\n",
    "    A_tilde : array of tuples\n",
    "        the first fuzzy set\n",
    "    B_tilde : array of tuples\n",
    "        the second fuzzy set\n",
    "        \n",
    "    Returns:\n",
    "    --------\n",
    "    fuzzy_set : array of tuples\n",
    "        the result of A_tilde intersect B_tilde\n",
    "    \"\"\"\n",
    "    fuzzy_set = []\n",
    "    for value in A_tilde[:, 0]:\n",
    "        ## get the memberships for each value\n",
    "        A_var = A_tilde[A_tilde[:, 0] == value][0, 1]\n",
    "        B_var = A_tilde[A_tilde[:, 0] == value][0, 1]\n",
    "        \n",
    "        fuzzy_set.append([value, min(A_var, B_var)])\n",
    "    return fuzzy_set\n",
    "\n",
    "def union_fuzzy(A_tilde, B_tilde):\n",
    "    \"\"\"\n",
    "    union two fuzzy sets\n",
    "    A union B\n",
    "    \n",
    "    Parameters:\n",
    "    -----------\n",
    "    A_tilde : array of tuples\n",
    "        the first fuzzy set\n",
    "    B_tilde : array of tuples\n",
    "        the second fuzzy set\n",
    "        \n",
    "    Returns:\n",
    "    --------\n",
    "    fuzzy_set : array of tuples\n",
    "        the result of A_tilde union B_tilde\n",
    "    \"\"\"\n",
    "    fuzzy_set = []\n",
    "    for value in A_tilde[:, 0]:\n",
    "        ## get the memberships for each value\n",
    "        A_var = A_tilde[A_tilde[:, 0] == value][0, 1]\n",
    "        B_var = A_tilde[A_tilde[:, 0] == value][0, 1]\n",
    "        \n",
    "        fuzzy_set.append([value, max(A_var, B_var)])\n",
    "    return fuzzy_set\n",
    "\n",
    "def complement_fuzzy(A_tilde):\n",
    "    \"\"\"\n",
    "    complement of a fuzzy sets\n",
    "    return not A\n",
    "    \n",
    "    Parameters:\n",
    "    -----------\n",
    "    A_tilde : array of tuples\n",
    "        the fuzzy set to be complemented\n",
    "        \n",
    "    Returns:\n",
    "    --------\n",
    "    fuzzy_set : array of tuples\n",
    "        the result of not A_tilde\n",
    "    \"\"\"\n",
    "    memberships = 1 - A_tilde[:, 1]\n",
    "    fuzzy_set = np.stack((A_tilde[:, 0], memberships), axis = 1)\n",
    "    return fuzzy_set\n",
    "\n",
    "def difference_fuzzy(A_tilde, B_tilde):\n",
    "    \"\"\"\n",
    "    find the difference between two fuzzy sets\n",
    "    A - B\n",
    "    \n",
    "    Parameters:\n",
    "    -----------\n",
    "    A_tilde : array of tuples\n",
    "        the first fuzzy set\n",
    "    B_tilde : array of tuples\n",
    "        the second fuzzy set\n",
    "        \n",
    "    Returns:\n",
    "    --------\n",
    "    fuzzy_set : array of tuples\n",
    "        the result of A_tilde - B_tilde\n",
    "    \"\"\"\n",
    "    ## A - B is equal to A intersect not B\n",
    "    \n",
    "    not_B_tilde = complement_fuzzy(B_tilde)\n",
    "    fuzzy_set = intersect_fuzzy(A_tilde, not_B_tilde)\n",
    "    return fuzzy_set"
   ]
  },
  {
   "cell_type": "code",
   "execution_count": 36,
   "metadata": {},
   "outputs": [
    {
     "data": {
      "text/plain": [
       "[[0.0, 0.1353352832366127],\n",
       " [1.0, 0.32465246735834974],\n",
       " [2.0, 0.6065306597126334],\n",
       " [3.0, 0.8824969025845955],\n",
       " [4.0, 1.0],\n",
       " [5.0, 0.8824969025845955],\n",
       " [6.0, 0.6065306597126334],\n",
       " [7.0, 0.32465246735834974],\n",
       " [8.0, 0.1353352832366127],\n",
       " [9.0, 0.04393693362340742],\n",
       " [10.0, 0.011108996538242306]]"
      ]
     },
     "execution_count": 36,
     "metadata": {},
     "output_type": "execute_result"
    }
   ],
   "source": [
    "intersect_fuzzy(A_tilde, B_tilde)"
   ]
  },
  {
   "cell_type": "code",
   "execution_count": 37,
   "metadata": {},
   "outputs": [
    {
     "data": {
      "text/plain": [
       "array([[ 0.        ,  0.86466472],\n",
       "       [ 1.        ,  0.67534753],\n",
       "       [ 2.        ,  0.39346934],\n",
       "       [ 3.        ,  0.1175031 ],\n",
       "       [ 4.        ,  0.        ],\n",
       "       [ 5.        ,  0.1175031 ],\n",
       "       [ 6.        ,  0.39346934],\n",
       "       [ 7.        ,  0.67534753],\n",
       "       [ 8.        ,  0.86466472],\n",
       "       [ 9.        ,  0.95606307],\n",
       "       [10.        ,  0.988891  ]])"
      ]
     },
     "execution_count": 37,
     "metadata": {},
     "output_type": "execute_result"
    }
   ],
   "source": [
    "complement_fuzzy(A_tilde)"
   ]
  },
  {
   "cell_type": "code",
   "execution_count": 38,
   "metadata": {},
   "outputs": [
    {
     "data": {
      "text/plain": [
       "[[0.0, 0.1353352832366127],\n",
       " [1.0, 0.32465246735834974],\n",
       " [2.0, 0.6065306597126334],\n",
       " [3.0, 0.8824969025845955],\n",
       " [4.0, 1.0],\n",
       " [5.0, 0.8824969025845955],\n",
       " [6.0, 0.6065306597126334],\n",
       " [7.0, 0.32465246735834974],\n",
       " [8.0, 0.1353352832366127],\n",
       " [9.0, 0.04393693362340742],\n",
       " [10.0, 0.011108996538242306]]"
      ]
     },
     "execution_count": 38,
     "metadata": {},
     "output_type": "execute_result"
    }
   ],
   "source": [
    "difference_fuzzy(A_tilde, B_tilde)"
   ]
  },
  {
   "cell_type": "markdown",
   "metadata": {},
   "source": [
    "# Fuzzy Extensions and their properties"
   ]
  },
  {
   "cell_type": "markdown",
   "metadata": {},
   "source": [
    "## Ex 10. \n",
    "Answer the question 3, chapter 3 of Zimmermann, 4th ed, 2001 book."
   ]
  },
  {
   "cell_type": "markdown",
   "metadata": {},
   "source": [
    "First we write $\\tilde{B}$ and $\\tilde{C}$ for the ease of access.\n",
    "\\begin{equation}\n",
    "\\tilde{B} = {(x, \\mu_{\\tilde{B}}(x) = (1+(x-10)^2)^{-1})} \\\\\n",
    "\\text{for } \\alpha = 0.3, 0.5, 0.8\n",
    "\\end{equation}\n",
    "And\n",
    "\\begin{equation}\n",
    "\\tilde{C} = {\\{x, \\mu_{\\tilde{C}}(x)\\}} \\\\\n",
    "\\mu_{\\tilde{C}} = 0 \\text{ for } x \\leq 10 \\\\\n",
    "\\mu_{\\tilde{C}} = (1+(x-10)^2)^{-1}) \\text{ for } x>10\n",
    "\\end{equation}"
   ]
  },
  {
   "cell_type": "code",
   "execution_count": 39,
   "metadata": {},
   "outputs": [],
   "source": [
    "def find_hamacher_intersect(A_tilde, B_tilde, gamma):\n",
    "    \"\"\"\n",
    "    apply hamacher intersect operator over two fuzzy sets with hyperparameter gamma\n",
    "    Note: domains must match in both sets\n",
    "    Parameters:\n",
    "    -----------\n",
    "    A_tilde : array of tuples\n",
    "        the input fuzzy set \n",
    "    B_tilde : array of tuples\n",
    "        the other input fuzzy set for hamacher equation\n",
    "    gamma : float\n",
    "        the hyperparameter for hamacher operator\n",
    "        \n",
    "    Returns:\n",
    "    ---------\n",
    "    fuzzy_hamacher : array of tuples\n",
    "        fuzzy set resulting of hamacher operator\n",
    "    \"\"\"\n",
    "    ## check gamma value\n",
    "    assert gamma>=0, f\"gamma value for hamacher intersect must be semi-positive!\\nThe inserted value for gamma is {gamma}\"\n",
    "    \n",
    "    ## retrieve the membership values of each sets\n",
    "    mu_A = A_tilde[:, 1]\n",
    "    mu_B = B_tilde[:, 1]\n",
    "    \n",
    "    ## devide the hamacher operator into above equation and below\n",
    "    above = mu_A * mu_B\n",
    "    \n",
    "    below = gamma + (1 - gamma)*(mu_A + mu_B - mu_A*mu_B)\n",
    "    \n",
    "    hamacher_values = np.divide(above, below)\n",
    "    \n",
    "    ## mu_A domain is the same as mu_B\n",
    "    ## so there is no difference to use other in stacking\n",
    "    fuzzy_hamacher = np.stack((A_tilde[:, 0], hamacher_values), axis=1)\n",
    "    \n",
    "    return fuzzy_hamacher\n",
    "\n",
    "def find_yager_intersect(A_tilde, B_tilde, p):\n",
    "    \"\"\"\n",
    "    apply yager intersect operator over two fuzzy sets with hyperparameter p\n",
    "    Note: domains must match in both sets\n",
    "    \n",
    "    Parameters:\n",
    "    -----------\n",
    "    A_tilde : array of tuples\n",
    "        the input fuzzy set \n",
    "    B_tilde : array of tuples\n",
    "        the other input fuzzy set for yager equation\n",
    "    p : float\n",
    "        the hyperparameter for yager operator\n",
    "        \n",
    "    Returns:\n",
    "    ---------\n",
    "    fuzzy_yager : array of tuples\n",
    "        fuzzy set resulting yager intersect\n",
    "    \"\"\"\n",
    "    assert p>=1, f\"the hyperparameter p must be equal more than 1!\\nThe inserted value for p is {p}\"\n",
    "    \n",
    "    ## retrieve the membership values of each sets\n",
    "    mu_A = A_tilde[:, 1]\n",
    "    mu_B = B_tilde[:, 1]\n",
    "    \n",
    "    value = np.power(np.power(1-mu_A,p) + np.power(1-mu_B,p), 1/p)\n",
    "    ## the array of ones two be compared  \n",
    "    ones_arr = np.ones(len(value))\n",
    "    \n",
    "    mu = np.minimum(ones_arr, value)\n",
    "    yager_mu = 1 - mu\n",
    "    ## mu_A domain is the same as mu_B\n",
    "    ## so there is no difference to use other in stacking\n",
    "    fuzzy_yager = np.stack((A_tilde[:, 0], yager_mu), axis=1)\n",
    "    \n",
    "    return fuzzy_yager"
   ]
  },
  {
   "cell_type": "markdown",
   "metadata": {},
   "source": [
    "We're using mu_B and mu_C functions in excersise 2 above."
   ]
  },
  {
   "cell_type": "code",
   "execution_count": 40,
   "metadata": {},
   "outputs": [],
   "source": [
    "B = np.arange(0, 25).astype(float)\n",
    "C = np.arange(0, 25).astype(float)\n",
    "\n",
    "B_tilde = mu_B(B)\n",
    "C_tilde = mu_C(C)\n",
    "\n"
   ]
  },
  {
   "cell_type": "markdown",
   "metadata": {},
   "source": [
    "### (a) apply Hamcher intersect operator with $\\gamma=0.25, 0.5, 0.75$"
   ]
  },
  {
   "cell_type": "code",
   "execution_count": 41,
   "metadata": {},
   "outputs": [
    {
     "data": {
      "text/plain": [
       "array([[ 0.        ,  0.        ],\n",
       "       [ 1.        ,  0.        ],\n",
       "       [ 2.        ,  0.        ],\n",
       "       [ 3.        ,  0.        ],\n",
       "       [ 4.        ,  0.        ],\n",
       "       [ 5.        ,  0.        ],\n",
       "       [ 6.        ,  0.        ],\n",
       "       [ 7.        ,  0.        ],\n",
       "       [ 8.        ,  0.        ],\n",
       "       [ 9.        ,  0.        ],\n",
       "       [10.        ,  0.        ],\n",
       "       [11.        ,  0.5       ],\n",
       "       [12.        ,  0.125     ],\n",
       "       [13.        ,  0.04347826],\n",
       "       [14.        ,  0.01834862],\n",
       "       [15.        ,  0.00884956],\n",
       "       [16.        ,  0.00471698],\n",
       "       [17.        ,  0.00271739],\n",
       "       [18.        ,  0.00166528],\n",
       "       [19.        ,  0.00107296],\n",
       "       [20.        ,  0.00072046],\n",
       "       [21.        ,  0.00050075],\n",
       "       [22.        ,  0.00035836],\n",
       "       [23.        ,  0.00026295],\n",
       "       [24.        ,  0.00019716]])"
      ]
     },
     "execution_count": 41,
     "metadata": {},
     "output_type": "execute_result"
    }
   ],
   "source": [
    "find_hamacher_intersect(B_tilde, C_tilde, 0.25)"
   ]
  },
  {
   "cell_type": "code",
   "execution_count": 42,
   "metadata": {},
   "outputs": [
    {
     "data": {
      "text/plain": [
       "array([[ 0.        ,  0.        ],\n",
       "       [ 1.        ,  0.        ],\n",
       "       [ 2.        ,  0.        ],\n",
       "       [ 3.        ,  0.        ],\n",
       "       [ 4.        ,  0.        ],\n",
       "       [ 5.        ,  0.        ],\n",
       "       [ 6.        ,  0.        ],\n",
       "       [ 7.        ,  0.        ],\n",
       "       [ 8.        ,  0.        ],\n",
       "       [ 9.        ,  0.        ],\n",
       "       [10.        ,  0.        ],\n",
       "       [11.        ,  0.5       ],\n",
       "       [12.        ,  0.10526316],\n",
       "       [13.        ,  0.03125   ],\n",
       "       [14.        ,  0.01183432],\n",
       "       [15.        ,  0.00531915],\n",
       "       [16.        ,  0.00270636],\n",
       "       [17.        ,  0.00151057],\n",
       "       [18.        ,  0.00090539],\n",
       "       [19.        ,  0.00057405],\n",
       "       [20.        ,  0.00038088],\n",
       "       [21.        ,  0.00026233],\n",
       "       [22.        ,  0.00018641],\n",
       "       [23.        ,  0.00013602],\n",
       "       [24.        ,  0.00010153]])"
      ]
     },
     "execution_count": 42,
     "metadata": {},
     "output_type": "execute_result"
    }
   ],
   "source": [
    "find_hamacher_intersect(B_tilde, C_tilde, 0.5)"
   ]
  },
  {
   "cell_type": "code",
   "execution_count": 43,
   "metadata": {},
   "outputs": [
    {
     "data": {
      "text/plain": [
       "array([[ 0.        ,  0.        ],\n",
       "       [ 1.        ,  0.        ],\n",
       "       [ 2.        ,  0.        ],\n",
       "       [ 3.        ,  0.        ],\n",
       "       [ 4.        ,  0.        ],\n",
       "       [ 5.        ,  0.        ],\n",
       "       [ 6.        ,  0.        ],\n",
       "       [ 7.        ,  0.        ],\n",
       "       [ 8.        ,  0.        ],\n",
       "       [ 9.        ,  0.        ],\n",
       "       [10.        ,  0.        ],\n",
       "       [11.        ,  0.5       ],\n",
       "       [12.        ,  0.09090909],\n",
       "       [13.        ,  0.02439024],\n",
       "       [14.        ,  0.00873362],\n",
       "       [15.        ,  0.00380228],\n",
       "       [16.        ,  0.00189753],\n",
       "       [17.        ,  0.00104603],\n",
       "       [18.        ,  0.0006217 ],\n",
       "       [19.        ,  0.00039185],\n",
       "       [20.        ,  0.00025887],\n",
       "       [21.        ,  0.00017771],\n",
       "       [22.        ,  0.00012597],\n",
       "       [23.        ,  0.00009173],\n",
       "       [24.        ,  0.00006837]])"
      ]
     },
     "execution_count": 43,
     "metadata": {},
     "output_type": "execute_result"
    }
   ],
   "source": [
    "find_hamacher_intersect(B_tilde, C_tilde, 0.75)"
   ]
  },
  {
   "cell_type": "markdown",
   "metadata": {},
   "source": [
    "### (b) apply Yager intersect operator with $p=1, 5, 10$"
   ]
  },
  {
   "cell_type": "code",
   "execution_count": 44,
   "metadata": {},
   "outputs": [
    {
     "data": {
      "text/plain": [
       "array([[ 0. ,  0. ],\n",
       "       [ 1. ,  0. ],\n",
       "       [ 2. ,  0. ],\n",
       "       [ 3. ,  0. ],\n",
       "       [ 4. ,  0. ],\n",
       "       [ 5. ,  0. ],\n",
       "       [ 6. ,  0. ],\n",
       "       [ 7. ,  0. ],\n",
       "       [ 8. ,  0. ],\n",
       "       [ 9. ,  0. ],\n",
       "       [10. ,  0. ],\n",
       "       [11. ,  0.5],\n",
       "       [12. ,  0. ],\n",
       "       [13. ,  0. ],\n",
       "       [14. ,  0. ],\n",
       "       [15. ,  0. ],\n",
       "       [16. ,  0. ],\n",
       "       [17. ,  0. ],\n",
       "       [18. ,  0. ],\n",
       "       [19. ,  0. ],\n",
       "       [20. ,  0. ],\n",
       "       [21. ,  0. ],\n",
       "       [22. ,  0. ],\n",
       "       [23. ,  0. ],\n",
       "       [24. ,  0. ]])"
      ]
     },
     "execution_count": 44,
     "metadata": {},
     "output_type": "execute_result"
    }
   ],
   "source": [
    "find_yager_intersect(B_tilde, C_tilde, 1)"
   ]
  },
  {
   "cell_type": "code",
   "execution_count": 45,
   "metadata": {},
   "outputs": [
    {
     "data": {
      "text/plain": [
       "array([[ 0.        ,  0.        ],\n",
       "       [ 1.        ,  0.        ],\n",
       "       [ 2.        ,  0.        ],\n",
       "       [ 3.        ,  0.        ],\n",
       "       [ 4.        ,  0.        ],\n",
       "       [ 5.        ,  0.        ],\n",
       "       [ 6.        ,  0.        ],\n",
       "       [ 7.        ,  0.        ],\n",
       "       [ 8.        ,  0.        ],\n",
       "       [ 9.        ,  0.        ],\n",
       "       [10.        ,  0.        ],\n",
       "       [11.        ,  0.5       ],\n",
       "       [12.        ,  0.16519447],\n",
       "       [13.        ,  0.0169296 ],\n",
       "       [14.        ,  0.        ],\n",
       "       [15.        ,  0.        ],\n",
       "       [16.        ,  0.        ],\n",
       "       [17.        ,  0.        ],\n",
       "       [18.        ,  0.        ],\n",
       "       [19.        ,  0.        ],\n",
       "       [20.        ,  0.        ],\n",
       "       [21.        ,  0.        ],\n",
       "       [22.        ,  0.        ],\n",
       "       [23.        ,  0.        ],\n",
       "       [24.        ,  0.        ]])"
      ]
     },
     "execution_count": 45,
     "metadata": {},
     "output_type": "execute_result"
    }
   ],
   "source": [
    "find_yager_intersect(B_tilde, C_tilde, 5)"
   ]
  },
  {
   "cell_type": "code",
   "execution_count": 46,
   "metadata": {},
   "outputs": [
    {
     "data": {
      "text/plain": [
       "array([[ 0.        ,  0.        ],\n",
       "       [ 1.        ,  0.        ],\n",
       "       [ 2.        ,  0.        ],\n",
       "       [ 3.        ,  0.        ],\n",
       "       [ 4.        ,  0.        ],\n",
       "       [ 5.        ,  0.        ],\n",
       "       [ 6.        ,  0.        ],\n",
       "       [ 7.        ,  0.        ],\n",
       "       [ 8.        ,  0.        ],\n",
       "       [ 9.        ,  0.        ],\n",
       "       [10.        ,  0.        ],\n",
       "       [11.        ,  0.5       ],\n",
       "       [12.        ,  0.19560517],\n",
       "       [13.        ,  0.07551154],\n",
       "       [14.        ,  0.01829121],\n",
       "       [15.        ,  0.        ],\n",
       "       [16.        ,  0.        ],\n",
       "       [17.        ,  0.        ],\n",
       "       [18.        ,  0.        ],\n",
       "       [19.        ,  0.        ],\n",
       "       [20.        ,  0.        ],\n",
       "       [21.        ,  0.        ],\n",
       "       [22.        ,  0.        ],\n",
       "       [23.        ,  0.        ],\n",
       "       [24.        ,  0.        ]])"
      ]
     },
     "execution_count": 46,
     "metadata": {},
     "output_type": "execute_result"
    }
   ],
   "source": [
    "find_yager_intersect(B_tilde, C_tilde, 10)"
   ]
  },
  {
   "cell_type": "markdown",
   "metadata": {},
   "source": [
    "# Measure of Fuzziness of fuzzy sets"
   ]
  },
  {
   "cell_type": "markdown",
   "metadata": {},
   "source": [
    "## Ex 13.\n",
    "Answer to the question 1, chapter 4 of Zimmermann, 4th ed, 2001 book. To answer this question we can use the functions for excersise 5."
   ]
  },
  {
   "cell_type": "markdown",
   "metadata": {},
   "source": [
    "### (a)"
   ]
  },
  {
   "cell_type": "code",
   "execution_count": 47,
   "metadata": {},
   "outputs": [],
   "source": [
    "A_tilde = np.array([[7, 0.1], [8, 0.5], [9, 0.8], [10, 1], \n",
    "                    [11, 0.8], [12, 0.5], [13, 0.1]])\n",
    "B_tilde = np.array([[8, 0.5], [9, 0.9], [10, 1], [11, 0.8], \n",
    "                    [12, 0.5]])\n",
    "C_tilde = np.array([[6, 0.1], [7, 0.1], [8, 0.5], [9, 0.8], [10, 1],\n",
    "                    [11, 0.8], [12, 0.5], [13, 0.1], [14, 1]])"
   ]
  },
  {
   "cell_type": "markdown",
   "metadata": {},
   "source": [
    "To find which is crispier or not we need to compute metrics like entropy or $f_n$."
   ]
  },
  {
   "cell_type": "code",
   "execution_count": 48,
   "metadata": {},
   "outputs": [
    {
     "data": {
      "text/latex": [
       "$\\displaystyle \\tilde{A} \\text{ entropy with }K=1:$"
      ],
      "text/plain": [
       "<IPython.core.display.Math object>"
      ]
     },
     "metadata": {},
     "output_type": "display_data"
    },
    {
     "name": "stdout",
     "output_type": "stream",
     "text": [
      "Fuzziness entropy: 1.5106938812614898\n"
     ]
    },
    {
     "data": {
      "text/latex": [
       "$\\displaystyle \\tilde{B} \\text{ entropy with }K=1:$"
      ],
      "text/plain": [
       "<IPython.core.display.Math object>"
      ]
     },
     "metadata": {},
     "output_type": "display_data"
    },
    {
     "name": "stdout",
     "output_type": "stream",
     "text": [
      "Fuzziness entropy: 0.9664864857033568\n"
     ]
    },
    {
     "data": {
      "text/latex": [
       "$\\displaystyle \\tilde{C} \\text{ entropy with }K=1:$"
      ],
      "text/plain": [
       "<IPython.core.display.Math object>"
      ]
     },
     "metadata": {},
     "output_type": "display_data"
    },
    {
     "name": "stdout",
     "output_type": "stream",
     "text": [
      "Fuzziness entropy: 1.7409523905608943\n"
     ]
    }
   ],
   "source": [
    "## compute entropy with k = 1\n",
    "display(Math(r'\\tilde{A} \\text{ entropy with }K=1:'))\n",
    "A_entropy = find_fuzziness(A_tilde, entropy=1)\n",
    "display(Math(r'\\tilde{B} \\text{ entropy with }K=1:'))\n",
    "B_entropy = find_fuzziness(B_tilde, entropy=1)\n",
    "display(Math(r'\\tilde{C} \\text{ entropy with }K=1:'))\n",
    "C_entropy = find_fuzziness(C_tilde, entropy=1)"
   ]
  },
  {
   "cell_type": "markdown",
   "metadata": {},
   "source": [
    "### (b)"
   ]
  },
  {
   "cell_type": "code",
   "execution_count": 49,
   "metadata": {},
   "outputs": [
    {
     "data": {
      "text/latex": [
       "$\\displaystyle f_1(\\tilde{A}):$"
      ],
      "text/plain": [
       "<IPython.core.display.Math object>"
      ]
     },
     "metadata": {},
     "output_type": "display_data"
    },
    {
     "name": "stdout",
     "output_type": "stream",
     "text": [
      "Fuzziness Minkowski with p=1: 0.4571428571428571\n"
     ]
    },
    {
     "data": {
      "text/latex": [
       "$\\displaystyle f_1(\\tilde{B}):$"
      ],
      "text/plain": [
       "<IPython.core.display.Math object>"
      ]
     },
     "metadata": {},
     "output_type": "display_data"
    },
    {
     "name": "stdout",
     "output_type": "stream",
     "text": [
      "Fuzziness Minkowski with p=1: 0.5199999999999999\n"
     ]
    },
    {
     "data": {
      "text/latex": [
       "$\\displaystyle f_1(\\tilde{C}):$"
      ],
      "text/plain": [
       "<IPython.core.display.Math object>"
      ]
     },
     "metadata": {},
     "output_type": "display_data"
    },
    {
     "name": "stdout",
     "output_type": "stream",
     "text": [
      "Fuzziness Minkowski with p=1: 0.37777777777777777\n"
     ]
    }
   ],
   "source": [
    "## compute f_1\n",
    "display(Math(r'f_1(\\tilde{A}):'))\n",
    "A_f1 = find_fuzziness(A_tilde, distance=1)\n",
    "display(Math(r'f_1(\\tilde{B}):'))\n",
    "B_f1 = find_fuzziness(B_tilde, distance=1)\n",
    "display(Math(r'f_1(\\tilde{C}):'))\n",
    "C_f1 = find_fuzziness(C_tilde, distance=1)"
   ]
  },
  {
   "cell_type": "markdown",
   "metadata": {},
   "source": [
    "### (c)"
   ]
  },
  {
   "cell_type": "code",
   "execution_count": 50,
   "metadata": {},
   "outputs": [
    {
     "data": {
      "text/latex": [
       "$\\displaystyle f_2(\\tilde{A}):$"
      ],
      "text/plain": [
       "<IPython.core.display.Math object>"
      ]
     },
     "metadata": {},
     "output_type": "display_data"
    },
    {
     "name": "stdout",
     "output_type": "stream",
     "text": [
      "Fuzziness Minkowski with p=2: 0.7525641703473032\n"
     ]
    },
    {
     "data": {
      "text/latex": [
       "$\\displaystyle f_2(\\tilde{B}):$"
      ],
      "text/plain": [
       "<IPython.core.display.Math object>"
      ]
     },
     "metadata": {},
     "output_type": "display_data"
    },
    {
     "name": "stdout",
     "output_type": "stream",
     "text": [
      "Fuzziness Minkowski with p=2: 0.717157287525381\n"
     ]
    },
    {
     "data": {
      "text/latex": [
       "$\\displaystyle f_2(\\tilde{C}):$"
      ],
      "text/plain": [
       "<IPython.core.display.Math object>"
      ]
     },
     "metadata": {},
     "output_type": "display_data"
    },
    {
     "name": "stdout",
     "output_type": "stream",
     "text": [
      "Fuzziness Minkowski with p=3: 0.8240937062364264\n"
     ]
    }
   ],
   "source": [
    "## compute f_1\n",
    "display(Math(r'f_2(\\tilde{A}):'))\n",
    "A_f2 = find_fuzziness(A_tilde, distance=2)\n",
    "display(Math(r'f_2(\\tilde{B}):'))\n",
    "B_f2 = find_fuzziness(B_tilde, distance=2)\n",
    "display(Math(r'f_2(\\tilde{C}):'))\n",
    "C_f2 = find_fuzziness(C_tilde, distance=3)"
   ]
  },
  {
   "cell_type": "code",
   "execution_count": 51,
   "metadata": {},
   "outputs": [
    {
     "data": {
      "image/png": "[encoded data removed]",
      "text/plain": [
       "<Figure size 432x288 with 1 Axes>"
      ]
     },
     "metadata": {
      "filenames": {
       "image/png": "D:\\lessons\\MSc\\2nd Term\\Fuzzy systems\\Excersises\\_build\\jupyter_execute\\HW1\\main_95_0.png"
      },
      "needs_background": "light"
     },
     "output_type": "display_data"
    }
   ],
   "source": [
    "plt.scatter(0, A_entropy)\n",
    "plt.scatter(0, B_entropy)\n",
    "plt.scatter(0, C_entropy)\n",
    "\n",
    "plt.scatter(1,A_f1)\n",
    "plt.scatter(1,B_f1)\n",
    "plt.scatter(1,C_f1)\n",
    "\n",
    "plt.scatter(2, A_f2)\n",
    "plt.scatter(2, B_f2)\n",
    "plt.scatter(2, C_f2)\n",
    "\n",
    "plt.legend(['A_entropy', 'B_entropy', 'C_entropy','A_f1', 'B_f1', 'C_f1', \n",
    "           'A_f2', 'B_f2', 'C_f2'], )\n",
    "plt.show()"
   ]
  },
  {
   "cell_type": "markdown",
   "metadata": {},
   "source": [
    "With this plot it's easy to find the more crispier values. We can conclude that $f_1(\\tilde{C})$ is the lowest in $f_1$ scores, and for other metrics $\\tilde{B}$ has the lowest values. \\\\\n",
    "So we can say that $\\tilde{B}$ is more cripier than others not $\\tilde{A}$!"
   ]
  },
  {
   "cell_type": "markdown",
   "metadata": {},
   "source": [
    "## Ex 14.\n",
    "Answer to the question 2, chapter 4 of Zimmermann, 4th ed, 2001 book."
   ]
  },
  {
   "cell_type": "markdown",
   "metadata": {},
   "source": [
    "It seems that the question want the equation\n",
    "\\begin{equation}\n",
    "\\frac{d(\\tilde{A})}{||support(\\tilde{A})||}\n",
    "\\end{equation}\n",
    "We know that $d(\\tilde{A})$ can be computed via\n",
    "\\begin{equation}\n",
    "d(\\tilde{A}) = H(\\tilde{A}) + H(C\\tilde{A}) \n",
    "\\end{equation}\n",
    "So we implement it."
   ]
  },
  {
   "cell_type": "code",
   "execution_count": 52,
   "metadata": {},
   "outputs": [],
   "source": [
    "def find_maximum_entropy_dependence(fuzzyset, K=1):\n",
    "    \"\"\"\n",
    "    find the metric `d` using the entropy and its complementary and divide it with support vector size\n",
    "    \n",
    "    Parameters:\n",
    "    -----------\n",
    "    fuzzyset : array of tuples\n",
    "        the fuzzyset that its entropy is needed to be computed\n",
    "    K : integer\n",
    "        the paramter for entropy\n",
    "        \n",
    "    Returns:\n",
    "    ----------\n",
    "    maximized_entropy : float\n",
    "    \"\"\"\n",
    "    \n",
    "    fuzzy_entropy = find_entropy(fuzzyset, K)\n",
    "    \n",
    "    ## implemented in excersise 6\n",
    "    ## find the complement of the fuzzy set\n",
    "    fuzzy_complemented = complement_fuzzy(fuzzyset)\n",
    "    \n",
    "    fuzzy_c_entropy = find_entropy(fuzzy_complemented, K)\n",
    "    \n",
    "    maximized_entropy = fuzzy_entropy + fuzzy_c_entropy\n",
    "    \n",
    "    support_size = 0\n",
    "    ## find support set size\n",
    "    for value in fuzzyset[:, 1]:\n",
    "        ## values == 1 are the core values\n",
    "        ## so we need to ignore them\n",
    "        if value !=1:\n",
    "            support_size += value\n",
    "    \n",
    "    maximized_entropy /= support_size\n",
    "    \n",
    "    return maximized_entropy"
   ]
  },
  {
   "cell_type": "code",
   "execution_count": 53,
   "metadata": {},
   "outputs": [
    {
     "name": "stderr",
     "output_type": "stream",
     "text": [
      "C:\\Users\\Amin\\AppData\\Local\\Temp/ipykernel_13088/1041279538.py:157: RuntimeWarning: divide by zero encountered in log\n",
      "  log_mu = np.log(mu)\n"
     ]
    },
    {
     "data": {
      "text/plain": [
       "1.0847375553497007"
      ]
     },
     "execution_count": 53,
     "metadata": {},
     "output_type": "execute_result"
    }
   ],
   "source": [
    "A_tilde = np.array([[7, 0.1], [8, 0.5], [9, 0.8], [10, 1], \n",
    "                    [11, 0.8], [12, 0.5], [13, 0.1]])\n",
    "find_maximum_entropy_dependence(A_tilde)\n",
    "## ignore the warning\n",
    "## it's handled"
   ]
  },
  {
   "cell_type": "markdown",
   "metadata": {},
   "source": [
    "# Fuzzy Relations and Operations"
   ]
  },
  {
   "cell_type": "markdown",
   "metadata": {},
   "source": [
    "### Ex 16.\n",
    "Answer to the question 3, chapter 6 of Zimmermann, 4th ed, 2001 book."
   ]
  },
  {
   "cell_type": "markdown",
   "metadata": {},
   "source": [
    "To answer this question we first define the functions we need."
   ]
  },
  {
   "cell_type": "code",
   "execution_count": 54,
   "metadata": {},
   "outputs": [],
   "source": [
    "def find_projection(fuzzy_relation, K):\n",
    "    \"\"\"\n",
    "    Find the K-th projection of the fuzzy relation\n",
    "    note that K must be less equal than the dimension of fuzzy_relation!\n",
    "    (Here the function just supports 2-dimensions)\n",
    "    \n",
    "    Parameters:\n",
    "    -----------\n",
    "    fuzzy_relation : matrix_like\n",
    "        the relation between two or more fuzzy sets\n",
    "    K : integer\n",
    "        parameter to choose to find which dimension projection to be calculated\n",
    "        either `1` or `2`\n",
    "        \n",
    "    Returns:\n",
    "    --------\n",
    "    projection : array_like\n",
    "        the projection of membership functions\n",
    "    \"\"\"\n",
    "    \n",
    "    assert K == 1 or K==2, \"K must be either 1 or 2!\"\n",
    "    ## initialize variable\n",
    "    projection = []\n",
    "    if K == 1:\n",
    "        projection = np.max(fuzzy_relation, axis=1)\n",
    "    elif K == 2:\n",
    "        projection = np.max(fuzzy_relation, axis=0)\n",
    "        \n",
    "    return projection\n",
    "def find_cylindrical_extension(fuzzy_mu, count, axis):\n",
    "    \"\"\"\n",
    "    Extend a fuzzy membership values using cylindrical extension\n",
    "    with a special counts and on an axis\n",
    "    \n",
    "    Parameters:\n",
    "    -----------\n",
    "    fuzzy_mu : array_like\n",
    "        array of membership values\n",
    "    count : positive integer\n",
    "        count of how many dimensions to add\n",
    "    axis : 0 or 1\n",
    "        extend on the given axis\n",
    "        0 -> extend horizontally\n",
    "        1 -> extend vertically\n",
    "        \n",
    "    Returns:\n",
    "    --------\n",
    "    relation : numpy matrix\n",
    "        the relation that found via extending\n",
    "    \"\"\"\n",
    "    ## intialize the variable with one row or column\n",
    "    relation = np.copy(fuzzy_mu)\n",
    "    \n",
    "    ## iteratively add columns or rows\n",
    "    if axis == 0:\n",
    "        ## adding columns\n",
    "        for i in range(1, count):\n",
    "            relation = np.column_stack((relation, fuzzy_mu))\n",
    "    else:\n",
    "        ## adding rows\n",
    "        for i in range(1, count):\n",
    "            relation = np.append(relation, fuzzy_mu, axis=0 )\n",
    "    \n",
    "    return relation"
   ]
  },
  {
   "cell_type": "code",
   "execution_count": 55,
   "metadata": {},
   "outputs": [
    {
     "data": {
      "text/plain": [
       "matrix([[0.5, 0. , 1. , 0.9, 0.9],\n",
       "        [1. , 0.4, 0.5, 0.3, 0.1],\n",
       "        [0.7, 0.8, 0. , 0.2, 0.6],\n",
       "        [0.1, 0.3, 0.7, 1. , 0. ]])"
      ]
     },
     "execution_count": 55,
     "metadata": {},
     "output_type": "execute_result"
    }
   ],
   "source": [
    "R = np.matrix('0.5 0 1 0.9 0.9; 1 0.4 0.5 0.3 0.1; 0.7 0.8 0 0.2 0.6; 0.1 0.3 0.7 1 0')\n",
    "R"
   ]
  },
  {
   "cell_type": "markdown",
   "metadata": {},
   "source": [
    "$\\mu_{\\tilde{R}^{(1)}}$"
   ]
  },
  {
   "cell_type": "code",
   "execution_count": 56,
   "metadata": {},
   "outputs": [
    {
     "data": {
      "text/plain": [
       "matrix([[1. ],\n",
       "        [1. ],\n",
       "        [0.8],\n",
       "        [1. ]])"
      ]
     },
     "execution_count": 56,
     "metadata": {},
     "output_type": "execute_result"
    }
   ],
   "source": [
    "projection_first = find_projection(R, K=1)\n",
    "projection_first"
   ]
  },
  {
   "cell_type": "markdown",
   "metadata": {},
   "source": [
    "$\\mu_{\\tilde{R}^{(2)}}$"
   ]
  },
  {
   "cell_type": "code",
   "execution_count": 57,
   "metadata": {},
   "outputs": [
    {
     "data": {
      "text/plain": [
       "matrix([[1. , 0.8, 1. , 1. , 0.9]])"
      ]
     },
     "execution_count": 57,
     "metadata": {},
     "output_type": "execute_result"
    }
   ],
   "source": [
    "projection_second = find_projection(R, K=2)\n",
    "projection_second"
   ]
  },
  {
   "cell_type": "markdown",
   "metadata": {},
   "source": [
    "cylindrical extension for $\\mu_{\\tilde{R}^{(1)}}$"
   ]
  },
  {
   "cell_type": "code",
   "execution_count": 58,
   "metadata": {},
   "outputs": [
    {
     "data": {
      "text/plain": [
       "matrix([[1. , 1. , 1. , 1. , 1. ],\n",
       "        [1. , 1. , 1. , 1. , 1. ],\n",
       "        [0.8, 0.8, 0.8, 0.8, 0.8],\n",
       "        [1. , 1. , 1. , 1. , 1. ]])"
      ]
     },
     "execution_count": 58,
     "metadata": {},
     "output_type": "execute_result"
    }
   ],
   "source": [
    "find_cylindrical_extension(projection_first, count=5, axis=0)"
   ]
  },
  {
   "cell_type": "markdown",
   "metadata": {},
   "source": [
    "cylindrical extension for $\\mu_{\\tilde{R}^{(2)}}$"
   ]
  },
  {
   "cell_type": "code",
   "execution_count": 59,
   "metadata": {},
   "outputs": [
    {
     "data": {
      "text/plain": [
       "matrix([[1. , 0.8, 1. , 1. , 0.9],\n",
       "        [1. , 0.8, 1. , 1. , 0.9],\n",
       "        [1. , 0.8, 1. , 1. , 0.9],\n",
       "        [1. , 0.8, 1. , 1. , 0.9]])"
      ]
     },
     "execution_count": 59,
     "metadata": {},
     "output_type": "execute_result"
    }
   ],
   "source": [
    "find_cylindrical_extension(projection_second, count=4, axis=1)"
   ]
  },
  {
   "cell_type": "markdown",
   "metadata": {},
   "source": [
    "## Ex 17.\n",
    "Answer to the question 12, chapter 3 from the book Ross, 4th ed. 2017"
   ]
  },
  {
   "cell_type": "markdown",
   "metadata": {},
   "source": [
    "In this question $\\tilde{A}$ and $\\tilde{R}$ are given and $\\tilde{B}$ is the \n",
    "composition of these two is wanted. "
   ]
  },
  {
   "cell_type": "code",
   "execution_count": 60,
   "metadata": {},
   "outputs": [],
   "source": [
    "class compositions:\n",
    "    \n",
    "    def __init__(self, fuzzy_set1, fuzzy_set2):\n",
    "        \"\"\"\n",
    "        Parameters:\n",
    "        -----------\n",
    "        fuzzy_set1 : matrix of tuples\n",
    "        fuzzy_set2 : matrix of tuples\n",
    "\n",
    "        \"\"\"\n",
    "        self.fuzzy_set1 = fuzzy_set1\n",
    "        self.fuzzy_set2 = fuzzy_set2\n",
    "    \n",
    "    def __find_vector_average(self, vector1, vector2):\n",
    "        \"\"\"\n",
    "        find elemnt wise averages \n",
    "        \n",
    "        Parameters:\n",
    "        -----------\n",
    "        vector1 : array_like\n",
    "        vector2 : array_like\n",
    "\n",
    "        Returns:\n",
    "        ----------\n",
    "        averages : array_like\n",
    "            the elemnt-wise averages of two input vectors\n",
    "        \"\"\"\n",
    "        averages = (vector1 + vector2) * 0.5\n",
    "        \n",
    "        return averages\n",
    "\n",
    "    def find_composition(self, c_type='min-max'):\n",
    "        \"\"\"\n",
    "        Apply the requested composition on two fuzzy sets\n",
    "        (fuzzy_set1 composition_operator fuzzy_set2)\n",
    "\n",
    "        Parameters:\n",
    "        ------------\n",
    "        c_type : string\n",
    "            the type of composition needed to be done\n",
    "            `min-max` : apply the min-max composition, this is the default if nothing was passed\n",
    "            `max-min` : apply the max-min composition\n",
    "            `min-min` : apply the min-min composition\n",
    "            `max-max` : apply the max-max composition\n",
    "            `max-average` : apply the max-average composition\n",
    "            `sum-product` : apply the sum-production composition\n",
    "            \n",
    "        Returns:\n",
    "        ---------\n",
    "        composition : matrix of tuples\n",
    "            depending on entered fuzzy sets can be a matrix or an array\n",
    "        \"\"\"\n",
    "        ## save the sets in another variable \n",
    "        fuzzy_set1 = self.fuzzy_set1\n",
    "        fuzzy_set2 = self.fuzzy_set2\n",
    "        \n",
    "        ## for the first entered fuzzy set we would use rows\n",
    "        rows = fuzzy_set1.shape[0]\n",
    "        ## And for the second set the column is used to find the compositions\n",
    "        columns = fuzzy_set2.shape[1]\n",
    "\n",
    "        composition = []\n",
    "        ## iterate over values and find the composition result\n",
    "        for i in range(0, rows):\n",
    "            ## save each dimension\n",
    "            ## meaning each row vector \n",
    "            results_arr = []\n",
    "            for j in range(0, columns):\n",
    "                ## res is the composition of each row and column\n",
    "                ## initialize it\n",
    "                res = -1\n",
    "                \n",
    "                ## apply the requested composition\n",
    "                if c_type == 'min-max':\n",
    "                    ## second fuzzy set is transposed here to find element-wise minumum or maximm in the vector\n",
    "                    res = np.min(np.maximum(fuzzy_set1[i], fuzzy_set2[:, j].T))\n",
    "                elif c_type == 'max-min':\n",
    "                    res = np.max(np.minimum(fuzzy_set1[i], fuzzy_set2[:, j].T))\n",
    "                elif c_type == 'min-min':\n",
    "                    res = np.min(np.minimum(fuzzy_set1[i], fuzzy_set2[:, j].T))\n",
    "                elif c_type == 'max-max':\n",
    "                    res = np.max(np.maximum(fuzzy_set1[i], fuzzy_set2[:, j].T))\n",
    "                elif c_type == 'max-average':\n",
    "                    res = np.max(self.__find_vector_average(fuzzy_set1[i], fuzzy_set2[:, j].T))\n",
    "                elif c_type == 'sum-product':\n",
    "                    res = np.sum(np.multiply(fuzzy_set1[i], fuzzy_set2[:, j].T))\n",
    "                else:\n",
    "                    raise ValueError(\"Error, Unrecognized Category!\")\n",
    "                ## save the result of each value\n",
    "                results_arr.append(res)\n",
    "\n",
    "            ## and save each row in the results matrix (composition matrix)\n",
    "            composition.append(results_arr)\n",
    "\n",
    "        ## convert to numpy matrix to easily reshape it as a matrix\n",
    "        composition = np.matrix(composition)\n",
    "        composition = composition.reshape((rows, columns))\n",
    "\n",
    "        return composition"
   ]
  },
  {
   "cell_type": "code",
   "execution_count": 61,
   "metadata": {},
   "outputs": [],
   "source": [
    "R_tilde = np.matrix('0.7 0.6 0.5; 0.3 0.2 0.5; 0.2 0.4 0.7')\n",
    "A_tilde = np.matrix('0.4 0.5 0.3')"
   ]
  },
  {
   "cell_type": "code",
   "execution_count": 62,
   "metadata": {},
   "outputs": [
    {
     "data": {
      "text/plain": [
       "matrix([[0.4, 0.4, 0.5]])"
      ]
     },
     "execution_count": 62,
     "metadata": {},
     "output_type": "execute_result"
    }
   ],
   "source": [
    "m_compositions = compositions(A_tilde, R_tilde)\n",
    "m_compositions.find_composition(c_type='max-min')"
   ]
  },
  {
   "cell_type": "code",
   "execution_count": 63,
   "metadata": {},
   "outputs": [
    {
     "data": {
      "text/plain": [
       "matrix([[0.3, 0.4, 0.5]])"
      ]
     },
     "execution_count": 63,
     "metadata": {},
     "output_type": "execute_result"
    }
   ],
   "source": [
    "m_compositions.find_composition(c_type='min-max')"
   ]
  },
  {
   "cell_type": "code",
   "execution_count": 64,
   "metadata": {},
   "outputs": [
    {
     "data": {
      "text/plain": [
       "matrix([[0.2, 0.2, 0.3]])"
      ]
     },
     "execution_count": 64,
     "metadata": {},
     "output_type": "execute_result"
    }
   ],
   "source": [
    "m_compositions.find_composition(c_type='min-min')"
   ]
  },
  {
   "cell_type": "code",
   "execution_count": 65,
   "metadata": {},
   "outputs": [
    {
     "data": {
      "text/plain": [
       "matrix([[0.7, 0.6, 0.7]])"
      ]
     },
     "execution_count": 65,
     "metadata": {},
     "output_type": "execute_result"
    }
   ],
   "source": [
    "m_compositions.find_composition(c_type='max-max')"
   ]
  },
  {
   "cell_type": "code",
   "execution_count": 66,
   "metadata": {},
   "outputs": [
    {
     "data": {
      "text/plain": [
       "matrix([[0.55, 0.5 , 0.5 ]])"
      ]
     },
     "execution_count": 66,
     "metadata": {},
     "output_type": "execute_result"
    }
   ],
   "source": [
    "m_compositions.find_composition(c_type='max-average')"
   ]
  },
  {
   "cell_type": "code",
   "execution_count": 67,
   "metadata": {},
   "outputs": [
    {
     "data": {
      "text/plain": [
       "matrix([[0.49, 0.46, 0.66]])"
      ]
     },
     "execution_count": 67,
     "metadata": {},
     "output_type": "execute_result"
    }
   ],
   "source": [
    "m_compositions.find_composition(c_type='sum-product')"
   ]
  },
  {
   "cell_type": "markdown",
   "metadata": {},
   "source": [
    "# Linguistic Variables"
   ]
  },
  {
   "cell_type": "markdown",
   "metadata": {},
   "source": [
    "## Ex 18.\n",
    "Answer to the question 1, chapter 9 of Zimmermann, 4th ed, 2001 book."
   ]
  },
  {
   "cell_type": "markdown",
   "metadata": {},
   "source": [
    "We first plot the original membership function.\n",
    "\\begin{equation}\n",
    "\\mu_{old}(x)\n",
    "\\begin{cases}\n",
    "0 & \\text{if  } x \\in [0,40] \\\\\n",
    "\\Big(1+\\big(\\frac{x-40}{5}\\big)^{-2}\\Big)^{-1} & \\text{if  } x \\in (40, 100] \\\\\n",
    "0 & \\text{else}\n",
    "\\end{cases}\n",
    "\\end{equation}\n",
    "We can either apply the linguistic operators on the equation or the membership values. We would like to do both, So the equations would be like below. For \"Very\":\n",
    "\\begin{equation}\n",
    "\\mu_{Very_old}(x)\n",
    "\\begin{cases}\n",
    "0 & \\text{if  } x \\in [0,40] \\\\\n",
    "\\Big(1+\\big(\\frac{x-40}{5}\\big)^{-2}\\Big)^{-2} & \\text{if  } x \\in (40, 100] \\\\\n",
    "0 & \\text{else}\n",
    "\\end{cases}\n",
    "\\end{equation}\n",
    "For the term \"Not Very\":\n",
    "\\begin{equation}\n",
    "\\mu_{Very_old}(x)\n",
    "\\begin{cases}\n",
    "0 & \\text{if  } x \\in [0,40] \\\\\n",
    "1 - \\Big(1+\\big(\\frac{x-40}{5}\\big)^{-2}\\Big)^{-2} & \\text{if  } x \\in (40, 100] \\\\\n",
    "0 & \\text{else}\n",
    "\\end{cases}\n",
    "\\end{equation}\n",
    "And for the other term \"more or less\":\n",
    "\\begin{equation}\n",
    "\\mu_{old}(x)\n",
    "\\begin{cases}\n",
    "0 & \\text{if  } x \\in [0,40] \\\\\n",
    "\\Big(1+\\big(\\frac{x-40}{5}\\big)^{-2}\\Big)^{-1/2} & \\text{if  } x \\in (40, 100] \\\\\n",
    "0 & \\text{else}\n",
    "\\end{cases}\n",
    "\\end{equation}\n",
    "And To apply the other method we will use python."
   ]
  },
  {
   "cell_type": "code",
   "execution_count": 68,
   "metadata": {},
   "outputs": [],
   "source": [
    "def membership_function_Q1_CH9(X):\n",
    "    \"\"\"\n",
    "    The membership function belonging to Question 1 - Chapter 9 of the Zimmerman book.\n",
    "    \n",
    "    Parameters:\n",
    "    -----------\n",
    "    X : array_like\n",
    "        an array of numbers\n",
    "        \n",
    "    Returns:\n",
    "    ---------\n",
    "    fuzzy_set : array of tuples\n",
    "        a fuzzy set, created with values of X\n",
    "    \"\"\"\n",
    "    mu = np.power(1 + np.power((X-40)/ 5, -2), -1)\n",
    "    \n",
    "    ## remove the memberhsip values for X in [0, 40] or less than 0 or greater than 100\n",
    "    mu = np.where((((X <= 40) & (X >=0)) | (X < 0) | (X > 100)), 0, mu)\n",
    "    \n",
    "    fuzzy_set = np.stack((X, mu), axis=1)\n",
    "    \n",
    "    return fuzzy_set\n",
    "def find_fuzzy_Dialation(fuzzy_set):\n",
    "    \"\"\"\n",
    "    The Dialation operator representing the linguistic variable `More Or Less`\n",
    "    \n",
    "    Parameters:\n",
    "    -----------\n",
    "    fuzzy_set : array of tuples\n",
    "        the original fuzzy set (numpy array is needed!)\n",
    "    \n",
    "    Returns:\n",
    "    ---------\n",
    "    new_fuzzy_set : array of tuples\n",
    "        the new fuzzy set that dialation is applied to its membership values\n",
    "    \"\"\"\n",
    "    ## copy the set's values\n",
    "    X = fuzzy_set[:, 0].copy()\n",
    "    mu = fuzzy_set[:, 1].copy()\n",
    "    mu = np.power(mu, 0.5)\n",
    "    \n",
    "    ## create a new fuzzy set\n",
    "    new_fuzzy_set = np.stack((X, mu), axis=1)\n",
    "    \n",
    "    return new_fuzzy_set\n",
    "\n",
    "def find_fuzzy_concentration(fuzzy_set):\n",
    "    \"\"\"\n",
    "    The concentration operator representing the linguistic variable `Very`\n",
    "    \n",
    "    Parameters:\n",
    "    -----------\n",
    "    fuzzy_set : array of tuples\n",
    "        the original fuzzy set (numpy array is needed!)\n",
    "    \n",
    "    Returns:\n",
    "    ---------\n",
    "    new_fuzzy_set : array of tuples\n",
    "        the new fuzzy set that concentration is applied to its membership values\n",
    "    \"\"\"\n",
    "    ## copy the set's values\n",
    "    X = fuzzy_set[:, 0].copy()\n",
    "    mu = fuzzy_set[:, 1].copy()\n",
    "    mu = np.power(mu, 2)\n",
    "    \n",
    "    ## create a new fuzzy set\n",
    "    new_fuzzy_set = np.stack((X, mu), axis=1)\n",
    "    \n",
    "    return new_fuzzy_set"
   ]
  },
  {
   "cell_type": "code",
   "execution_count": 69,
   "metadata": {},
   "outputs": [
    {
     "data": {
      "image/png": "[encoded data removed]",
      "text/plain": [
       "<Figure size 432x288 with 1 Axes>"
      ]
     },
     "metadata": {
      "filenames": {
       "image/png": "D:\\lessons\\MSc\\2nd Term\\Fuzzy systems\\Excersises\\_build\\jupyter_execute\\HW1\\main_128_0.png"
      },
      "needs_background": "light"
     },
     "output_type": "display_data"
    }
   ],
   "source": [
    "X = np.linspace(-50, 150, 1000)\n",
    "fuzzy_set = membership_function_Q1_CH9(X)\n",
    "\n",
    "Y = fuzzy_set[:, 1]\n",
    "\n",
    "plt.plot(X, Y)\n",
    "plt.legend([\"'Old' membership function\"])\n",
    "plt.show()"
   ]
  },
  {
   "cell_type": "code",
   "execution_count": 70,
   "metadata": {},
   "outputs": [
    {
     "data": {
      "image/png": "[encoded data removed]",
      "text/plain": [
       "<Figure size 432x288 with 1 Axes>"
      ]
     },
     "metadata": {
      "filenames": {
       "image/png": "D:\\lessons\\MSc\\2nd Term\\Fuzzy systems\\Excersises\\_build\\jupyter_execute\\HW1\\main_129_0.png"
      },
      "needs_background": "light"
     },
     "output_type": "display_data"
    }
   ],
   "source": [
    "fuzzy_set_concentration = find_fuzzy_concentration(fuzzy_set)\n",
    "\n",
    "Y = fuzzy_set_concentration[:, 1]\n",
    "\n",
    "plt.plot(X, Y)\n",
    "plt.legend([\"'Very Old' membership function\"], loc='upper left')\n",
    "plt.show()"
   ]
  },
  {
   "cell_type": "code",
   "execution_count": 71,
   "metadata": {},
   "outputs": [
    {
     "data": {
      "image/png": "[encoded data removed]",
      "text/plain": [
       "<Figure size 432x288 with 1 Axes>"
      ]
     },
     "metadata": {
      "filenames": {
       "image/png": "D:\\lessons\\MSc\\2nd Term\\Fuzzy systems\\Excersises\\_build\\jupyter_execute\\HW1\\main_130_0.png"
      },
      "needs_background": "light"
     },
     "output_type": "display_data"
    }
   ],
   "source": [
    "fuzzy_set_dialation = find_fuzzy_Dialation(fuzzy_set)\n",
    "\n",
    "Y = fuzzy_set_dialation[:, 1]\n",
    "\n",
    "plt.plot(X, Y)\n",
    "plt.legend([\"'More or less Old' membership function\"], loc='upper left')\n",
    "plt.show()"
   ]
  },
  {
   "cell_type": "code",
   "execution_count": 72,
   "metadata": {},
   "outputs": [
    {
     "data": {
      "image/png": "[encoded data removed]",
      "text/plain": [
       "<Figure size 432x288 with 1 Axes>"
      ]
     },
     "metadata": {
      "filenames": {
       "image/png": "D:\\lessons\\MSc\\2nd Term\\Fuzzy systems\\Excersises\\_build\\jupyter_execute\\HW1\\main_131_0.png"
      },
      "needs_background": "light"
     },
     "output_type": "display_data"
    }
   ],
   "source": [
    "## Apply `not` on `very old`\n",
    "Y = fuzzy_set_concentration[:, 1]\n",
    "\n",
    "plt.plot(X, 1-Y)\n",
    "plt.legend([\"'Not Very Old' membership function\"], loc='lower left')\n",
    "plt.show()"
   ]
  },
  {
   "cell_type": "markdown",
   "metadata": {},
   "source": [
    "## Ex 19. \n",
    "Answer to the question 19, chapter 5 from the book Ross, 4th ed. 2017"
   ]
  },
  {
   "cell_type": "markdown",
   "metadata": {},
   "source": [
    "We re-name each set as below.\n",
    "\\begin{equation}\n",
    "\\tilde{A} = \\text{\"Low Precipitation\"} = \\big\\{[20, 0.8], [30, 0.6], [40, 0.5], [50, 0.2], [60, 0.1]\\big\\} \\\\\n",
    "\\tilde{B} = \\text{\"High Precipitation\"} = \\big\\{[20, 0.2], [30, 0.3], [40, 0.6], [50, 0.8], [60, 1]\\big\\}  \\\\\n",
    "\\tilde{C} = \\text{\"High Precipitation\"} = \\big\\{[2.5, 0.9], [5, 0.7], [7.5, 0.4], [10, 0.2], [12.5, 0.1]\\big\\} \\\\\n",
    "\\tilde{D} = \\text{\"High Precipitation\"} = \\big\\{[2.5, 0.3], [5, 0.2], [7.5, 0.5], [10, 0.8], [12.5, 0.9]\\big\\} \n",
    "\\end{equation}"
   ]
  },
  {
   "cell_type": "code",
   "execution_count": 73,
   "metadata": {},
   "outputs": [],
   "source": [
    "A_tilde = np.array([[20, 0.8], [30, 0.6], [40, 0.5], [50, 0.2], [60, 0.1]])\n",
    "B_tilde = np.array([[20, 0.2], [30, 0.3], [40, 0.6], [50, 0.8], [60, 1]])\n",
    "C_tilde = np.array([[2.5, 0.9], [5, 0.7], [7.5, 0.4], [10, 0.2], [12.5, 0.1]])\n",
    "D_tilde = np.array([[2.5, 0.3], [5, 0.2], [7.5, 0.5], [10, 0.8], [12.5, 0.9]])"
   ]
  },
  {
   "cell_type": "markdown",
   "metadata": {},
   "source": [
    "### (i) Very low precipitation\n",
    "Applying \"Very\" on $\\tilde{A}$, means we need to apply concentration function."
   ]
  },
  {
   "cell_type": "code",
   "execution_count": 74,
   "metadata": {},
   "outputs": [
    {
     "data": {
      "text/plain": [
       "array([[20.  ,  0.64],\n",
       "       [30.  ,  0.36],\n",
       "       [40.  ,  0.25],\n",
       "       [50.  ,  0.04],\n",
       "       [60.  ,  0.01]])"
      ]
     },
     "execution_count": 74,
     "metadata": {},
     "output_type": "execute_result"
    }
   ],
   "source": [
    "find_fuzzy_concentration(A_tilde)"
   ]
  },
  {
   "cell_type": "markdown",
   "metadata": {},
   "source": [
    "### (ii) Very high Intensity\n",
    "Applying \"Very\" on $\\tilde{D}$, means we need to apply concentration function."
   ]
  },
  {
   "cell_type": "code",
   "execution_count": 75,
   "metadata": {},
   "outputs": [
    {
     "data": {
      "text/plain": [
       "array([[ 2.5 ,  0.09],\n",
       "       [ 5.  ,  0.04],\n",
       "       [ 7.5 ,  0.25],\n",
       "       [10.  ,  0.64],\n",
       "       [12.5 ,  0.81]])"
      ]
     },
     "execution_count": 75,
     "metadata": {},
     "output_type": "execute_result"
    }
   ],
   "source": [
    "find_fuzzy_concentration(D_tilde)"
   ]
  },
  {
   "cell_type": "markdown",
   "metadata": {},
   "source": [
    "### (iii) Not Very high precipitation\n",
    "Applying \"Not Very\" on $\\tilde{B}$, means we need to first apply concentration function and second apply complement on fuzzy values. (Note that complement funciton is written in Excersise 6 and will be used here)"
   ]
  },
  {
   "cell_type": "code",
   "execution_count": 76,
   "metadata": {},
   "outputs": [
    {
     "data": {
      "text/plain": [
       "array([[20.  ,  0.96],\n",
       "       [30.  ,  0.91],\n",
       "       [40.  ,  0.64],\n",
       "       [50.  ,  0.36],\n",
       "       [60.  ,  0.  ]])"
      ]
     },
     "execution_count": 76,
     "metadata": {},
     "output_type": "execute_result"
    }
   ],
   "source": [
    "complement_fuzzy(find_fuzzy_concentration(B_tilde))"
   ]
  },
  {
   "cell_type": "markdown",
   "metadata": {},
   "source": [
    "### (iv) Not Very high and not very low intensity\n",
    "We need to use the method we used in part (iii) and another and method that we implement it here."
   ]
  },
  {
   "cell_type": "code",
   "execution_count": 77,
   "metadata": {},
   "outputs": [],
   "source": [
    "def find_fuzzy_and(fuzzy_set1, fuzzy_set2):\n",
    "    \"\"\"\n",
    "    Apply standard `and` operator on two fuzzy sets\n",
    "    (Note: the domains must be the same)\n",
    "    \n",
    "    Parameters:\n",
    "    -----------\n",
    "    fuzzy_set1 : matrix of tuples\n",
    "    fuzzy_set2 : matrix of tuples\n",
    "\n",
    "    Returns:\n",
    "    ---------\n",
    "    fuzzy_result : matrix of tuples\n",
    "        the result of standarad `and` operation on fuzzy_set1 and fuzzy_set2\n",
    "    \"\"\"\n",
    "    ## get the membership values\n",
    "    mu_1 = fuzzy_set1[:, 1]\n",
    "    mu_2 = fuzzy_set2[:, 1] \n",
    "    \n",
    "    mu = np.minimum(mu_1, mu_2)\n",
    "    \n",
    "    fuzzy_result = np.stack((fuzzy_set1[:, 0], mu), axis=1)\n",
    "    return fuzzy_result"
   ]
  },
  {
   "cell_type": "code",
   "execution_count": 78,
   "metadata": {},
   "outputs": [
    {
     "data": {
      "text/plain": [
       "array([[ 2.5 ,  0.91],\n",
       "       [ 5.  ,  0.96],\n",
       "       [ 7.5 ,  0.75],\n",
       "       [10.  ,  0.36],\n",
       "       [12.5 ,  0.19]])"
      ]
     },
     "execution_count": 78,
     "metadata": {},
     "output_type": "execute_result"
    }
   ],
   "source": [
    "## Not Very High Intensity\n",
    "not_very_D_tilde = complement_fuzzy(find_fuzzy_concentration(D_tilde))\n",
    "not_very_D_tilde"
   ]
  },
  {
   "cell_type": "code",
   "execution_count": 79,
   "metadata": {},
   "outputs": [
    {
     "data": {
      "text/plain": [
       "array([[ 2.5 ,  0.19],\n",
       "       [ 5.  ,  0.51],\n",
       "       [ 7.5 ,  0.84],\n",
       "       [10.  ,  0.96],\n",
       "       [12.5 ,  0.99]])"
      ]
     },
     "execution_count": 79,
     "metadata": {},
     "output_type": "execute_result"
    }
   ],
   "source": [
    "## Not Very Low Intensity\n",
    "not_very_C_tilde = complement_fuzzy(find_fuzzy_concentration(C_tilde))\n",
    "not_very_C_tilde"
   ]
  },
  {
   "cell_type": "code",
   "execution_count": 80,
   "metadata": {},
   "outputs": [
    {
     "data": {
      "text/plain": [
       "array([[ 2.5 ,  0.19],\n",
       "       [ 5.  ,  0.51],\n",
       "       [ 7.5 ,  0.75],\n",
       "       [10.  ,  0.36],\n",
       "       [12.5 ,  0.19]])"
      ]
     },
     "execution_count": 80,
     "metadata": {},
     "output_type": "execute_result"
    }
   ],
   "source": [
    "## The result of and operator\n",
    "find_fuzzy_and(not_very_C_tilde, not_very_D_tilde)"
   ]
  },
  {
   "cell_type": "markdown",
   "metadata": {},
   "source": [
    "### (v) Slightly high precipitation and slightly low precipitation\n",
    "For the term \"Slightly\" we need to apply the equation below\n",
    "\\begin{equation}\n",
    "\\text{Slightly }\\tilde{A} = \\texttt{int}[\\texttt{plus } \\tilde{A}\\texttt{ and not }(\\texttt{very} \\tilde{A})] \n",
    "\\end{equation}"
   ]
  },
  {
   "cell_type": "markdown",
   "metadata": {},
   "source": [
    "the intensification function equation is as below\n",
    "\\begin{equation}\n",
    "\\mu_{int(\\tilde{A})}(u) = \\begin{cases}\n",
    "2(\\mu_{\\tilde{A}}(u))^2 & \\text{for  }\\mu_{\\tilde{A}}(u) \\in [0, 0.5] \\\\\n",
    "1 - 2(1 - \\mu_{\\tilde{A}}(u))^2  & \\text{otherwise}\n",
    "\\end{cases}\n",
    "\\end{equation}\n",
    "So we implement it using python as below."
   ]
  },
  {
   "cell_type": "code",
   "execution_count": 81,
   "metadata": {},
   "outputs": [],
   "source": [
    "def find_fuzzy_intensification(fuzzy_set):\n",
    "    \"\"\"\n",
    "    The Intensification operator\n",
    "    \n",
    "    Parameters:\n",
    "    -----------\n",
    "    fuzzy_set : array of tuples\n",
    "        the original fuzzy set (numpy array is needed!)\n",
    "    \n",
    "    Returns:\n",
    "    ---------\n",
    "    new_fuzzy_set : array of tuples\n",
    "        the new fuzzy set that intensification is applied to its membership values\n",
    "    \"\"\"\n",
    "    ## copy the set's values\n",
    "    X = fuzzy_set[:, 0].copy()\n",
    "    original_mu = fuzzy_set[:, 1].copy()\n",
    "    \n",
    "    mu = 2*np.power(original_mu, 2)\n",
    "    \n",
    "    ## apply the second condition in the equation of Intensification\n",
    "    mu = np.where((original_mu >=0) | (original_mu<=0.5), mu, 1 - 2 * np.power(1- original_mu, 2))\n",
    "    \n",
    "    ## create a new fuzzy set\n",
    "    new_fuzzy_set = np.stack((X, mu), axis=1)\n",
    "    \n",
    "    return new_fuzzy_set\n",
    "\n",
    "def find_fuzzy_plus(fuzzy_set):\n",
    "    \"\"\"\n",
    "    The plus operator in fuzzy sets\n",
    "    \n",
    "    Parameters:\n",
    "    -----------\n",
    "    fuzzy_set : array of tuples\n",
    "        the original fuzzy set (numpy array is needed!)\n",
    "    \n",
    "    Returns:\n",
    "    ---------\n",
    "    new_fuzzy_set : array of tuples\n",
    "        the new fuzzy set that plus is applied to its membership values\n",
    "    \"\"\"\n",
    "    ## copy the set's values\n",
    "    X = fuzzy_set[:, 0].copy()\n",
    "    mu = fuzzy_set[:, 1].copy()\n",
    "    \n",
    "    mu = np.power(mu, 1.25)\n",
    "    \n",
    "    ## create a new fuzzy set\n",
    "    new_fuzzy_set = np.stack((X, mu), axis=1)\n",
    "    \n",
    "    return new_fuzzy_set"
   ]
  },
  {
   "cell_type": "code",
   "execution_count": 82,
   "metadata": {},
   "outputs": [
    {
     "data": {
      "text/plain": [
       "array([[20.        ,  0.02229124],\n",
       "       [30.        ,  0.10161332],\n",
       "       [40.        ,  0.17157288],\n",
       "       [50.        ,  0.03577709],\n",
       "       [60.        ,  0.00632456]])"
      ]
     },
     "execution_count": 82,
     "metadata": {},
     "output_type": "execute_result"
    }
   ],
   "source": [
    "## for slightly we've broken the equation down into many parts\n",
    "p1_set = find_fuzzy_plus(A_tilde)\n",
    "p2_set = complement_fuzzy(find_fuzzy_Dialation(A_tilde))\n",
    "## apply and operator\n",
    "p3_set = find_fuzzy_and(p1_set, p2_set)\n",
    "\n",
    "\n",
    "result = find_fuzzy_intensification(p3_set)\n",
    "result"
   ]
  },
  {
   "cell_type": "code",
   "execution_count": 83,
   "metadata": {},
   "outputs": [],
   "source": [
    "## restore printing option to default\n",
    "## meaning scientific notation would be applied\n",
    "np.set_printoptions(suppress=False)"
   ]
  }
 ],
 "metadata": {
  "kernelspec": {
   "display_name": "Python 3 (ipykernel)",
   "language": "python",
   "name": "python3"
  },
  "language_info": {
   "codemirror_mode": {
    "name": "ipython",
    "version": 3
   },
   "file_extension": ".py",
   "mimetype": "text/x-python",
   "name": "python",
   "nbconvert_exporter": "python",
   "pygments_lexer": "ipython3",
   "version": "3.9.0"
  }
 },
 "nbformat": 4,
 "nbformat_minor": 4
}