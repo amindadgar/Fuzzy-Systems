{
 "cells": [
  {
   "cell_type": "markdown",
   "id": "e9fe3da3",
   "metadata": {},
   "source": [
    "# Homework #3 of Fuzzy Systems\n",
    "**Student name:** Seyed Mohammad Amin Dadgar <br>\n",
    "**Student Id:** 4003624016 <br>\n",
    "**Instructor:** Dr. Hossein Karshenas <br>\n",
    "\n",
    "**Date:** June, 2022 | Khordad, 1401"
   ]
  },
  {
   "cell_type": "markdown",
   "id": "14c486ee",
   "metadata": {},
   "source": [
    "The questions are from the excersises of the books Fuzzy Set Theory — and Its Applications by H.J. Zimmerman $4^{th}$ edition $2001$ and fuzzy logic with engineering applications $4^{th}$ edition $2017$ by Dr Ross. We've specified the question numbers and the answers of it in this file."
   ]
  },
  {
   "cell_type": "markdown",
   "id": "bb0d72dd",
   "metadata": {},
   "source": [
    "<center>\n",
    "<h1>Table of contents</h1>\n",
    "    \n",
    "<h2> Fuzzy Inference Systems and Fuzzy Controller </h2>\n",
    "<a href=#Q1>Question 1</a> <br>\n",
    "<a href=#Q2>Question 2</a> <br>\n",
    "<a href=#Q3>Question 3</a> <br>\n",
    "<a href=#Q4>Question 4</a> <br>\n",
    "<a href=#Q5>Question 5</a> <br>\n",
    "<a href=#Q6>Question 6</a> <br>\n",
    "\n",
    "<h2> Data-Driven Modeling</h2>\n",
    "<a href=#Q7>Question 7</a> <br>\n",
    "<a href=#Q8>Question 8</a> <br>\n",
    "\n",
    "<h2>Possibility Distribution</h2>\n",
    "<a href=#Q9>Question 9</a> <br>\n",
    "<a href=#Q10>Question 10</a> <br>\n",
    "<a href=#Q11>Question 11</a> <br>\n",
    "<a href=#Q12>Question 12</a> <br>\n",
    "    \n",
    "<h2>Extended operations on fuzzy numbers</h2>\n",
    "<a href=#Q13>Question 13</a> <br>\n",
    "<a href=#Q14>Question 14</a> <br>\n",
    "\n",
    "<h2>Fuzzy Clustering</h2>\n",
    "<a href=#Q15>Question 15</a> <br>\n",
    "<a href=#Q16>Question 16</a> <br>\n",
    "<a href=#Q17>Question 17</a> <br>\n",
    "<a href=#Q18>Question 18</a> <br>\n",
    "<a href=#Q19>Question 19</a> <br>\n",
    "</center>\n"
   ]
  },
  {
   "cell_type": "markdown",
   "id": "609cdc01",
   "metadata": {},
   "source": [
    "Libraries Used:\n",
    "- matplotlib: This library is used for visualizations.\n",
    "- numpy: Numpy library helped us with arrays and mathematical calculations.\n",
    "- pandas: Used For creating a beautiful represetive of datas."
   ]
  },
  {
   "cell_type": "code",
   "execution_count": 1,
   "id": "6875e9d6",
   "metadata": {},
   "outputs": [],
   "source": [
    "import matplotlib.pyplot as plt\n",
    "import numpy as np\n",
    "import pandas as pd"
   ]
  },
  {
   "cell_type": "markdown",
   "id": "84c39e8b",
   "metadata": {},
   "source": [
    "## Fuzzy Inference Systems and Fuzzy Controller"
   ]
  },
  {
   "cell_type": "markdown",
   "id": "1f5b4e36",
   "metadata": {},
   "source": [
    "### Q1\n",
    "Answer to the question 6 of chapter 9 of the Zimmerman book."
   ]
  },
  {
   "attachments": {
    "image.png": {
     "image/png": "[encoded data removed]"
    }
   },
   "cell_type": "markdown",
   "id": "98088886",
   "metadata": {},
   "source": [
    "Let the universe $X=\\{1, 2, 3, 4, 5\\}$ and \"small integers\" represented as a fuzzy set $\\tilde{A}=\\{(1, 1), (2, .5), (3, .4), (4, .2)\\}.$\n",
    "\n",
    "Having the Fuzzy relation \"Almost Equal\" as below\n",
    "![image.png](attachment:image.png)\n",
    "Find the fuzzy set \"rather small integers\" using the composition $\\tilde{B}=\\tilde{A} o \\tilde{R}$"
   ]
  },
  {
   "cell_type": "markdown",
   "id": "8bf95d01",
   "metadata": {},
   "source": [
    "##### Answer\n",
    "If we assume the composition as a `max-min` operation, we can find the answer of the $\\tilde{A} o \\tilde{R}$ as below\n",
    "\\begin{equation}\n",
    "\\tilde{B} = \\tilde{A} o \\tilde{R} = \\{(1, 1), (2, .8), (3, .5), (4, .4)\\}\n",
    "\\end{equation}"
   ]
  },
  {
   "cell_type": "markdown",
   "id": "db4438da",
   "metadata": {},
   "source": [
    "### Q2\n",
    "Answer to the question 12 of chapter 5 in the Ross book."
   ]
  },
  {
   "cell_type": "markdown",
   "id": "a6f450fc",
   "metadata": {},
   "source": [
    "Considering the universe set X=[0,9]. \n",
    "\n",
    "Having $\\tilde{A}={(0, 0.4), (1, 0.7), (2, 0.2), (3, 0.1), (4, 0.3)}$ and $\\tilde{B}={(5, 0), (6, 0.5), (7, 0.6), (8, 0.3), (9, 0.7)}$.\n",
    "\n",
    "- Part b. Construct the rule **$\\tilde{R}$ = If $\\tilde{A}$ then $\\tilde{B}$** using Mamdani implication.\n",
    "- Part c. having the new antecedent $\\tilde{A} = \\{(0, .3), (1, .7), (2, .6), (3, .3), (4, .5) \\}$ find the new consequent $\\tilde{B}^{'}$."
   ]
  },
  {
   "attachments": {
    "image.png": {
     "image/png": "[encoded data removed]"
    }
   },
   "cell_type": "markdown",
   "id": "e3281363",
   "metadata": {},
   "source": [
    "##### Answer\n",
    "We can find the $\\mu_{\\tilde{R}} = min\\{\\mu_{\\tilde{A}}, \\mu_{\\tilde{B}}\\}$ as a matrix below\n",
    "![image.png](attachment:image.png)"
   ]
  },
  {
   "cell_type": "markdown",
   "id": "29882635",
   "metadata": {},
   "source": [
    "And to find the $\\tilde{B}^{'}$, we can find the answer using the Mamdani implication rule(`max-min` operation will be applied on $\\tilde{R}$). We will write the computations for one of the values `0`, and the others are the same and we will calculate it without writing (using mind).\n",
    "\n",
    "Calculation:\n",
    "\\begin{equation}\n",
    "\\mu_{\\tilde{B}^{'}}(0) = max\\{min\\{0.3, 0\\}, min\\{0.7, 0\\}, min\\{0.3, 0\\}, min\\{0.3, 0\\}, min\\{0.5, 0\\}\\} = max\\{0,0 , 0, 0, 0\\} = 0\n",
    "\\end{equation}\n",
    "So to answer for all values of $X$ is as below\n",
    "\\begin{equation}\n",
    "\\tilde{B}^{'} = \\{(5, 0), (6, 0.5), (7, 0.6), (8, 0.3), (9, 0.7)\\}\n",
    "\\end{equation}"
   ]
  },
  {
   "cell_type": "markdown",
   "id": "54eb9c6a",
   "metadata": {},
   "source": [
    "### Q3\n",
    "Answer to the question 15 of chapter 5, using the Ross book. \n",
    "\n",
    "\\begin{equation}\n",
    "\\mu_{\\tilde{H}}(x) = \\{(10, .7), (20, .6), (30, .3), (40, .4), (50, .2)\\} \\\\\n",
    "\\mu_{\\tilde{D}}(y) = \\{(5*10^4, .8), (10*10^4, .5), (15*10^4, .6), (20*10^4, .4), (15*10^4, .1)\\}\n",
    "\\end{equation}"
   ]
  },
  {
   "attachments": {
    "image.png": {
     "image/png": "[encoded data removed]"
    }
   },
   "cell_type": "markdown",
   "id": "2b8fe7a1",
   "metadata": {},
   "source": [
    "- Part a.Using the classical implication `min` operator find the asnwer to the rule **If high water level (H) THEN more discharge (D)**\n",
    "![image.png](attachment:image.png)\n",
    "\n",
    "- Part b. Using the `max-min` composition find the discharge associated with this level of water $\\mu_{\\tilde{H}}^{'} = \\{(10, .7),(20, .3), (30, .5), (40, .6), (50, .4)\\}$.\n",
    "\n",
    "The answer is \n",
    "\\begin{equation}\n",
    "\\mu_{\\tilde{D}}^{'} = \\{(5*10^4, 0.7), (10*10^4, 0.5), (15*10^4, 0.6), (20*10^4, 0.4), (25*10^4, 0.1)\\}\n",
    "\\end{equation}"
   ]
  },
  {
   "cell_type": "markdown",
   "id": "726173d7",
   "metadata": {},
   "source": [
    "### Q4\n",
    "Answer to the question 26 of chapter 5, using the Ross book."
   ]
  },
  {
   "attachments": {
    "image.png": {
     "image/png": "[encoded data removed]"
    }
   },
   "cell_type": "markdown",
   "id": "44406a48",
   "metadata": {},
   "source": [
    "Having the values below as input, Apply Mamdani and a Sugeno inference using the membership functions and the rules.\n",
    "\n",
    "**Inputs**\n",
    "\\begin{equation}\n",
    "Re = 1.965 \\times 10^4 \\\\\n",
    "Pr = 275\n",
    "\\end{equation}\n",
    "**Rules**\n",
    "\\begin{equation}\n",
    "A. \\text{If Re is high and Pr is low Then Nu is low.} \\\\\n",
    "B. \\text{If Re is low and Pr is low Then Nu is low.} \\\\\n",
    "C. \\text{If Re is high and Pr is high Then Nu is medium.} \\\\\n",
    "D. \\text{If Re is low and Pr is high Then Nu is medium.}\n",
    "\\end{equation}\n",
    "**Membership Functions**\n",
    "![image.png](attachment:image.png)"
   ]
  },
  {
   "cell_type": "markdown",
   "id": "6945b0bb",
   "metadata": {},
   "source": [
    "Computing the `Low` membership value for *Re* gaves us $\\mu_{RE, Low}(1.965 \\times 10^4) = 0.25$ <br>\n",
    "Computing the `High` membership value for *Re* gaves us $\\mu_{RE, High}(1.965 \\times 10^4) = 0.25$ <br>\n",
    "\n",
    "Computing the `Low` membership value for *Pr* gaves us $\\mu_{Pr, Low}(275) = 0.75$ <br>\n",
    "Computing the `High` membership value for *Pr* gaves us $\\mu_{Pr, High}(275) = 0.2$ <br>\n",
    "\n",
    "Note: the values for each one is near accurate, because we're finding the membership values by look."
   ]
  },
  {
   "cell_type": "markdown",
   "id": "9096b403",
   "metadata": {},
   "source": [
    "Using the values above we can Find the membership values to each rule\n",
    "\\begin{equation}\n",
    "\\text{Rule A.} \\mu_{Nu, Low} = min\\{0.25, 0.75\\} = 0.25 \\\\\n",
    "\\text{Rule B.} \\mu_{Nu, Low} = min\\{0.25, 0.75\\} = 0.25 \\\\\n",
    "\\text{Rule C.} \\mu_{Nu, Medium} = min\\{0.25, 0.2\\} = 0.2 \\\\\n",
    "\\text{Rule D.} \\mu_{Nu, Medium} = min\\{0.25, 0.2\\} = 0.2\n",
    "\\end{equation}\n",
    "And the membership values for $\\mu_{Nu, big}$ is zero."
   ]
  },
  {
   "cell_type": "markdown",
   "id": "73f0a9db",
   "metadata": {},
   "source": [
    "So the output of Mamdani equation is as below"
   ]
  },
  {
   "cell_type": "code",
   "execution_count": 2,
   "id": "27e93368",
   "metadata": {},
   "outputs": [
    {
     "data": {
      "image/png": "[encoded data removed]",
      "text/plain": [
       "<Figure size 432x288 with 1 Axes>"
      ]
     },
     "metadata": {
      "needs_background": "light"
     },
     "output_type": "display_data"
    }
   ],
   "source": [
    "x1 = np.linspace(375, 575, 201).astype(float)\n",
    "x2 = np.linspace(525, 725, 201).astype(float)\n",
    "\n",
    "\n",
    "y1 = np.full((201), 0.25)\n",
    "y2 = np.full((201), 0.25)\n",
    "\n",
    "## note: values are near accurate\n",
    "y1 = np.where(x1 <= 400, (1/100) * (x1 - 375), y1)\n",
    "y1 = np.where(x1 >= 550, -(1/100) * (x1 - 575), y1)\n",
    "\n",
    "y2 = np.where(x2 <= 525, (1/100) * (x2 - 525), y2)\n",
    "y2 = np.where(x2 >= 700, -(1/100) * (x2 - 725), y2)\n",
    "\n",
    "\n",
    "plt.fill(x1, y1, alpha=0.8)\n",
    "plt.fill(x2, y2, alpha = 0.8)\n",
    "plt.legend(['$Nu = Medium$', '$Nu = Low$'])\n",
    "plt.show()"
   ]
  },
  {
   "cell_type": "markdown",
   "id": "f9e859d6",
   "metadata": {},
   "source": [
    "The sugeno inference would gives us the equation below for the result of inference\n",
    "\n",
    "\\begin{equation}\n",
    "\\frac{0.25(475) + 0.2 (475) + 0.2(625) + 0.2(625)}{0.25 + 0.2 + 0.2 + 0.2} = \\frac{463.75}{0.85} = 545.59\n",
    "\\end{equation}"
   ]
  },
  {
   "cell_type": "markdown",
   "id": "80b363c2",
   "metadata": {},
   "source": [
    "### Q5\n",
    "Answer to the question 3 of chapter 11, using the Zimmerman book."
   ]
  },
  {
   "attachments": {
    "image.png": {
     "image/png": "[encoded data removed]"
    }
   },
   "cell_type": "markdown",
   "id": "03dc1475",
   "metadata": {},
   "source": [
    "Using the rule base system below, (a) Apply Mamdani implication on `error=2` and `change of error = 4`. (b) Then using two methods `MOM` and `COG`.\n",
    "![image.png](attachment:image.png)"
   ]
  },
  {
   "cell_type": "markdown",
   "id": "28e29f70",
   "metadata": {},
   "source": [
    "**Answer**\n",
    "\n",
    "First we will try to plot each fuzzy rule membership values.\n",
    "\n",
    "Error membership function is as below"
   ]
  },
  {
   "cell_type": "code",
   "execution_count": 3,
   "id": "d8c86e56",
   "metadata": {},
   "outputs": [
    {
     "data": {
      "image/png": "[encoded data removed]",
      "text/plain": [
       "<Figure size 432x288 with 1 Axes>"
      ]
     },
     "metadata": {
      "needs_background": "light"
     },
     "output_type": "display_data"
    }
   ],
   "source": [
    "X_rules = np.linspace(-8, 8, 161)\n",
    "## the plot for `error` is as below\n",
    "## constructing a plot for each granule\n",
    "\n",
    "## for negative, we have `1` and the equation `-1/2 (x+1)`\n",
    "negative_error = -0.5 * (X_rules+1)\n",
    "negative_error = np.where(X_rules < -3, 1, negative_error)\n",
    "negative_error = np.where(negative_error < 0, 0, negative_error)\n",
    "\n",
    "## for zero granule, we have the equations `-1/3 (x-3)` for right expansion\n",
    "## And `-1/3 (x+3)` for the left expansion\n",
    "\n",
    "## right expansion\n",
    "zero_error = (-1/3) * (X_rules-3)\n",
    "## left expansion\n",
    "zero_error = np.where(X_rules < 0, (1/3)* (X_rules+3), zero_error)\n",
    "## zero ing for other values\n",
    "zero_error = np.where((X_rules < -3) | (X_rules > 3), 0, zero_error)\n",
    "\n",
    "## for positive granule, the left expansion equation is `1/2 (x-1)`\n",
    "## And the right expansion equation is `1` \n",
    "\n",
    "positive_error = 0.5 * (X_rules-1)\n",
    "positive_error = np.where(X_rules > 3, 1, positive_error)\n",
    "positive_error = np.where(X_rules < 1, 0, positive_error)\n",
    "\n",
    "plt.plot(X_rules, negative_error)\n",
    "plt.plot(X_rules, zero_error)\n",
    "plt.plot(X_rules, positive_error)\n",
    "plt.xticks(range(-8, 9))\n",
    "plt.ylabel('$\\mu(error)$')\n",
    "plt.xlabel('error')\n",
    "\n",
    "plt.text(x=-8, y=0.5, s=\"Error Memeberhip\", bbox=dict(facecolor='yellow', alpha=0.5))\n",
    "plt.legend(['negative', 'zero', 'positive'])\n",
    "plt.show()"
   ]
  },
  {
   "cell_type": "markdown",
   "id": "5b5cb9f0",
   "metadata": {},
   "source": [
    "Change of error is"
   ]
  },
  {
   "cell_type": "code",
   "execution_count": 4,
   "id": "ae98f2c9",
   "metadata": {},
   "outputs": [
    {
     "data": {
      "image/png": "[encoded data removed]",
      "text/plain": [
       "<Figure size 432x288 with 1 Axes>"
      ]
     },
     "metadata": {
      "needs_background": "light"
     },
     "output_type": "display_data"
    }
   ],
   "source": [
    "X_rules = np.linspace(-8, 8, 161)\n",
    "## the plot for `error` is as below\n",
    "## constructing a plot for each granule\n",
    "\n",
    "## for negative, we have `1` and the equation `-1/4 (x+1)`\n",
    "negative_change_error = -0.25 * (X_rules+1)\n",
    "negative_change_error = np.where(X_rules < -5, 1, negative_change_error)\n",
    "negative_change_error = np.where(negative_change_error < 0, 0, negative_change_error)\n",
    "\n",
    "## for zero granule, we have trapezoidal\n",
    "## the equations: \n",
    "##   `(x-3)` for right expansion\n",
    "##   `1` for the middle (range(-2, 2))\n",
    "##   `-(x+3)` for the left expansion\n",
    "\n",
    "## right expansion\n",
    "zero_change_error = -(X_rules-3)\n",
    "## left expansion\n",
    "zero_change_error = np.where(X_rules < -2, (X_rules+3), zero_change_error)\n",
    "## zero ing for other values\n",
    "zero_change_error = np.where((X_rules < -3) | (X_rules > 3), 0, zero_change_error)\n",
    "## the middle values\n",
    "zero_change_error = np.where((X_rules >= -2) & (X_rules <= 2), 1, zero_change_error)\n",
    "\n",
    "\n",
    "## for positive granule, the left expansion equation is `1/4 (x-1)`\n",
    "## And the right expansion equation is `1` \n",
    "\n",
    "positive_change_error = 0.25 * (X_rules-1)\n",
    "positive_change_error = np.where(X_rules > 5, 1, positive_change_error)\n",
    "positive_change_error = np.where(X_rules < 1, 0, positive_change_error)\n",
    "\n",
    "plt.plot(X_rules, negative_change_error)\n",
    "plt.plot(X_rules, zero_change_error)\n",
    "plt.plot(X_rules, positive_change_error)\n",
    "plt.xticks(range(-8, 9))\n",
    "plt.ylabel('$\\mu(\\Delta(error))$')\n",
    "plt.xlabel('$\\Delta \\; error$')\n",
    "\n",
    "plt.text(x=-8, y=0.5, s=\"$\\Delta$Error\\n Memeberhip\", bbox=dict(facecolor='yellow', alpha=0.5))\n",
    "\n",
    "\n",
    "plt.legend(['negative', 'zero', 'positive'])\n",
    "plt.show()"
   ]
  },
  {
   "cell_type": "markdown",
   "id": "af8cae1d",
   "metadata": {},
   "source": [
    "And the control Action rule is"
   ]
  },
  {
   "cell_type": "code",
   "execution_count": 5,
   "id": "ebbe9d66",
   "metadata": {},
   "outputs": [
    {
     "data": {
      "image/png": "[encoded data removed]",
      "text/plain": [
       "<Figure size 432x288 with 1 Axes>"
      ]
     },
     "metadata": {
      "needs_background": "light"
     },
     "output_type": "display_data"
    }
   ],
   "source": [
    "X_action = np.linspace(0, 15, 151)\n",
    "\n",
    "\n",
    "## equations for small action is\n",
    "##   `1/2 (x-1)` for x in range(1, 3)\n",
    "##   `-1/2 (x-5)` for x in range(3, 5)\n",
    "##   `0` otherwise\n",
    "\n",
    "small_action = 0.5* (X_action-1)\n",
    "small_action = np.where((X_action > 3) & (X_action < 5), -0.5 * (X_action-5), small_action)\n",
    "small_action = np.where((X_action <= 1) | (X_action >= 5), 0, small_action)\n",
    "\n",
    "## equations for medium action is\n",
    "##  `1/2 (x-4)` for x in range(4,6)\n",
    "##  `-1/2 (x-10)` for x in range(8,10)\n",
    "##  `1` for x range(6,8)\n",
    "##  `0` otherwise\n",
    "\n",
    "medium_action = 0.5 * (X_action-4)\n",
    "medium_action = np.where((X_action > 8) & (X_action < 10), -0.5*(X_action-10), medium_action)\n",
    "medium_action = np.where((X_action > 6) & (X_action <= 8), 1, medium_action)\n",
    "medium_action = np.where((X_action <= 4) | (X_action >= 10), 0, medium_action)\n",
    "\n",
    "## And equations for big action is\n",
    "##   `1/3 (x-7)` for x in range(7, 10)\n",
    "##   `-1/2 (x-12)` for x in range(10, 12)\n",
    "##   `0` otherwise\n",
    "big_action = (1/3) * (X_action - 7)\n",
    "big_action = np.where((X_action > 10) & (X_action < 12), -0.5*(X_action-12), big_action)\n",
    "big_action = np.where((X_action <= 7) | (X_action >= 12), 0, big_action)\n",
    "\n",
    "plt.plot(X_action, small_action)\n",
    "plt.plot(X_action, medium_action)\n",
    "plt.plot(X_action, big_action)\n",
    "plt.xticks(range(0, 16))\n",
    "plt.ylabel('$\\mu(control action)$')\n",
    "plt.xlabel('control action')\n",
    "\n",
    "plt.text(x=12, y=0.5, s=\"Control Action\\n membership\", bbox=dict(facecolor='yellow', alpha=0.5))\n",
    "\n",
    "\n",
    "plt.legend(['small', 'medium', 'big'])\n",
    "plt.show()"
   ]
  },
  {
   "cell_type": "markdown",
   "id": "71a0516d",
   "metadata": {},
   "source": [
    "Until now we have plotted the membership values, so now we will dive into the answers. \n",
    "\n",
    "Find the fuzzy set of control while Having `error = 2` and `change of error=4`. "
   ]
  },
  {
   "cell_type": "code",
   "execution_count": 6,
   "id": "c7dd48b0",
   "metadata": {},
   "outputs": [],
   "source": [
    "## Creating the usable format of the actions, error and change of error \n",
    "SMALL_ACTION = np.stack((X_action, small_action), axis=1)\n",
    "MEDIUM_ACTION = np.stack((X_action, medium_action), axis=1)\n",
    "BIG_ACTION = np.stack((X_action, big_action), axis=1)\n",
    "\n",
    "NEGATIVE_Error = np.stack((X_rules, negative_error), axis=1)\n",
    "ZERO_Error = np.stack((X_rules, zero_error), axis=1)\n",
    "POSITIVE_Error = np.stack((X_rules, positive_error), axis=1)\n",
    "\n",
    "NEGATIVE_CHANGE_Error = np.stack((X_rules, negative_change_error), axis=1)\n",
    "ZERO_CHANGE_Error = np.stack((X_rules, zero_change_error), axis=1)\n",
    "POSITIVE_CHANGE_Error = np.stack((X_rules, positive_change_error), axis=1)"
   ]
  },
  {
   "cell_type": "code",
   "execution_count": 7,
   "id": "3a742365",
   "metadata": {},
   "outputs": [],
   "source": [
    "## Find the values \n",
    "def find_membership_value(fuzzy_set, x):\n",
    "    \"\"\"\n",
    "    Find the fuzzy membership value of a fuzzy set using the input `x`\n",
    "    \n",
    "    Parameters:\n",
    "    ------------\n",
    "    fuzzy_set : array of 2D tuple\n",
    "        the fuzzy set we need to use\n",
    "    x : float or integer\n",
    "        using the x value find the fuzzy membership value \n",
    "        \n",
    "    Returns:\n",
    "    ---------\n",
    "    value : floating between 0 and 1\n",
    "        the normalized membership value of the fuzzy set\n",
    "        Note: the fuzzy_set in the input must be normalized\n",
    "    \"\"\"\n",
    "    value = fuzzy_set[:, 1][fuzzy_set[:, 0] == x]\n",
    "    \n",
    "    return value\n",
    "\n",
    "error = 2\n",
    "error_change = 4\n",
    "\n",
    "negative_error_membership_value = find_membership_value(NEGATIVE_Error, error)\n",
    "zero_error_membership_value = find_membership_value(ZERO_Error, error)\n",
    "positive_error_membership_value = find_membership_value(POSITIVE_Error, error)\n",
    "\n",
    "negative_change_error_membership_value = find_membership_value(NEGATIVE_CHANGE_Error, error_change)\n",
    "zero_change_error_membership_value = find_membership_value(ZERO_CHANGE_Error, error_change)\n",
    "positive_change_error_membership_value = find_membership_value(POSITIVE_CHANGE_Error, error_change)"
   ]
  },
  {
   "cell_type": "markdown",
   "id": "9fcb1685",
   "metadata": {},
   "source": [
    "**Checking Rules\n",
    "Using Mamdani implication**\n",
    "\n",
    "- if error is negative and $\\Delta$ Error is negative $\\rightarrow$ Then action is big"
   ]
  },
  {
   "cell_type": "code",
   "execution_count": 8,
   "id": "e1616894",
   "metadata": {},
   "outputs": [
    {
     "data": {
      "text/plain": [
       "array([0.])"
      ]
     },
     "execution_count": 8,
     "metadata": {},
     "output_type": "execute_result"
    }
   ],
   "source": [
    "## Find the values of actions using the rule table\n",
    "\n",
    "## If delta error is negative and error is negative then the action is big\n",
    "## Let's see the big action fuzzy value\n",
    "values_tuple =(negative_change_error_membership_value, negative_error_membership_value)\n",
    "\n",
    "idx = np.argmin(values_tuple)\n",
    "big_action_membership_value = values_tuple[idx]\n",
    "big_action_membership_value"
   ]
  },
  {
   "cell_type": "markdown",
   "id": "61938260",
   "metadata": {},
   "source": [
    "So the fuzzy value is zero, so there is no need to have in mind the rule above\n",
    "\n",
    "- if error is zero and $\\Delta$ Error is negative $\\rightarrow$ Then action is big"
   ]
  },
  {
   "cell_type": "code",
   "execution_count": 9,
   "id": "bb0b3c52",
   "metadata": {},
   "outputs": [
    {
     "data": {
      "text/plain": [
       "array([0.])"
      ]
     },
     "execution_count": 9,
     "metadata": {},
     "output_type": "execute_result"
    }
   ],
   "source": [
    "values_tuple =(zero_error_membership_value, zero_change_error_membership_value)\n",
    "\n",
    "idx = np.argmin(values_tuple)\n",
    "big_action_membership_value = values_tuple[idx]\n",
    "big_action_membership_value"
   ]
  },
  {
   "cell_type": "markdown",
   "id": "01d6cecf",
   "metadata": {},
   "source": [
    "Again in this rule the action for big have zero fuzzy value, Let's see others.\n",
    "\n",
    "- if error is zero and $\\Delta$ Error is zero $\\rightarrow$ Then action is medium"
   ]
  },
  {
   "cell_type": "code",
   "execution_count": 10,
   "id": "99523cdb",
   "metadata": {},
   "outputs": [
    {
     "data": {
      "text/plain": [
       "array([0.])"
      ]
     },
     "execution_count": 10,
     "metadata": {},
     "output_type": "execute_result"
    }
   ],
   "source": [
    "values_tuple =(zero_error_membership_value, zero_change_error_membership_value)\n",
    "\n",
    "idx = np.argmin(values_tuple)\n",
    "medium_action_membership_value = values_tuple[idx]\n",
    "medium_action_membership_value"
   ]
  },
  {
   "cell_type": "markdown",
   "id": "21d73113",
   "metadata": {},
   "source": [
    "- if error is zero and $\\Delta$ Error is positive $\\rightarrow$ Then action is medium"
   ]
  },
  {
   "cell_type": "code",
   "execution_count": 11,
   "id": "a9d17925",
   "metadata": {},
   "outputs": [
    {
     "data": {
      "text/plain": [
       "array([0.33333333])"
      ]
     },
     "execution_count": 11,
     "metadata": {},
     "output_type": "execute_result"
    }
   ],
   "source": [
    "values_tuple =(zero_error_membership_value, positive_change_error_membership_value)\n",
    "\n",
    "idx = np.argmin(values_tuple)\n",
    "medium_action_membership_value = values_tuple[idx]\n",
    "medium_action_membership_value"
   ]
  },
  {
   "cell_type": "markdown",
   "id": "dc07685a",
   "metadata": {},
   "source": [
    "✅ So the medium action fuzzy value can be extracted using the last rule."
   ]
  },
  {
   "cell_type": "markdown",
   "id": "eea2bcfe",
   "metadata": {},
   "source": [
    "- if error is positive and $\\Delta$ Error is zero $\\rightarrow$ Then action is small"
   ]
  },
  {
   "cell_type": "code",
   "execution_count": 12,
   "id": "eb9ba4d2",
   "metadata": {},
   "outputs": [
    {
     "data": {
      "text/plain": [
       "array([0.])"
      ]
     },
     "execution_count": 12,
     "metadata": {},
     "output_type": "execute_result"
    }
   ],
   "source": [
    "values_tuple =(positive_error_membership_value, zero_change_error_membership_value)\n",
    "\n",
    "idx = np.argmin(values_tuple)\n",
    "small_action_membership_value = values_tuple[idx]\n",
    "small_action_membership_value"
   ]
  },
  {
   "cell_type": "markdown",
   "id": "f2d7efcc",
   "metadata": {},
   "source": [
    "- if error is positive and $\\Delta$ Error is positive $\\rightarrow$ Then action is small"
   ]
  },
  {
   "cell_type": "code",
   "execution_count": 13,
   "id": "d228dda2",
   "metadata": {},
   "outputs": [
    {
     "data": {
      "text/plain": [
       "array([0.5])"
      ]
     },
     "execution_count": 13,
     "metadata": {},
     "output_type": "execute_result"
    }
   ],
   "source": [
    "values_tuple =(positive_error_membership_value, positive_change_error_membership_value)\n",
    "\n",
    "idx = np.argmin(values_tuple)\n",
    "small_action_membership_value = values_tuple[idx]\n",
    "small_action_membership_value"
   ]
  },
  {
   "cell_type": "markdown",
   "id": "50b71b1a",
   "metadata": {},
   "source": [
    "✅ And we found  `0.5` membership value for small action using the last rule."
   ]
  },
  {
   "cell_type": "markdown",
   "id": "1782c731",
   "metadata": {},
   "source": [
    "So until now what we have is\n",
    "- if *error is zero* and *$\\Delta$ Error is positive* Then *Medium action* with confidence = 0.333\n",
    "- If *error is positive* and *change of error is positive* Then *Small action* with confidence = 0.5"
   ]
  },
  {
   "cell_type": "code",
   "execution_count": 14,
   "id": "5ffcf9d8",
   "metadata": {},
   "outputs": [
    {
     "data": {
      "image/png": "[encoded data removed]",
      "text/plain": [
       "<Figure size 432x288 with 1 Axes>"
      ]
     },
     "metadata": {
      "needs_background": "light"
     },
     "output_type": "display_data"
    }
   ],
   "source": [
    "X_MEDIUM = MEDIUM_ACTION[:, 0][MEDIUM_ACTION[:, 1] <= 0.333]\n",
    "Y_MEDIUM = MEDIUM_ACTION[:, 1][MEDIUM_ACTION[:, 1] <= 0.333]\n",
    "X_Small = SMALL_ACTION[:, 0][SMALL_ACTION[:,1] <= 0.5]\n",
    "Y_Small = SMALL_ACTION[:, 1][SMALL_ACTION[:,1] <= 0.5]\n",
    "\n",
    "plt.fill(X_MEDIUM, Y_MEDIUM)\n",
    "plt.fill(X_Small, Y_Small)\n",
    "plt.legend(['Action Medium', 'Action Small'])\n",
    "plt.text(x=10, y=0.4, s='fuzzy inference', bbox=dict(facecolor='yellow',alpha = 0.5))\n",
    "plt.show()"
   ]
  },
  {
   "cell_type": "code",
   "execution_count": 15,
   "id": "3c4e9c1e",
   "metadata": {},
   "outputs": [
    {
     "data": {
      "text/plain": [
       "3.0"
      ]
     },
     "execution_count": 15,
     "metadata": {},
     "output_type": "execute_result"
    }
   ],
   "source": [
    "## The maximums are in small action\n",
    "U = SMALL_ACTION[:, 0][np.isclose(SMALL_ACTION[:, 1], np.max(Y_Small))]\n",
    "\n",
    "## Mean of Maxima\n",
    "Z_star_MOM = (U[0] + U[1]) / 2\n",
    "Z_star_MOM"
   ]
  },
  {
   "cell_type": "markdown",
   "id": "b996f529",
   "metadata": {},
   "source": [
    "To find Center Of gravity, we would like to use the equation below\n",
    "\\begin{equation}\n",
    "Z^{*}_{COG} = \\frac{\\sum \\mu_x x}{\\sum \\mu_x}\n",
    "\\end{equation}"
   ]
  },
  {
   "cell_type": "code",
   "execution_count": 16,
   "id": "3df254d5",
   "metadata": {},
   "outputs": [
    {
     "data": {
      "text/plain": [
       "4.105263157894735"
      ]
     },
     "execution_count": 16,
     "metadata": {},
     "output_type": "execute_result"
    }
   ],
   "source": [
    "## To find Center of Gravity\n",
    "## initialize\n",
    "\n",
    "## divide equation in two parts \n",
    "## above division and below\n",
    "above = np.sum(X_Small * Y_Small) + np.sum(X_MEDIUM * Y_MEDIUM)\n",
    "below = np.sum(Y_Small) + np.sum(Y_MEDIUM)\n",
    "\n",
    "Z_star_COG = above / below\n",
    "Z_star_COG"
   ]
  },
  {
   "cell_type": "code",
   "execution_count": 17,
   "id": "c45ae9e8",
   "metadata": {},
   "outputs": [
    {
     "data": {
      "image/png": "[encoded data removed]",
      "text/plain": [
       "<Figure size 432x288 with 1 Axes>"
      ]
     },
     "metadata": {
      "needs_background": "light"
     },
     "output_type": "display_data"
    }
   ],
   "source": [
    "## Plotting the Mamdani inference Result\n",
    "plt.fill(X_MEDIUM, Y_MEDIUM)\n",
    "plt.fill(X_Small, Y_Small)\n",
    "\n",
    "## plotting the Mean of Maxima\n",
    "plt.scatter(Z_star_MOM, np.max(Y_Small) / 2)\n",
    "plt.plot(np.ones(10) * Z_star_MOM, np.linspace(0, np.max(Y_Small), 10), '--')\n",
    "plt.text(x=Z_star_MOM - 2, y=0.180, s='MOM: $Z^*$', bbox=dict(facecolor='yellow', alpha=0.5))\n",
    "\n",
    "## plotting the COG\n",
    "plt.plot(np.ones(10) * Z_star_COG, np.linspace(0, 0.4, 10), 'g--')\n",
    "plt.text(x=Z_star_COG -1, y=0.1, s='COG: $Z^*$', bbox=dict(facecolor='yellow', alpha=0.5))\n",
    "\n",
    "\n",
    "## Other options in plot\n",
    "plt.legend(['Action Medium', 'Action Small'])\n",
    "plt.text(x=10, y=0.3, s='fuzzy Mamdani \\ninference', bbox=dict(facecolor='yellow',alpha = 0.5))\n",
    "plt.show()"
   ]
  },
  {
   "cell_type": "markdown",
   "id": "62fd0278",
   "metadata": {},
   "source": [
    "### Q6"
   ]
  },
  {
   "cell_type": "markdown",
   "id": "611bfeba",
   "metadata": {},
   "source": [
    "Answer to the question 9 of chapter 4 using Ross Book."
   ]
  },
  {
   "cell_type": "markdown",
   "id": "1543103e",
   "metadata": {},
   "source": [
    "To answer this question we first draw the fuzzified outputs and then go deep into the answer."
   ]
  },
  {
   "cell_type": "code",
   "execution_count": 18,
   "id": "4be8ab31",
   "metadata": {},
   "outputs": [
    {
     "data": {
      "image/png": "[encoded data removed]",
      "text/plain": [
       "<Figure size 1080x360 with 3 Axes>"
      ]
     },
     "metadata": {
      "needs_background": "light"
     },
     "output_type": "display_data"
    }
   ],
   "source": [
    "## plotting (a) Figure P4.9\n",
    "x = np.linspace(0, 10, 101)\n",
    "\n",
    "## equations for plotting (a) is as below\n",
    "##  `1/4 (x)` for x in [0, 2]\n",
    "##  `0.5` for x in [2, 3]\n",
    "##  `-1/2 (x-4)` for x in [3, 4]\n",
    "##  `0` otherwise\n",
    "mu_A = 0.25 * x\n",
    "mu_A = np.where((x > 2) & (x <= 3), 0.5, mu_A)\n",
    "mu_A = np.where((x >3) & (x<4), -0.5 * (x-4), mu_A)\n",
    "mu_A = np.where((x <= 0) | (x >= 4), 0, mu_A)\n",
    "\n",
    "## equations for plotting (b) is\n",
    "##   `0.35 (x-2)` for x in [2, 4]\n",
    "##   `-0.7 (x-5)` for x in [4, 5]\n",
    "##   `0` otherwise\n",
    "mu_B = 0.35 * (x-2)\n",
    "mu_B = np.where((x >= 4) & (x <=5), -0.7*(x-5), mu_B)\n",
    "mu_B = np.where((x > 5) | (x < 2), 0, mu_B)\n",
    "\n",
    "## equations for plotting (c) is\n",
    "##   `(x-4)` for x in [4, 5]\n",
    "##   `1` for x in [5, 7]\n",
    "##   `-1/2 (x-9)` for x in [7, 9]\n",
    "##   `0` otherwise\n",
    "mu_C = x-4\n",
    "mu_C = np.where((x >= 5) & (x <= 7), 1, mu_C)\n",
    "mu_C = np.where((x > 7) & (x <= 9), -0.5 * (x-9) , mu_C)\n",
    "mu_C = np.where((x > 9) | (x <= 4), 0 , mu_C)\n",
    "\n",
    "\n",
    "fig, axes = plt.subplots(1, 3, figsize=(15, 5))\n",
    "\n",
    "axes[0].plot(x, mu_A)\n",
    "axes[0].set_xticks(range(0, 11))\n",
    "axes[0].set_ylabel('$\\mu$')\n",
    "axes[0].text(x=5, y=0.4, s='$\\mu_{a}$', bbox=dict(facecolor='yellow', alpha=0.5), fontsize=18)\n",
    "\n",
    "axes[1].plot(x, mu_B)\n",
    "axes[1].set_xticks(range(0, 11))\n",
    "axes[1].set_ylabel('$\\mu$')\n",
    "axes[1].text(x=6, y=0.4, s='$\\mu_{b}$', bbox=dict(facecolor='yellow', alpha=0.5), fontsize=18)\n",
    "\n",
    "axes[2].plot(x, mu_C)\n",
    "axes[2].set_xticks(range(0, 11))\n",
    "axes[2].set_ylabel('$\\mu$')\n",
    "axes[2].text(x=1, y=0.4, s='$\\mu_{c}$', bbox=dict(facecolor='yellow', alpha=0.5), fontsize=18)\n",
    "\n",
    "plt.show()"
   ]
  },
  {
   "cell_type": "markdown",
   "id": "23b72773",
   "metadata": {},
   "source": [
    "Now we saw the memebership functions results. Let's plot them together and then have a defuzzification process using `Weighted Average`, `Centeroid (COG)`, `Mean of Maxima (MOM)`, `max membership`, `Left of Maxima (LOM)` and `Right of Maxima (ROM)` methods."
   ]
  },
  {
   "cell_type": "code",
   "execution_count": 19,
   "id": "8be1c823",
   "metadata": {},
   "outputs": [
    {
     "data": {
      "image/png": "[encoded data removed]",
      "text/plain": [
       "<Figure size 432x288 with 1 Axes>"
      ]
     },
     "metadata": {
      "needs_background": "light"
     },
     "output_type": "display_data"
    }
   ],
   "source": [
    "## The union of the results is as below\n",
    "plt.fill(x, mu_A)\n",
    "plt.fill(x, mu_B)\n",
    "plt.fill(x, mu_C)\n",
    "\n",
    "plt.legend(['$\\mu_A$', '$\\mu_B$', '$\\mu_C$'])\n",
    "\n",
    "plt.show()"
   ]
  },
  {
   "cell_type": "code",
   "execution_count": 20,
   "id": "2fa5391d",
   "metadata": {},
   "outputs": [
    {
     "data": {
      "image/png": "[encoded data removed]",
      "text/plain": [
       "<Figure size 432x288 with 1 Axes>"
      ]
     },
     "metadata": {
      "needs_background": "light"
     },
     "output_type": "display_data"
    }
   ],
   "source": [
    "mu_union = np.maximum(np.maximum(mu_A, mu_B), mu_C)\n",
    "plt.fill(x, mu_union)\n",
    "plt.legend(['$\\mu_A \\cup \\mu_B \\cup \\mu_C$'])\n",
    "plt.show()"
   ]
  },
  {
   "cell_type": "code",
   "execution_count": 21,
   "id": "b5e48ab9",
   "metadata": {},
   "outputs": [],
   "source": [
    "fuzzy_union_set = np.stack((x, mu_union), axis=1)\n"
   ]
  },
  {
   "cell_type": "code",
   "execution_count": 22,
   "id": "f91de1a8",
   "metadata": {},
   "outputs": [
    {
     "data": {
      "text/plain": [
       "(21, 2)"
      ]
     },
     "execution_count": 22,
     "metadata": {},
     "output_type": "execute_result"
    }
   ],
   "source": [
    "## the maximum defuzzification method\n",
    "z_star_max = fuzzy_union_set[\n",
    "    np.isclose(fuzzy_union_set[:, 1], np.max(fuzzy_union_set[:, 1]))\n",
    "               ]\n",
    "z_star_max.shape"
   ]
  },
  {
   "cell_type": "markdown",
   "id": "fd78e302",
   "metadata": {},
   "source": [
    "In this case we're having more than one value in defuzzification process, So we can say that there would be no appropriate result in defuzzification of flat fuzzy numbers."
   ]
  },
  {
   "cell_type": "code",
   "execution_count": 23,
   "id": "b199672b",
   "metadata": {},
   "outputs": [
    {
     "data": {
      "text/plain": [
       "array([[6., 1.]])"
      ]
     },
     "execution_count": 23,
     "metadata": {},
     "output_type": "execute_result"
    }
   ],
   "source": [
    "## mean of maxima defuzzification process\n",
    "avg = np.average(z_star_max[:, 0])\n",
    "z_star_mom = z_star_max[np.isclose(z_star_max[:, 0], avg)]\n",
    "\n",
    "z_star_mom"
   ]
  },
  {
   "cell_type": "code",
   "execution_count": 24,
   "id": "88de40c5",
   "metadata": {},
   "outputs": [
    {
     "name": "stdout",
     "output_type": "stream",
     "text": [
      "Averages A,B,C: 2.0, 3.5, 6.5\n"
     ]
    },
    {
     "data": {
      "text/plain": [
       "array([2.5])"
      ]
     },
     "execution_count": 24,
     "metadata": {},
     "output_type": "execute_result"
    }
   ],
   "source": [
    "## weighted average defuzzification process\n",
    "\n",
    "## first we create the fuzzy sets of membership values\n",
    "fuzzy_mu_A = np.stack((x, mu_A), axis=1)\n",
    "fuzzy_mu_B = np.stack((x, mu_B), axis=1)\n",
    "fuzzy_mu_C = np.stack((x, mu_C), axis=1)\n",
    "\n",
    "average_A = np.average(fuzzy_mu_A[:, 0][fuzzy_mu_A[:, 1] > 0])\n",
    "average_B = np.average(fuzzy_mu_B[:, 0][fuzzy_mu_B[:, 1] > 0])\n",
    "average_C = np.average(fuzzy_mu_C[:, 0][fuzzy_mu_C[:, 1] > 0])\n",
    "\n",
    "print(f'Averages A,B,C: {average_A}, {average_B}, {average_C}')\n",
    "\n",
    "## to average\n",
    "average_mu_A = fuzzy_mu_A[:, 1][np.isclose(fuzzy_mu_A[:, 0], average_A)]\n",
    "average_mu_B = fuzzy_mu_A[:, 1][np.isclose(fuzzy_mu_A[:, 0], average_B)]\n",
    "average_mu_C = fuzzy_mu_A[:, 1][np.isclose(fuzzy_mu_A[:, 0], average_C)]\n",
    "\n",
    "## devide the weigted average equation in two parts\n",
    "## above division and below of the division\n",
    "above = (average_mu_A * average_A) + (average_mu_B * average_B) + (average_mu_C * average_C)\n",
    "below = average_mu_A + average_mu_B + average_mu_C\n",
    "\n",
    "z_star_weigted_avg = above / below\n",
    "z_star_weigted_avg"
   ]
  },
  {
   "cell_type": "code",
   "execution_count": 25,
   "id": "8fdd8f55",
   "metadata": {},
   "outputs": [
    {
     "data": {
      "text/plain": [
       "5.097685185185185"
      ]
     },
     "execution_count": 25,
     "metadata": {},
     "output_type": "execute_result"
    }
   ],
   "source": [
    "## Center of gravity defuzzification process\n",
    "\n",
    "z_star_COG = np.sum(np.multiply(x, mu_union)) / np.sum(mu_union)\n",
    "z_star_COG"
   ]
  },
  {
   "cell_type": "code",
   "execution_count": 26,
   "id": "03683190",
   "metadata": {},
   "outputs": [
    {
     "data": {
      "text/plain": [
       "(5.0, 7.0)"
      ]
     },
     "execution_count": 26,
     "metadata": {},
     "output_type": "execute_result"
    }
   ],
   "source": [
    "## it's easy to find left of maxima and right of maxima\n",
    "\n",
    "z_star_LOM = z_star_max[0,0]\n",
    "z_star_ROM = z_star_max[-1, 0]\n",
    "\n",
    "z_star_LOM, z_star_ROM"
   ]
  },
  {
   "cell_type": "markdown",
   "id": "f92c0e9e",
   "metadata": {},
   "source": [
    "We've now found result values using 6 defuzzification process. Let's plot them:"
   ]
  },
  {
   "cell_type": "code",
   "execution_count": 27,
   "id": "06f3df2a",
   "metadata": {},
   "outputs": [],
   "source": [
    "## first we created the union fuzzy set\n",
    "union_fuzzy_set = np.stack((x, mu_union), axis=1)"
   ]
  },
  {
   "cell_type": "code",
   "execution_count": 85,
   "id": "66c64dd3",
   "metadata": {},
   "outputs": [
    {
     "data": {
      "image/png": "[encoded data removed]",
      "text/plain": [
       "<Figure size 1080x576 with 1 Axes>"
      ]
     },
     "metadata": {
      "needs_background": "light"
     },
     "output_type": "display_data"
    }
   ],
   "source": [
    "def find_fuzzy_value(fuzzy_set, x):\n",
    "    \"\"\"\n",
    "    Find fuzzy membership value of x\n",
    "    \n",
    "    Parameters:\n",
    "    ------------\n",
    "    fuzzy_set : array of 2D tupple\n",
    "        The fuzzy set we have\n",
    "    x : float\n",
    "    \n",
    "    Returns:\n",
    "    ---------\n",
    "    fuzzy_value : float\n",
    "        a floating point represent the fuzzy membership value\n",
    "    \"\"\"\n",
    "    fuzzy_value = fuzzy_set[:, 1][np.isclose(fuzzy_set[:, 0], np.round(x, 1))]\n",
    "    \n",
    "    return fuzzy_value\n",
    "\n",
    "\n",
    "plt.figure(figsize=(15, 8))\n",
    "z_star_COG_fuzzy_value = find_fuzzy_value(union_fuzzy_set, z_star_COG)\n",
    "plt.plot(np.ones(10) * z_star_COG, np.linspace(0, z_star_COG_fuzzy_value, 10) , 'b--')\n",
    "\n",
    "z_star_LOM_fuzzy_value = find_fuzzy_value(union_fuzzy_set, z_star_LOM)\n",
    "plt.plot(np.ones(10) * z_star_LOM, np.linspace(0, z_star_LOM_fuzzy_value, 10) , 'g--')\n",
    "\n",
    "z_star_ROM_fuzzy_value = find_fuzzy_value(union_fuzzy_set, z_star_ROM)\n",
    "plt.plot(np.ones(10) * z_star_ROM, np.linspace(0, z_star_ROM_fuzzy_value, 10) , 'r--')\n",
    "\n",
    "z_star_MOM_fuzzy_value = find_fuzzy_value(union_fuzzy_set, z_star_mom[:,0])\n",
    "plt.plot(np.ones(10) * z_star_mom[:,0], np.linspace(0, z_star_MOM_fuzzy_value, 10) , 'k--')\n",
    "\n",
    "# z_star_Weighted_avg_fuzzy_value = find_fuzzy_value(union_fuzzy_set, z_star_weigted_avg)\n",
    "# plt.plot(np.ones(10) * z_star_weigted_avg, np.linspace(0, z_star_Weighted_avg_fuzzy_value, 10) , 'o--')\n",
    "\n",
    "plt.fill(x, mu_union, 'c')\n",
    "\n",
    "\n",
    "plt.legend([\n",
    "    '$Z^{*}_{COG}$',\n",
    "    '$Z^{*}_{LOM}$',\n",
    "    '$Z^{*}_{ROM}$',\n",
    "    '$Z^{*}_{MOM}$',\n",
    "#     '$Z^{*}_{Weighted \\; avg}$',\n",
    "    '$\\mu_A \\cup \\mu_B \\cup \\mu_C$'\n",
    "])\n",
    "\n",
    "plt.text(x=-0.4,y=0.8, s='''The union of the fuzzy values is the filled shapes\n",
    "                And the results of each defuzzification processes is the dotted lines''', bbox=dict(alpha=0.05))\n",
    "plt.show()"
   ]
  },
  {
   "cell_type": "markdown",
   "id": "81a02e31",
   "metadata": {},
   "source": [
    "## Data-Driven Modeling"
   ]
  },
  {
   "cell_type": "markdown",
   "id": "6d141724",
   "metadata": {},
   "source": [
    "### Q7\n",
    "Answer to question 5 of chapter 7 in Ross book"
   ]
  },
  {
   "cell_type": "markdown",
   "id": "c02e9f1c",
   "metadata": {},
   "source": [
    "We need to apply Clustering Method on the dataset, So we need to first implement it."
   ]
  },
  {
   "cell_type": "code",
   "execution_count": 29,
   "id": "49678acd",
   "metadata": {},
   "outputs": [
    {
     "data": {
      "text/html": [
       "<div>\n",
       "<style scoped>\n",
       "    .dataframe tbody tr th:only-of-type {\n",
       "        vertical-align: middle;\n",
       "    }\n",
       "\n",
       "    .dataframe tbody tr th {\n",
       "        vertical-align: top;\n",
       "    }\n",
       "\n",
       "    .dataframe thead th {\n",
       "        text-align: right;\n",
       "    }\n",
       "</style>\n",
       "<table border=\"1\" class=\"dataframe\">\n",
       "  <thead>\n",
       "    <tr style=\"text-align: right;\">\n",
       "      <th></th>\n",
       "      <th>x1</th>\n",
       "      <th>x2</th>\n",
       "      <th>delta_l</th>\n",
       "    </tr>\n",
       "  </thead>\n",
       "  <tbody>\n",
       "    <tr>\n",
       "      <th>0</th>\n",
       "      <td>6800</td>\n",
       "      <td>6834</td>\n",
       "      <td>0.0123</td>\n",
       "    </tr>\n",
       "    <tr>\n",
       "      <th>1</th>\n",
       "      <td>6500</td>\n",
       "      <td>6492</td>\n",
       "      <td>0.0102</td>\n",
       "    </tr>\n",
       "    <tr>\n",
       "      <th>2</th>\n",
       "      <td>6900</td>\n",
       "      <td>6950</td>\n",
       "      <td>0.0134</td>\n",
       "    </tr>\n",
       "    <tr>\n",
       "      <th>3</th>\n",
       "      <td>6875</td>\n",
       "      <td>6700</td>\n",
       "      <td>0.0131</td>\n",
       "    </tr>\n",
       "  </tbody>\n",
       "</table>\n",
       "</div>"
      ],
      "text/plain": [
       "     x1    x2  delta_l\n",
       "0  6800  6834   0.0123\n",
       "1  6500  6492   0.0102\n",
       "2  6900  6950   0.0134\n",
       "3  6875  6700   0.0131"
      ]
     },
     "execution_count": 29,
     "metadata": {},
     "output_type": "execute_result"
    }
   ],
   "source": [
    "## initilize the dataset\n",
    "dataset = pd.DataFrame(data=[\n",
    "    [6800, 6834, 1.23e-2],\n",
    "    [6500, 6492, 1.02e-2],\n",
    "    [6900, 6950, 1.34e-2],\n",
    "    [6875, 6700, 1.31e-2]\n",
    "    ], columns=['x1', 'x2', 'delta_l'],)\n",
    "dataset"
   ]
  },
  {
   "cell_type": "code",
   "execution_count": 30,
   "id": "2a812556",
   "metadata": {},
   "outputs": [
    {
     "data": {
      "text/html": [
       "<div>\n",
       "<style scoped>\n",
       "    .dataframe tbody tr th:only-of-type {\n",
       "        vertical-align: middle;\n",
       "    }\n",
       "\n",
       "    .dataframe tbody tr th {\n",
       "        vertical-align: top;\n",
       "    }\n",
       "\n",
       "    .dataframe thead th {\n",
       "        text-align: right;\n",
       "    }\n",
       "</style>\n",
       "<table border=\"1\" class=\"dataframe\">\n",
       "  <thead>\n",
       "    <tr style=\"text-align: right;\">\n",
       "      <th></th>\n",
       "      <th>c1</th>\n",
       "      <th>c2</th>\n",
       "      <th>sigma_3</th>\n",
       "      <th>sigma_4</th>\n",
       "    </tr>\n",
       "  </thead>\n",
       "  <tbody>\n",
       "    <tr>\n",
       "      <th>0</th>\n",
       "      <td>7000</td>\n",
       "      <td>6500</td>\n",
       "      <td>175.0</td>\n",
       "      <td>175</td>\n",
       "    </tr>\n",
       "    <tr>\n",
       "      <th>1</th>\n",
       "      <td>6850</td>\n",
       "      <td>3200</td>\n",
       "      <td>135.0</td>\n",
       "      <td>175</td>\n",
       "    </tr>\n",
       "    <tr>\n",
       "      <th>2</th>\n",
       "      <td>6500</td>\n",
       "      <td>4500</td>\n",
       "      <td>121.0</td>\n",
       "      <td>175</td>\n",
       "    </tr>\n",
       "    <tr>\n",
       "      <th>3</th>\n",
       "      <td>6000</td>\n",
       "      <td>5000</td>\n",
       "      <td>85.0</td>\n",
       "      <td>175</td>\n",
       "    </tr>\n",
       "    <tr>\n",
       "      <th>4</th>\n",
       "      <td>6200</td>\n",
       "      <td>5000</td>\n",
       "      <td>83.5</td>\n",
       "      <td>175</td>\n",
       "    </tr>\n",
       "    <tr>\n",
       "      <th>5</th>\n",
       "      <td>6315</td>\n",
       "      <td>5800</td>\n",
       "      <td>87.0</td>\n",
       "      <td>175</td>\n",
       "    </tr>\n",
       "  </tbody>\n",
       "</table>\n",
       "</div>"
      ],
      "text/plain": [
       "     c1    c2  sigma_3  sigma_4\n",
       "0  7000  6500    175.0      175\n",
       "1  6850  3200    135.0      175\n",
       "2  6500  4500    121.0      175\n",
       "3  6000  5000     85.0      175\n",
       "4  6200  5000     83.5      175\n",
       "5  6315  5800     87.0      175"
      ]
     },
     "execution_count": 30,
     "metadata": {},
     "output_type": "execute_result"
    }
   ],
   "source": [
    "parameters = pd.DataFrame(data=[\n",
    "    [7000, 6500, 175, 175],\n",
    "    [6850, 3200, 135, 175],\n",
    "    [6500, 4500, 121, 175],\n",
    "    [6000, 5000, 85, 175],\n",
    "    [6200, 5000, 83.5, 175],\n",
    "    [6315, 5800, 87, 175]\n",
    "    ], columns=['c1', 'c2', 'sigma_3', 'sigma_4'])\n",
    "parameters"
   ]
  },
  {
   "cell_type": "markdown",
   "id": "0f95bbab",
   "metadata": {},
   "source": [
    "We use gaussian function as our membership function."
   ]
  },
  {
   "cell_type": "code",
   "execution_count": 31,
   "id": "9305910e",
   "metadata": {},
   "outputs": [],
   "source": [
    "def gaussian(X, Sigma, Mu):\n",
    "    \"\"\"\n",
    "    The gaussian distribution\n",
    "    \n",
    "    Paremeters:\n",
    "    ------------\n",
    "    X : array_like\n",
    "        the input range, can be an array of floating points\n",
    "    Sigma : float\n",
    "        the variance for gaussian distribution\n",
    "    Mu : float\n",
    "        the mean for gaussian distribution\n",
    "        \n",
    "    Returns:\n",
    "    ---------\n",
    "    Y : array_like\n",
    "        same dimension as input `X`\n",
    "        the values representing gaussian distribution\n",
    "    \"\"\"\n",
    "    p1 = 1 / np.sqrt(2 * np.pi * (Sigma**2))\n",
    "    p2 = np.exp(-np.power(X - Mu, 2) / (2*(Sigma**2)))\n",
    "\n",
    "    Y = p1 * p2\n",
    "    return Y\n",
    "def CM_function(x, A, B, V, sigma):\n",
    "    \"\"\"\n",
    "    The function that is used for Clustering method \n",
    "    with parameters `theta=(A, B, V, sigma)`\n",
    "    the gaussian function will be used for each rule in this function\n",
    "    \n",
    "    Parameters:\n",
    "    ------------\n",
    "    x : array_like\n",
    "        the input data\n",
    "    A : 1D array\n",
    "        the parameters for each membership function\n",
    "    B : 1D array\n",
    "        this parameter shows how many data is used for a rule\n",
    "    V : array_like\n",
    "        the mean values of data, `V.shape[1]` must match the data features count\n",
    "    sigma : 1D array\n",
    "        contains values for each rule standar deviation\n",
    "        length must match the data features count\n",
    "        \n",
    "    Note: the length of `A`, `B` and `V` arrays must be the same\n",
    "        \n",
    "    Returns:\n",
    "    ---------\n",
    "    predicted : float\n",
    "        the predicted value for an input x using the parameter theta\n",
    "    \"\"\"\n",
    "    ## the results for above and below the division\n",
    "    result_above = 0\n",
    "    result_below = 0\n",
    "    \n",
    "    for i in range(len(A)):\n",
    "        ## initilize the variable with one because we are going to multiply it\n",
    "        gaussian_function_result = 1 \n",
    "        for j in range(len(x)):\n",
    "            gaussian_function_result = gaussian_function_result * gaussian(x[j], sigma[i][j], V[i][j])\n",
    "        result_above += A[i] * gaussian_function_result\n",
    "        result_below += B[i] * gaussian_function_result\n",
    "        \n",
    "    results = result_above / result_below\n",
    "    return results"
   ]
  },
  {
   "cell_type": "code",
   "execution_count": 32,
   "id": "0e841e96",
   "metadata": {},
   "outputs": [],
   "source": [
    "Y_data = dataset[['delta_l']].values"
   ]
  },
  {
   "cell_type": "code",
   "execution_count": 33,
   "id": "5d592c4f",
   "metadata": {},
   "outputs": [],
   "source": [
    "X_data = dataset[['x1', 'x2']].values\n",
    "\n",
    "sigma1 = parameters[['sigma_3']].values\n",
    "sigma2 = parameters[['sigma_4']].values\n",
    "\n",
    "Sigma = np.array([sigma1, sigma2]).reshape((6, 2))\n",
    "V = parameters[['c1', 'c2']].values\n",
    "\n",
    "f_Y = []\n",
    "for i in range(len(X_data)):\n",
    "    y_predicted = CM_function(X_data[i], A= Y_data[i], B=[1], V=V, sigma=Sigma)\n",
    "    f_Y.append(y_predicted)"
   ]
  },
  {
   "cell_type": "code",
   "execution_count": 34,
   "id": "30a312bc",
   "metadata": {},
   "outputs": [
    {
     "data": {
      "text/plain": [
       "array([[0., 0., 0., 0.]])"
      ]
     },
     "execution_count": 34,
     "metadata": {},
     "output_type": "execute_result"
    }
   ],
   "source": [
    "f_Y - Y_data.T"
   ]
  },
  {
   "cell_type": "markdown",
   "id": "fe769fe6",
   "metadata": {},
   "source": [
    "We saw that using the rules given in the question we've found the outputs of the fuzzy system same as the output value $\\delta_L$ and our model is working perfectly. Now Let's plot the rules"
   ]
  },
  {
   "cell_type": "code",
   "execution_count": 35,
   "id": "cdae9211",
   "metadata": {},
   "outputs": [],
   "source": [
    "X = np.linspace(2000, 10000, 80000) \n",
    "\n",
    "rules_count = 6\n",
    "\n",
    "## initilize a value for y rules plot\n",
    "Y_rule_X1 = []\n",
    "Y_rule_X2 = []\n",
    "\n",
    "for i in range(0, rules_count):\n",
    "    Y = gaussian(X, Sigma[i,0], V[i, 0])\n",
    "    Y_rule_X1.append(Y)\n",
    "    \n",
    "    Y = gaussian(X, Sigma[i,1], V[i, 1])\n",
    "    Y_rule_X2.append(Y)"
   ]
  },
  {
   "cell_type": "code",
   "execution_count": 36,
   "id": "be454eb7",
   "metadata": {},
   "outputs": [
    {
     "data": {
      "image/png": "[encoded data removed]",
      "text/plain": [
       "<Figure size 720x360 with 1 Axes>"
      ]
     },
     "metadata": {
      "needs_background": "light"
     },
     "output_type": "display_data"
    }
   ],
   "source": [
    "plt.figure(figsize=(10, 5))\n",
    "\n",
    "## plot mu_X1\n",
    "for i in range(0, rules_count):\n",
    "    plt.plot(X, Y_rule_X1[i])\n",
    "plt.legend(['Rule 1', 'Rule 2','Rule 3','Rule 4','Rule 5','Rule 6',])\n",
    "plt.xlim((5000, 8000))\n",
    "plt.text(5100, 0.003, '$\\mu_{x_1}$', fontsize=18)\n",
    "plt.show()"
   ]
  },
  {
   "cell_type": "code",
   "execution_count": 37,
   "id": "6283b5d2",
   "metadata": {},
   "outputs": [
    {
     "data": {
      "image/png": "[encoded data removed]",
      "text/plain": [
       "<Figure size 720x360 with 1 Axes>"
      ]
     },
     "metadata": {
      "needs_background": "light"
     },
     "output_type": "display_data"
    }
   ],
   "source": [
    "plt.figure(figsize=(10, 5))\n",
    "\n",
    "## plot mu_X1\n",
    "for i in range(0, rules_count):\n",
    "    plt.plot(X, Y_rule_X2[i])\n",
    "plt.legend(['Rule 1', 'Rule 2','Rule 3','Rule 4','Rule 5','Rule 6',])\n",
    "plt.text(2000, 0.002, '$\\mu_{x_2}$', fontsize=18)\n",
    "plt.show()"
   ]
  },
  {
   "cell_type": "markdown",
   "id": "0cdf4975",
   "metadata": {},
   "source": [
    "### Q8\n",
    "Answer the question 9, Chapter 6 of Ross book."
   ]
  },
  {
   "cell_type": "markdown",
   "id": "7176a9e0",
   "metadata": {},
   "source": [
    "First we prepare the dataset used in this question."
   ]
  },
  {
   "cell_type": "code",
   "execution_count": 38,
   "id": "6d750a70",
   "metadata": {},
   "outputs": [
    {
     "data": {
      "text/html": [
       "<div>\n",
       "<style scoped>\n",
       "    .dataframe tbody tr th:only-of-type {\n",
       "        vertical-align: middle;\n",
       "    }\n",
       "\n",
       "    .dataframe tbody tr th {\n",
       "        vertical-align: top;\n",
       "    }\n",
       "\n",
       "    .dataframe thead th {\n",
       "        text-align: right;\n",
       "    }\n",
       "</style>\n",
       "<table border=\"1\" class=\"dataframe\">\n",
       "  <thead>\n",
       "    <tr style=\"text-align: right;\">\n",
       "      <th></th>\n",
       "      <th>x</th>\n",
       "      <th>y</th>\n",
       "    </tr>\n",
       "  </thead>\n",
       "  <tbody>\n",
       "    <tr>\n",
       "      <th>0</th>\n",
       "      <td>0.0</td>\n",
       "      <td>1.00</td>\n",
       "    </tr>\n",
       "    <tr>\n",
       "      <th>1</th>\n",
       "      <td>0.3</td>\n",
       "      <td>0.74</td>\n",
       "    </tr>\n",
       "    <tr>\n",
       "      <th>2</th>\n",
       "      <td>0.6</td>\n",
       "      <td>0.55</td>\n",
       "    </tr>\n",
       "    <tr>\n",
       "      <th>3</th>\n",
       "      <td>1.0</td>\n",
       "      <td>0.37</td>\n",
       "    </tr>\n",
       "    <tr>\n",
       "      <th>4</th>\n",
       "      <td>100.0</td>\n",
       "      <td>0.00</td>\n",
       "    </tr>\n",
       "  </tbody>\n",
       "</table>\n",
       "</div>"
      ],
      "text/plain": [
       "       x     y\n",
       "0    0.0  1.00\n",
       "1    0.3  0.74\n",
       "2    0.6  0.55\n",
       "3    1.0  0.37\n",
       "4  100.0  0.00"
      ]
     },
     "execution_count": 38,
     "metadata": {},
     "output_type": "execute_result"
    }
   ],
   "source": [
    "dataset = pd.DataFrame(dict(x=[0, 0.3,0.6, 1, 100], \n",
    "                        y=[1, 0.74, 0.55, 0.37, 0]))\n",
    "dataset"
   ]
  },
  {
   "cell_type": "markdown",
   "id": "b4aa6ed1",
   "metadata": {},
   "source": [
    "And the rules defined in the question are as below\n",
    "- If X is Large then Y is Zero\n",
    "- If X is Small then Y is Small"
   ]
  },
  {
   "cell_type": "code",
   "execution_count": 39,
   "id": "93e953ea",
   "metadata": {},
   "outputs": [],
   "source": [
    "## find the C values for the equation in the cell below\n",
    "## we can apply C values manually but we represent this way as an alternative\n",
    "C_min_x = dataset[['x']].min().values[0]\n",
    "C_min_y = dataset[['y']].min().values[0]\n",
    "\n",
    "C_max_x = dataset[['x']].max().values[0]\n",
    "C_max_y = dataset[['y']].max().values[0]"
   ]
  },
  {
   "cell_type": "markdown",
   "id": "70f33d16",
   "metadata": {},
   "source": [
    "\\begin{equation}\n",
    "C_i = C_{min} + \\frac{b}{2^L - 1} (C_{max_i} - C_{min_i})\n",
    "\\end{equation}"
   ]
  },
  {
   "cell_type": "code",
   "execution_count": 40,
   "id": "8f623e07",
   "metadata": {},
   "outputs": [],
   "source": [
    "## the implementation of equation above\n",
    "def find_C_value(b, L, c_min, c_max):\n",
    "    \"\"\"\n",
    "    Find the value of `C` parameter for the genetic algorithm\n",
    "    \n",
    "    Parameters:\n",
    "    ------------\n",
    "    b : float\n",
    "        decimal value representive of the input value of the data\n",
    "    L : positive integer\n",
    "        value representing the length of each string in genetic algorithm\n",
    "    c_min : float or integer\n",
    "        decimal value representive for the smallest value that is fitted in dataset\n",
    "    c_max : float or integer\n",
    "        decimal value representive for the biggest value that is fitted in dataset\n",
    "    \n",
    "    Returns:\n",
    "    ---------\n",
    "    C : float\n",
    "        the parameter representive for the value of b\n",
    "    \"\"\"\n",
    "    \n",
    "    C = c_min + (b / (2**L - 1)) * (c_max - c_min)\n",
    "    \n",
    "    return C"
   ]
  },
  {
   "cell_type": "code",
   "execution_count": 41,
   "id": "b6544e59",
   "metadata": {},
   "outputs": [],
   "source": [
    "def get_binary_representation_array(x, binary_width):\n",
    "    \"\"\"\n",
    "    get the binary rerpresentation of an array\n",
    "    \n",
    "    Parameters:\n",
    "    ------------\n",
    "    x : array_like\n",
    "        input decimal values\n",
    "    binary_width : positive integer\n",
    "        the value representive the count of the zeros and ones\n",
    "        Important to set this with respect to `x` values\n",
    "    \n",
    "    Returns:\n",
    "    ---------\n",
    "    x_bin : string array\n",
    "        binary string representation of decimal inputs \n",
    "    \"\"\"\n",
    "    \n",
    "    ## find the binary representation of the population\n",
    "    x_bin = []\n",
    "    for i in range(len(x)):\n",
    "        ## binary population\n",
    "        binary_x = np.binary_repr(x[i], \n",
    "                                    width=binary_width)\n",
    "\n",
    "        x_bin.append(binary_x)\n",
    "    \n",
    "    return x_bin\n"
   ]
  },
  {
   "cell_type": "code",
   "execution_count": 42,
   "id": "649bec97",
   "metadata": {},
   "outputs": [
    {
     "data": {
      "text/plain": [
       "(array([62, 45, 62,  2]),\n",
       " array(['111110', '101101', '111110', '000010'], dtype='<U6'))"
      ]
     },
     "execution_count": 42,
     "metadata": {},
     "output_type": "execute_result"
    }
   ],
   "source": [
    "## initialize the population using random binary value\n",
    "\n",
    "maximum_random_value = 64\n",
    "minimum_random_value = 0\n",
    "\n",
    "## we need to specify four bases for our rules\n",
    "bases_count = 4 \n",
    "\n",
    "## the width of the population strings\n",
    "population_width = int(np.ceil(np.log2(maximum_random_value)))\n",
    "\n",
    "## fix the random seed \n",
    "np.random.seed(123)\n",
    "\n",
    "population = np.random.randint(\n",
    "    minimum_random_value,\n",
    "    maximum_random_value,\n",
    "    bases_count)\n",
    "## transfer to binary representation\n",
    "population_binary_representation = get_binary_representation_array(\n",
    "    population,\n",
    "    population_width\n",
    ")\n",
    "\n",
    "## convert to numpy for ease of use in later\n",
    "population_binary_representation = np.array(\n",
    "    population_binary_representation\n",
    ")\n",
    "\n",
    "population, population_binary_representation"
   ]
  },
  {
   "cell_type": "code",
   "execution_count": 43,
   "id": "b06f7173",
   "metadata": {},
   "outputs": [
    {
     "data": {
      "text/plain": [
       "(array([98.41269841, 71.42857143]), array([0.98412698, 0.03174603]))"
      ]
     },
     "execution_count": 43,
     "metadata": {},
     "output_type": "execute_result"
    }
   ],
   "source": [
    "bases_x = find_C_value(population[:2], population_width, C_min_x, C_max_x )\n",
    "bases_y = find_C_value(population[2:], population_width, C_min_y, C_max_y )\n",
    "\n",
    "bases_x, bases_y"
   ]
  },
  {
   "cell_type": "markdown",
   "id": "5dc1fa98",
   "metadata": {},
   "source": [
    "Now we found some base values for our rules.\n",
    "\n",
    "Let's apply to rules and see how it works"
   ]
  },
  {
   "cell_type": "code",
   "execution_count": 44,
   "id": "ebb68598",
   "metadata": {},
   "outputs": [],
   "source": [
    "def right_triangle_rules(start_value, base_width, slope):\n",
    "    \"\"\"\n",
    "    Create right triangle membership functions for one rule\n",
    "    \n",
    "    Parameters:\n",
    "    -----------\n",
    "    start_value : float\n",
    "        the value that we are going to start the plot\n",
    "    base_width : float\n",
    "        the width of triangle's base\n",
    "    slope : -1 or +1\n",
    "        the slope of the triangle's hypotenuse\n",
    "    \n",
    "    Returns:\n",
    "    ----------\n",
    "    x : 1D array_like\n",
    "        the x values representive the x coordinates of the membership function\n",
    "    y : 1D array_like\n",
    "        the y values representive the membership values\n",
    "        Note: the membership function values are normalized.\n",
    "    \"\"\"\n",
    "    assert abs(slope) == 1, 'Error value for slope, can be either +1 or -1!'\n",
    "    \n",
    "    ## the x values start at `start_value` and ends at `start_value + base_width`\n",
    "    end_value = start_value + base_width\n",
    "    x = np.linspace(start_value, end_value, int(np.ceil(base_width)) * 100)\n",
    "    \n",
    "    ## finding y values via the slope\n",
    "    if slope == -1:\n",
    "        y = -(1/base_width) * (x - end_value)       \n",
    "    else:\n",
    "        y = (1/base_width) * (x - start_value)\n",
    "    \n",
    "    return x, y"
   ]
  },
  {
   "cell_type": "code",
   "execution_count": 45,
   "id": "2e975843",
   "metadata": {},
   "outputs": [
    {
     "data": {
      "image/png": "[encoded data removed]",
      "text/plain": [
       "<Figure size 720x576 with 1 Axes>"
      ]
     },
     "metadata": {
      "needs_background": "light"
     },
     "output_type": "display_data"
    }
   ],
   "source": [
    "### Rules for X\n",
    "\n",
    "plt.figure(figsize=(10, 8))\n",
    "## rule1_X_x means the X data and x axis in Rule 1\n",
    "## rule1_X_y means the X data and y axis in Rule 1\n",
    "rule1_X_x, rule1_X_y = right_triangle_rules(C_min_x, bases_x[0], -1)\n",
    "## rule2_X_x means the X data and x axis in Rule 2\n",
    "## rule2_X_y means the X data and y axis in Rule 2\n",
    "rule2_X_x, rule2_X_y = right_triangle_rules(C_max_x - bases_x[1], bases_x[1], 1)    \n",
    "\n",
    "plt.plot(rule1_X_x, rule1_X_y)\n",
    "plt.plot(rule2_X_x, rule2_X_y, color='g')\n",
    "plt.vlines(rule1_X_x[0], 0, 1)\n",
    "plt.vlines(rule2_X_x[-1], 0, 1, colors='g')\n",
    "plt.xticks(rule1_X_x[::800])\n",
    "plt.legend(['Rule 1. $X$ is Large ', 'Rule 2. $X$ is Small'])\n",
    "plt.ylabel('$\\mu_X$')\n",
    "plt.xlabel('$X$')\n",
    "plt.show()"
   ]
  },
  {
   "cell_type": "code",
   "execution_count": 46,
   "id": "222abf82",
   "metadata": {},
   "outputs": [
    {
     "data": {
      "image/png": "[encoded data removed]",
      "text/plain": [
       "<Figure size 720x576 with 1 Axes>"
      ]
     },
     "metadata": {
      "needs_background": "light"
     },
     "output_type": "display_data"
    }
   ],
   "source": [
    "### Rules for Y\n",
    "\n",
    "plt.figure(figsize=(10, 8))\n",
    "\n",
    "## rule1_Y_x means x axis for Y data in Rule 1\n",
    "## rule1_Y_y means y axis for Y data in Rule 1\n",
    "rule1_Y_x, rule1_Y_y = right_triangle_rules(C_min_y, bases_y[0], -1)\n",
    "\n",
    "## and as above naming is applied\n",
    "rule2_Y_x, rule2_Y_y = right_triangle_rules(C_max_y - bases_y[1], bases_y[1], 1)    \n",
    "\n",
    "plt.plot(rule1_Y_x, rule1_Y_y)\n",
    "plt.plot(rule2_Y_x, rule2_Y_y, color='g')\n",
    "plt.vlines(rule1_Y_x[0], 0, 1)\n",
    "plt.vlines(rule2_Y_x[-1], 0, 1, colors='g')\n",
    "plt.xticks(rule1_Y_x[::8])\n",
    "plt.legend(['Rule 1. $Y$ is Zero', 'Rule 2. $Y$ is Small'], loc='upper center')\n",
    "plt.ylabel('$\\mu_Y$')\n",
    "plt.xlabel('$Y$')\n",
    "plt.show()"
   ]
  },
  {
   "cell_type": "code",
   "execution_count": 47,
   "id": "27a93a54",
   "metadata": {},
   "outputs": [],
   "source": [
    "## using rules we are going to find the output values\n",
    "def predict_FIS(x_data, rule_X, rule_Y):\n",
    "    \"\"\"\n",
    "    predict the output of the x using rule base fuzzy system\n",
    "    Tsukamoto inference system is used\n",
    "    \n",
    "    Parameters:\n",
    "    ------------\n",
    "    x_data : array_like\n",
    "        the input values of the dataset\n",
    "    rule_X : 2D array\n",
    "        first dimension data range and for second dimension fuzzy membership values\n",
    "    rule_Y : 2D array\n",
    "        output data\n",
    "        first dimension data range and for second dimension fuzzy membership values\n",
    "        \n",
    "    Returns:\n",
    "    --------\n",
    "    y_predicted : array\n",
    "        the float values representing the predicted output of x_data\n",
    "    \"\"\"\n",
    "    \n",
    "    ## the initialization of the predicted values array\n",
    "    y_predicted = []\n",
    "    \n",
    "    for data in x_data:\n",
    "        try:\n",
    "            ## find the x fuzzy value for x input\n",
    "            x_fuzzy_value = rule_X[:, 1][np.isclose(data, rule_X[:, 0], atol=1e-2)]\n",
    "\n",
    "            ## if there was more than one value in x_fuzzy_value we know that they are close to each other\n",
    "            ## so just we use one of it\n",
    "            ## here we check if it was an array\n",
    "            if np.ndim(x_fuzzy_value) > 0:\n",
    "                x_fuzzy_value = x_fuzzy_value[0]\n",
    "                \n",
    "            ## check which y fuzzy value is close the x fuzzy value and return the original y value\n",
    "            data_y_pred = rule_Y[:, 0][np.isclose(x_fuzzy_value, rule_Y[:, 1], atol=1e-2)]\n",
    "            \n",
    "            ## same as the if condition above\n",
    "            if np.ndim(data_y_pred) > 0:\n",
    "                data_y_pred = data_y_pred[0]\n",
    "            \n",
    "            ## append the predicted value\n",
    "            y_predicted.append(data_y_pred)\n",
    "        \n",
    "        ## if the input x data didn't match the rules \n",
    "        ## then insert zero as predicted value\n",
    "        except:\n",
    "            y_predicted.append(0)\n",
    "    \n",
    "    return y_predicted"
   ]
  },
  {
   "cell_type": "code",
   "execution_count": 48,
   "id": "00788a8d",
   "metadata": {},
   "outputs": [
    {
     "name": "stdout",
     "output_type": "stream",
     "text": [
      "First square error: 1.9797427163619779\n"
     ]
    }
   ],
   "source": [
    "##### First Rule. If `X` is Large then `Y` is Zero #####\n",
    "\n",
    "rule_A1 = np.stack((rule1_X_x, rule1_X_y), axis=1)\n",
    "rule_B1 = np.stack((rule1_Y_x, rule1_Y_y), axis=1)\n",
    "y_predicted_rule1 = predict_FIS(dataset.x.values, rule_A1, rule_B1)\n",
    "\n",
    "## square error\n",
    "SE_Rule1 = np.sum(np.power(y_predicted_rule1 - dataset.y, 2))\n",
    "print(f'First square error: {SE_Rule1}')"
   ]
  },
  {
   "cell_type": "code",
   "execution_count": 49,
   "id": "7c0e12b4",
   "metadata": {},
   "outputs": [
    {
     "name": "stdout",
     "output_type": "stream",
     "text": [
      "Second rule square error: 2.9863587688526496\n"
     ]
    }
   ],
   "source": [
    "##### Second Rule. If `X` is Small then `Y` is Small #####\n",
    "\n",
    "rule_A2 = np.stack((rule2_X_x, rule2_X_y), axis=1)\n",
    "rule_B2 = np.stack((rule2_Y_x, rule2_Y_y), axis=1)\n",
    "y_predicted_rule2 = predict_FIS(dataset.x.values, rule_A2, rule_B2)\n",
    "\n",
    "## print the square errors\n",
    "SE_Rule2 = np.sum(np.power(y_predicted_rule2 - dataset.y, 2))\n",
    "\n",
    "print(f'Second rule square error: {SE_Rule2}')"
   ]
  },
  {
   "cell_type": "markdown",
   "id": "b0aa7e10",
   "metadata": {},
   "source": [
    "The We will continue the first iteration to find the fitness values. For fitness values we will go through the equation below\n",
    "\\begin{equation}\n",
    "f = A - \\sum_i (y_i - y_i^{'})^2\n",
    "\\end{equation}\n",
    "$A$ is one of our parameters and is chosen by user.\n",
    "\n",
    "We would like to choose $A=100$"
   ]
  },
  {
   "cell_type": "code",
   "execution_count": 50,
   "id": "c4dc116d",
   "metadata": {},
   "outputs": [],
   "source": [
    "def find_fitness_SE(SE, A):\n",
    "    \"\"\"\n",
    "    find the fitness values using squared values\n",
    "    \n",
    "    Parameters:\n",
    "    ------------\n",
    "    SE : float\n",
    "        the squared value\n",
    "    A : integer\n",
    "        parameter chosen by user\n",
    "        \n",
    "    Returns:\n",
    "    --------\n",
    "    f : float\n",
    "        the fitness value\n",
    "    \"\"\"\n",
    "    f = A - np.sum(SE)\n",
    "    \n",
    "    return f\n",
    "def find_fitness(y_pred, y_actual, A):\n",
    "    \"\"\"\n",
    "    find fitness using predicted values and actual y values\n",
    "    \n",
    "    Parameters:\n",
    "    -----------\n",
    "    y_pred : 1D array\n",
    "        the predicted output values \n",
    "    y : 1D array\n",
    "        the actual output values\n",
    "    A : integer\n",
    "        parameter chosen by user\n",
    "    \n",
    "    Returns:\n",
    "    --------\n",
    "    fitness : float\n",
    "        the fitness value\n",
    "    \"\"\"\n",
    "    squared_error = np.power(y_pred - y_actual, 2)\n",
    "    fitness = find_fitness_SE(squared_error, A)\n",
    "    \n",
    "    return fitness"
   ]
  },
  {
   "cell_type": "code",
   "execution_count": 51,
   "id": "37d2fe9b",
   "metadata": {},
   "outputs": [
    {
     "data": {
      "text/plain": [
       "(8.020257283638022, 7.01364123114735)"
      ]
     },
     "execution_count": 51,
     "metadata": {},
     "output_type": "execute_result"
    }
   ],
   "source": [
    "f_rule1 = find_fitness_SE(SE_Rule1, 10)\n",
    "f_rule2 = find_fitness_SE(SE_Rule2, 10)\n",
    "\n",
    "f_rule1, f_rule2"
   ]
  },
  {
   "cell_type": "markdown",
   "id": "222bfabd",
   "metadata": {},
   "source": [
    "We will create a row of table same as table 6.10a in Ross book. "
   ]
  },
  {
   "cell_type": "code",
   "execution_count": 52,
   "id": "cd0d5b2f",
   "metadata": {},
   "outputs": [
    {
     "data": {
      "text/html": [
       "<div>\n",
       "<style scoped>\n",
       "    .dataframe tbody tr th:only-of-type {\n",
       "        vertical-align: middle;\n",
       "    }\n",
       "\n",
       "    .dataframe tbody tr th {\n",
       "        vertical-align: top;\n",
       "    }\n",
       "\n",
       "    .dataframe thead th {\n",
       "        text-align: right;\n",
       "    }\n",
       "</style>\n",
       "<table border=\"1\" class=\"dataframe\">\n",
       "  <thead>\n",
       "    <tr style=\"text-align: right;\">\n",
       "      <th></th>\n",
       "      <th>String</th>\n",
       "      <th>Base 1 binary</th>\n",
       "      <th>Base 2 binary</th>\n",
       "      <th>Base 3 binary</th>\n",
       "      <th>Base 4 binary</th>\n",
       "      <th>Base 1</th>\n",
       "      <th>Base 2</th>\n",
       "      <th>Base 3</th>\n",
       "      <th>Base 4</th>\n",
       "      <th>Rule 1, y' (x=0.0)</th>\n",
       "      <th>Rule 1, y' (x=0.3)</th>\n",
       "      <th>Rule 1, y' (x=0.6)</th>\n",
       "      <th>Rule 1, y' (x=1.0)</th>\n",
       "      <th>Rule 2, y' (x=0.0)</th>\n",
       "      <th>Rule 2, y' (x=0.3)</th>\n",
       "      <th>Rule 2, y' (x=0.6)</th>\n",
       "      <th>Rule 2, y' (x=1.0)</th>\n",
       "      <th>Rule 1 Fitness</th>\n",
       "      <th>Rule 2 Fitness</th>\n",
       "    </tr>\n",
       "  </thead>\n",
       "  <tbody>\n",
       "    <tr>\n",
       "      <th>0</th>\n",
       "      <td>['111110' '101101' '111110' '000010']</td>\n",
       "      <td>62</td>\n",
       "      <td>45</td>\n",
       "      <td>62</td>\n",
       "      <td>2</td>\n",
       "      <td>98.412698</td>\n",
       "      <td>71.428571</td>\n",
       "      <td>0.984127</td>\n",
       "      <td>0.031746</td>\n",
       "      <td>0.0</td>\n",
       "      <td>0.0</td>\n",
       "      <td>0.0</td>\n",
       "      <td>0.009941</td>\n",
       "      <td>0</td>\n",
       "      <td>0</td>\n",
       "      <td>0</td>\n",
       "      <td>0</td>\n",
       "      <td>8.020257</td>\n",
       "      <td>7.013641</td>\n",
       "    </tr>\n",
       "  </tbody>\n",
       "</table>\n",
       "</div>"
      ],
      "text/plain": [
       "                                  String  Base 1 binary  Base 2 binary  \\\n",
       "0  ['111110' '101101' '111110' '000010']             62             45   \n",
       "\n",
       "   Base 3 binary  Base 4 binary     Base 1     Base 2    Base 3    Base 4  \\\n",
       "0             62              2  98.412698  71.428571  0.984127  0.031746   \n",
       "\n",
       "   Rule 1, y' (x=0.0)  Rule 1, y' (x=0.3)  Rule 1, y' (x=0.6)  \\\n",
       "0                 0.0                 0.0                 0.0   \n",
       "\n",
       "   Rule 1, y' (x=1.0)  Rule 2, y' (x=0.0)  Rule 2, y' (x=0.3)  \\\n",
       "0            0.009941                   0                   0   \n",
       "\n",
       "   Rule 2, y' (x=0.6)  Rule 2, y' (x=1.0)  Rule 1 Fitness  Rule 2 Fitness  \n",
       "0                   0                   0        8.020257        7.013641  "
      ]
     },
     "execution_count": 52,
     "metadata": {},
     "output_type": "execute_result"
    }
   ],
   "source": [
    "## using pandas to create a beatifule table\n",
    "population_str = str(population_binary_representation)\n",
    "pd.DataFrame(\n",
    "    data={\n",
    "        'String' : [population_str], \n",
    "        'Base 1 binary' : [population[0]],\n",
    "        'Base 2 binary' :[ population[1]],\n",
    "        'Base 3 binary' : [population[2]],\n",
    "        'Base 4 binary' : [population[3]],\n",
    "        'Base 1' : [bases_x[0]],\n",
    "        'Base 2' : [bases_x[1]],\n",
    "        'Base 3' : [bases_y[0]],\n",
    "        'Base 4' : [bases_y[1]],\n",
    "        f'Rule 1, y\\' (x={dataset.iloc[0].x})': [y_predicted_rule1[0]],\n",
    "        f'Rule 1, y\\' (x={dataset.iloc[1].x})': [y_predicted_rule1[1]],\n",
    "        f'Rule 1, y\\' (x={dataset.iloc[2].x})': [y_predicted_rule1[2]],\n",
    "        f'Rule 1, y\\' (x={dataset.iloc[3].x})': [y_predicted_rule1[3]],\n",
    "        f'Rule 2, y\\' (x={dataset.iloc[0].x})': [y_predicted_rule2[0]],\n",
    "        f'Rule 2, y\\' (x={dataset.iloc[1].x})': [y_predicted_rule2[1]],\n",
    "        f'Rule 2, y\\' (x={dataset.iloc[2].x})': [y_predicted_rule2[2]],\n",
    "        f'Rule 2, y\\' (x={dataset.iloc[3].x})': [y_predicted_rule2[3]],\n",
    "        'Rule 1 Fitness' : [f_rule1],\n",
    "        'Rule 2 Fitness' : [f_rule2],        \n",
    "    }\n",
    ")\n"
   ]
  },
  {
   "cell_type": "markdown",
   "id": "65c4eca6",
   "metadata": {},
   "source": [
    "Until now we've done genetic algorithm for 4 population and one iteration. Let's Make the code as a class and run everything inside it in order to use more population count and run more iterations."
   ]
  },
  {
   "cell_type": "code",
   "execution_count": 53,
   "id": "b2672127",
   "metadata": {},
   "outputs": [],
   "source": [
    "class genetic_fuzzy_tsukamoto():\n",
    "    \"\"\"\n",
    "    apply genetic algorithm on a fuzzy dataset and rules\n",
    "    And also use tsukamoto inference system in it\n",
    "    \n",
    "    This is not a general class and is to capsulate all the works in Question 8 in order to use it in more than one iteration easily\n",
    "    \"\"\"\n",
    "    def __init__(self,\n",
    "                 bases_count = 4,\n",
    "                 max_population_value = 64,\n",
    "                 min_population_value = 0,\n",
    "                 population_count = 4,\n",
    "                 random_seed= None):\n",
    "        \"\"\"\n",
    "        initilize the class\n",
    "        \n",
    "        Parameters:\n",
    "        -----------\n",
    "        bases_count : positive integer\n",
    "            the count for rules bases\n",
    "            Since we have 2 rules and each has two values the default parameter is 4\n",
    "        max_population_value : positive integer\n",
    "            the maximum value that the population can have\n",
    "            default_value is 64\n",
    "        min_population_value : positive integer\n",
    "            the minimum value that the population can have\n",
    "            default_value is 0\n",
    "        population_count : positive integer\n",
    "            the value that can be set in population\n",
    "        random_seed : positive integer\n",
    "            to fix the random values can be reproduced\n",
    "            default value is None, meaning values cannot be reproduced\n",
    "        \"\"\"\n",
    "        \n",
    "        self.bases_count = bases_count\n",
    "        self.max_population_value = max_population_value\n",
    "        self.min_population_value = min_population_value\n",
    "        self.population_count = population_count\n",
    "        self.random_seed = random_seed\n",
    "        \n",
    "        self.population_binary_representation = None\n",
    "        self.population = None\n",
    "        \n",
    "        \n",
    "        \n",
    "        ## two rules will be applied for this question\n",
    "        ## `rule_A1` and `rlue_B1` are representive of the first rule (A1 then B1)\n",
    "        self.rule_A1 = None\n",
    "        self.rule_B1 = None\n",
    "        \n",
    "        ## `rule_A2` and `rlue_B2` are representive of the second rule (A2 then B2)\n",
    "        self.rule_A2 = None\n",
    "        self.rule_B2 = None\n",
    "        \n",
    "    \n",
    "    def fit(self, X, Y, population=None):\n",
    "        \"\"\"\n",
    "        fit the parameters of the rules in one iteration \n",
    "        \n",
    "        Parameters:\n",
    "        -----------\n",
    "        X : 1D array_like\n",
    "            input data with one feature \n",
    "        Y : 1D array_like\n",
    "            the output value for each X\n",
    "        population : array\n",
    "            fit the data on a predefined population\n",
    "            default value is None meaning we are producing a random population\n",
    "        \"\"\"\n",
    "        ## if there was no population\n",
    "        if np.ndim(population) == 0:\n",
    "            population = self.__init_population()\n",
    "            self.population = population\n",
    "        else:\n",
    "            self.population = population\n",
    "        \n",
    "        ## the width of the population strings\n",
    "        population_width = int(np.ceil(np.log2(self.max_population_value)))\n",
    "        self.population_binary_representation = self.__get_binary_representation_array(\n",
    "                population, population_width\n",
    "            )\n",
    "        \n",
    "        ## we can apply C values manually but we represent this way as an alternative\n",
    "        C_min_x = dataset[['x']].min().values[0]\n",
    "        C_min_y = dataset[['y']].min().values[0]\n",
    "\n",
    "        C_max_x = dataset[['x']].max().values[0]\n",
    "        C_max_y = dataset[['y']].max().values[0]\n",
    "        \n",
    "        bases_x = self.__get_C_value(population[:2], population_width, C_min_x, C_max_x )\n",
    "        bases_y = self.__get_C_value(population[2:], population_width, C_min_y, C_max_y )\n",
    "        \n",
    "        ## rule1_X_x means the X data and x axis in Rule 1\n",
    "        ## rule1_X_y means the X data and y axis in Rule 1\n",
    "        rule1_X_x, rule1_X_y = self.__right_triangle_rules(C_min_x, bases_x[0], -1)\n",
    "        ## rule2_X_x means the X data and x axis in Rule 2\n",
    "        ## rule2_X_y means the X data and y axis in Rule 2\n",
    "        rule2_X_x, rule2_X_y = self.__right_triangle_rules(C_max_x - bases_x[1], bases_x[1], 1)   \n",
    "        \n",
    "        ## rule1_Y_x means x axis for Y data in Rule 1\n",
    "        ## rule1_Y_y means y axis for Y data in Rule 1\n",
    "        rule1_Y_x, rule1_Y_y = self.__right_triangle_rules(C_min_y, bases_y[0], -1)\n",
    "\n",
    "        ## and as above naming is applied\n",
    "        rule2_Y_x, rule2_Y_y = self.__right_triangle_rules(C_max_y - bases_y[1], bases_y[1], 1)\n",
    "        \n",
    "        ## First and second rules \n",
    "        rule_A1 = np.stack((rule1_X_x, rule1_X_y), axis=1)\n",
    "        rule_B1 = np.stack((rule1_Y_x, rule1_Y_y), axis=1)\n",
    "        \n",
    "        rule_A2 = np.stack((rule2_X_x, rule2_X_y), axis=1)\n",
    "        rule_B2 = np.stack((rule2_Y_x, rule2_Y_y), axis=1)\n",
    "        \n",
    "        ## update the rules\n",
    "        self.rule_A1 = rule_A1\n",
    "        self.rule_B1 = rule_B1\n",
    "        \n",
    "        self.rule_A2 = rule_A2\n",
    "        self.rule_B2 = rule_B2\n",
    "        \n",
    "        self.bases_x = bases_x\n",
    "        self.bases_y = bases_y\n",
    "        \n",
    "        \n",
    "        \n",
    "    \n",
    "    def __init_population(self):\n",
    "        \"\"\"\n",
    "        initialize population function\n",
    "        \n",
    "        Returns:\n",
    "        --------\n",
    "        population : 1D array_like\n",
    "            array of decimal values between max_random_value and min_random_value\n",
    "        \"\"\"\n",
    "        ## initialize the population using random binary value\n",
    "\n",
    "        maximum_random_value = self.max_population_value\n",
    "        minimum_random_value = self.min_population_value\n",
    "\n",
    "        ## we need to specify four bases for our rules\n",
    "        bases_count = self.bases_count\n",
    "\n",
    "        ## if random seed was given \n",
    "        ## set it\n",
    "        if self.random_seed != None:\n",
    "            np.random.seed(self.random_seed)\n",
    "\n",
    "        population = np.random.randint(\n",
    "            minimum_random_value,\n",
    "            maximum_random_value,\n",
    "            bases_count)\n",
    "\n",
    "        return population\n",
    "    \n",
    "    def __get_binary_representation_array(self, x, binary_width):\n",
    "        \"\"\"\n",
    "        get the binary rerpresentation of an array\n",
    "\n",
    "        Parameters:\n",
    "        ------------\n",
    "        x : array_like\n",
    "            input decimal values\n",
    "        binary_width : positive integer\n",
    "            the value representive the count of the zeros and ones\n",
    "            Important to set this with respect to `x` values\n",
    "\n",
    "        Returns:\n",
    "        ---------\n",
    "        x_bin : string array\n",
    "            binary string representation of decimal inputs \n",
    "        \"\"\"\n",
    "\n",
    "        ## find the binary representation of the population\n",
    "        x_bin = []\n",
    "        for i in range(len(x)):\n",
    "            ## binary population\n",
    "            binary_x = np.binary_repr(x[i], \n",
    "                                        width=binary_width)\n",
    "\n",
    "            x_bin.append(binary_x)\n",
    "\n",
    "        return x_bin\n",
    "    \n",
    "    def __get_C_value(self, b, L, c_min, c_max):\n",
    "        \"\"\"\n",
    "        Find the value of `C` parameter for the genetic algorithm\n",
    "\n",
    "        Parameters:\n",
    "        ------------\n",
    "        b : float\n",
    "            decimal value representive of the input value of the data\n",
    "        L : positive integer\n",
    "            value representing the length of each string in genetic algorithm\n",
    "        c_min : float or integer\n",
    "            decimal value representive for the smallest value that is fitted in dataset\n",
    "        c_max : float or integer\n",
    "            decimal value representive for the biggest value that is fitted in dataset\n",
    "\n",
    "        Returns:\n",
    "        ---------\n",
    "        C : float\n",
    "            the parameter representive for the value of b\n",
    "        \"\"\"\n",
    "\n",
    "        C = c_min + (b / (2**L - 1)) * (c_max - c_min)\n",
    "\n",
    "        return C\n",
    "    \n",
    "    def __right_triangle_rules(self, start_value, base_width, slope):\n",
    "        \"\"\"\n",
    "        Create right triangle membership functions for one rule\n",
    "\n",
    "        Parameters:\n",
    "        -----------\n",
    "        start_value : float\n",
    "            the value that we are going to start the plot\n",
    "        base_width : float\n",
    "            the width of triangle's base\n",
    "        slope : -1 or +1\n",
    "            the slope of the triangle's hypotenuse\n",
    "\n",
    "        Returns:\n",
    "        ----------\n",
    "        x : 1D array_like\n",
    "            the x values representive the x coordinates of the membership function\n",
    "        y : 1D array_like\n",
    "            the y values representive the membership values\n",
    "            Note: the membership function values are normalized.\n",
    "        \"\"\"\n",
    "        assert abs(slope) == 1, 'Error value for slope, can be either +1 or -1!'\n",
    "\n",
    "        ## the x values start at `start_value` and ends at `start_value + base_width`\n",
    "        end_value = start_value + base_width\n",
    "        x = np.linspace(start_value, end_value, int(np.ceil(base_width)) * 100)\n",
    "\n",
    "        ## finding y values via the slope\n",
    "        if slope == -1:\n",
    "            y = -(1/base_width) * (x - end_value)       \n",
    "        else:\n",
    "            y = (1/base_width) * (x - start_value)\n",
    "\n",
    "        return x, y\n",
    "\n",
    "\n",
    "    def predict(self, x_data):\n",
    "        \"\"\"\n",
    "        predict the output of the x using rule base fuzzy system\n",
    "        Tsukamoto inference system is used\n",
    "        The results will be for both 2 rules\n",
    "\n",
    "        Parameters:\n",
    "        ------------\n",
    "        x_data : array_like\n",
    "            the input values of the dataset\n",
    "\n",
    "        Returns:\n",
    "        --------\n",
    "        y1_predicted : array\n",
    "            the float values representing the predicted output of x_data\n",
    "            predicted values for rule number 1\n",
    "        y2_predicted : array\n",
    "            the float values representing the predicted output of x_data\n",
    "            predicted values for rule number 2\n",
    "        \"\"\"\n",
    "\n",
    "        assert np.ndim(self.rule_A1) != 0, \"Error! First fit the model with data\"\n",
    "        \n",
    "        ## predictions for both rules\n",
    "        y1_predicted = self.__prediction(x_data, self.rule_A1, self.rule_B1)\n",
    "        y2_predicted = self.__prediction(x_data, self.rule_A2, self.rule_B2)\n",
    "\n",
    "            \n",
    "        return y1_predicted, y2_predicted\n",
    "    \n",
    "    def __prediction(self, x_data, rule_X, rule_Y):\n",
    "        \"\"\"\n",
    "        predict the output of the x using rule base fuzzy system\n",
    "        Tsukamoto inference system is used\n",
    "\n",
    "        Parameters:\n",
    "        ------------\n",
    "        x_data : array_like\n",
    "            the input values of the dataset\n",
    "        rule_X : 2D array\n",
    "            first dimension data range and for second dimension fuzzy membership values\n",
    "        rule_Y : 2D array\n",
    "            output data\n",
    "            first dimension data range and for second dimension fuzzy membership values\n",
    "\n",
    "        Returns:\n",
    "        --------\n",
    "        y_predicted : array\n",
    "            the float values representing the predicted output of x_data\n",
    "        \"\"\"\n",
    "        ## the initialization of the predicted values array\n",
    "        y_predicted = []\n",
    "        \n",
    "        for data in x_data:\n",
    "            try:\n",
    "                ## find the x fuzzy value for x input\n",
    "                x_fuzzy_value = rule_X[:, 1][np.isclose(data, rule_X[:, 0], atol=1e-2)]\n",
    "\n",
    "                ## if there was more than one value in x_fuzzy_value we know that they are close to each other\n",
    "                ## so just we use one of it\n",
    "                ## here we check if it was an array\n",
    "                if np.ndim(x_fuzzy_value) > 0:\n",
    "                    x_fuzzy_value = x_fuzzy_value[0]\n",
    "\n",
    "                ## check which y fuzzy value is close the x fuzzy value and return the original y value\n",
    "                data_y_pred = rule_Y[:, 0][np.isclose(x_fuzzy_value, rule_Y[:, 1], atol=1e-2)]\n",
    "\n",
    "                ## same as the if condition above\n",
    "                if np.ndim(data_y_pred) > 0:\n",
    "                    data_y_pred = data_y_pred[0]\n",
    "\n",
    "                ## append the predicted value\n",
    "                y_predicted.append(data_y_pred)\n",
    "\n",
    "            ## if the input x data didn't match the rules \n",
    "            ## then insert zero as predicted value\n",
    "            except:\n",
    "                y_predicted.append(0)\n",
    "        return y_predicted\n",
    "    \n"
   ]
  },
  {
   "cell_type": "code",
   "execution_count": 54,
   "id": "77301b75",
   "metadata": {},
   "outputs": [
    {
     "data": {
      "text/plain": [
       "(8.020257283638022, 7.01364123114735)"
      ]
     },
     "execution_count": 54,
     "metadata": {},
     "output_type": "execute_result"
    }
   ],
   "source": [
    "GA_fuzzy = genetic_fuzzy_tsukamoto(random_seed=123)\n",
    "\n",
    "GA_fuzzy.fit(dataset.x.values, dataset.y.values)\n",
    "\n",
    "y_pred1, y_pred2 = GA_fuzzy.predict(dataset.x.values) \n",
    "\n",
    "rule1_fitness = find_fitness(y_pred1, dataset.y.values, 10)\n",
    "rule2_fitness = find_fitness(y_pred2, dataset.y.values, 10)\n",
    "\n",
    "rule1_fitness, rule2_fitness"
   ]
  },
  {
   "cell_type": "code",
   "execution_count": 55,
   "id": "c87e9764",
   "metadata": {},
   "outputs": [
    {
     "data": {
      "text/plain": [
       "[0.0, 0.0, 0.0, 0.009940676607343274, 0]"
      ]
     },
     "execution_count": 55,
     "metadata": {},
     "output_type": "execute_result"
    }
   ],
   "source": [
    "y_pred1"
   ]
  },
  {
   "cell_type": "code",
   "execution_count": 56,
   "id": "3621e2ce",
   "metadata": {},
   "outputs": [],
   "source": [
    "def create_table(class_instance, dataset, y_pred1, y_pred2, rule1_fitness, rule2_fitness):\n",
    "    \"\"\"\n",
    "    Create a table of the data \n",
    "    \n",
    "    Parameters:\n",
    "    ------------\n",
    "    class_instance : class instance\n",
    "        an instance of `genetic_fuzzy_tsukamoto` class representing the values\n",
    "    dataset : pandas dataframe\n",
    "        contains input dataset\n",
    "    y_pred1 : 1D array\n",
    "        predicted values of input dataset using rule1\n",
    "    y_pred2 : 1D array\n",
    "        predicted values of input dataset using rule2\n",
    "        \n",
    "    Returns:\n",
    "    ---------\n",
    "    table : pandas dataframe\n",
    "        the table of data\n",
    "    \"\"\"\n",
    "    ## using pandas to create a beatifule table\n",
    "    population_str = str(population_binary_representation)\n",
    "    table = pd.DataFrame(\n",
    "        data={\n",
    "            'String' : [str(class_instance.population_binary_representation)], \n",
    "            'Base 1 binary' : [class_instance.population[0]],\n",
    "            'Base 2 binary' :[class_instance.population[1]],\n",
    "            'Base 3 binary' : [class_instance.population[2]],\n",
    "            'Base 4 binary' : [class_instance.population[3]],\n",
    "            'Base 1' : [class_instance.bases_x[0]],\n",
    "            'Base 2' : [class_instance.bases_x[1]],\n",
    "            'Base 3' : [class_instance.bases_y[0]],\n",
    "            'Base 4' : [class_instance.bases_y[1]],\n",
    "            f'Rule 1, y\\' (x={dataset.iloc[0].x})': [y_pred1[0]],\n",
    "            f'Rule 1, y\\' (x={dataset.iloc[1].x})': [y_pred1[1]],\n",
    "            f'Rule 1, y\\' (x={dataset.iloc[2].x})': [y_pred1[2]],\n",
    "            f'Rule 1, y\\' (x={dataset.iloc[3].x})': [y_pred1[3]],\n",
    "            f'Rule 2, y\\' (x={dataset.iloc[0].x})': [y_pred2[0]],\n",
    "            f'Rule 2, y\\' (x={dataset.iloc[1].x})': [y_pred2[1]],\n",
    "            f'Rule 2, y\\' (x={dataset.iloc[2].x})': [y_pred2[2]],\n",
    "            f'Rule 2, y\\' (x={dataset.iloc[3].x})': [y_pred2[3]],\n",
    "            'Rule 1 Fitness' : [rule1_fitness],\n",
    "            'Rule 2 Fitness' : [rule2_fitness],        \n",
    "        }\n",
    "    )\n",
    "    \n",
    "    return table\n"
   ]
  },
  {
   "cell_type": "code",
   "execution_count": 57,
   "id": "92aa0293",
   "metadata": {},
   "outputs": [
    {
     "data": {
      "text/html": [
       "<div>\n",
       "<style scoped>\n",
       "    .dataframe tbody tr th:only-of-type {\n",
       "        vertical-align: middle;\n",
       "    }\n",
       "\n",
       "    .dataframe tbody tr th {\n",
       "        vertical-align: top;\n",
       "    }\n",
       "\n",
       "    .dataframe thead th {\n",
       "        text-align: right;\n",
       "    }\n",
       "</style>\n",
       "<table border=\"1\" class=\"dataframe\">\n",
       "  <thead>\n",
       "    <tr style=\"text-align: right;\">\n",
       "      <th></th>\n",
       "      <th>String</th>\n",
       "      <th>Base 1 binary</th>\n",
       "      <th>Base 2 binary</th>\n",
       "      <th>Base 3 binary</th>\n",
       "      <th>Base 4 binary</th>\n",
       "      <th>Base 1</th>\n",
       "      <th>Base 2</th>\n",
       "      <th>Base 3</th>\n",
       "      <th>Base 4</th>\n",
       "      <th>Rule 1, y' (x=0.0)</th>\n",
       "      <th>Rule 1, y' (x=0.3)</th>\n",
       "      <th>Rule 1, y' (x=0.6)</th>\n",
       "      <th>Rule 1, y' (x=1.0)</th>\n",
       "      <th>Rule 2, y' (x=0.0)</th>\n",
       "      <th>Rule 2, y' (x=0.3)</th>\n",
       "      <th>Rule 2, y' (x=0.6)</th>\n",
       "      <th>Rule 2, y' (x=1.0)</th>\n",
       "      <th>Rule 1 Fitness</th>\n",
       "      <th>Rule 2 Fitness</th>\n",
       "    </tr>\n",
       "  </thead>\n",
       "  <tbody>\n",
       "    <tr>\n",
       "      <th>0</th>\n",
       "      <td>['111110', '101101', '111110', '000010']</td>\n",
       "      <td>62</td>\n",
       "      <td>45</td>\n",
       "      <td>62</td>\n",
       "      <td>2</td>\n",
       "      <td>98.412698</td>\n",
       "      <td>71.428571</td>\n",
       "      <td>0.984127</td>\n",
       "      <td>0.031746</td>\n",
       "      <td>0.0</td>\n",
       "      <td>0.0</td>\n",
       "      <td>0.0</td>\n",
       "      <td>0.009941</td>\n",
       "      <td>0</td>\n",
       "      <td>0</td>\n",
       "      <td>0</td>\n",
       "      <td>0</td>\n",
       "      <td>8.020257</td>\n",
       "      <td>7.013641</td>\n",
       "    </tr>\n",
       "  </tbody>\n",
       "</table>\n",
       "</div>"
      ],
      "text/plain": [
       "                                     String  Base 1 binary  Base 2 binary  \\\n",
       "0  ['111110', '101101', '111110', '000010']             62             45   \n",
       "\n",
       "   Base 3 binary  Base 4 binary     Base 1     Base 2    Base 3    Base 4  \\\n",
       "0             62              2  98.412698  71.428571  0.984127  0.031746   \n",
       "\n",
       "   Rule 1, y' (x=0.0)  Rule 1, y' (x=0.3)  Rule 1, y' (x=0.6)  \\\n",
       "0                 0.0                 0.0                 0.0   \n",
       "\n",
       "   Rule 1, y' (x=1.0)  Rule 2, y' (x=0.0)  Rule 2, y' (x=0.3)  \\\n",
       "0            0.009941                   0                   0   \n",
       "\n",
       "   Rule 2, y' (x=0.6)  Rule 2, y' (x=1.0)  Rule 1 Fitness  Rule 2 Fitness  \n",
       "0                   0                   0        8.020257        7.013641  "
      ]
     },
     "execution_count": 57,
     "metadata": {},
     "output_type": "execute_result"
    }
   ],
   "source": [
    "table_row1 = create_table(GA_fuzzy, dataset, y_pred1, y_pred2, rule1_fitness, rule2_fitness)\n",
    "table_row1"
   ]
  },
  {
   "cell_type": "code",
   "execution_count": 58,
   "id": "598ffa48",
   "metadata": {},
   "outputs": [],
   "source": [
    "class genetic_reproduction():\n",
    "    def __init__(self, population):\n",
    "        \"\"\"\n",
    "        reproduce samples class for genetic algorithm\n",
    "        \n",
    "        Parameters:\n",
    "        ------------\n",
    "        population : array of strings\n",
    "            the population for now\n",
    "        \"\"\"\n",
    "        \n",
    "        self.population = population\n",
    "    \n",
    "    def reproduce(self, mutation_rate=0.1):\n",
    "        \"\"\"\n",
    "        produce new population using the given population\n",
    "        the production is using cross over and mutation \n",
    "        \n",
    "        Parameters:\n",
    "        -----------\n",
    "        mutation_rate : float between 0 and 1\n",
    "            this value represents that how many times the mutation is applied\n",
    "            default value is 0.1 meaning for ten precent of the time mutation is applied\n",
    "            \n",
    "        Returns:\n",
    "        --------\n",
    "        new_population : array of string\n",
    "            the returned population is as length as the given population as input\n",
    "        \"\"\"\n",
    "        \n",
    "        population = self.population\n",
    "        ## initialize new population\n",
    "        new_population = []\n",
    "        \n",
    "        population_count = len(population)\n",
    "        \n",
    "        i = 0\n",
    "        ## while we didn't produce enough population continue the procedure\n",
    "        while i < population_count:\n",
    "            ## find a value to use mutation or cross over \n",
    "            choice = np.random.random()\n",
    "\n",
    "            ## apply mutation if choice is less than 0.1\n",
    "            if choice <= 0.1:\n",
    "                produced_sample = self.__mutation(population[i])\n",
    "                new_population.append(produced_sample)\n",
    "                ## one new sample is produced so we increase the index with 1 value\n",
    "                i += 1\n",
    "            else:\n",
    "                ## apply a random division point\n",
    "                division_point = np.random.randint(1, len(population[0]))\n",
    "                \n",
    "                ## if there was just one sample available try mutation on one sample with itself\n",
    "                if i+1 == population_count:\n",
    "                    produced_samples = self.__cross_over(population[i], population[i], division_point )\n",
    "                    ## just append one of the produced samples\n",
    "                    new_population.append(produced_samples[0])\n",
    "                else:\n",
    "                    produced_samples = self.__cross_over(population[i], population[i+1], division_point)\n",
    "                    new_population.append(produced_samples[0])\n",
    "                    new_population.append(produced_samples[1])\n",
    "                \n",
    "                ## two new samples are produced so increase the index with 2 value\n",
    "                i += 2\n",
    "        \n",
    "        return new_population \n",
    "                \n",
    "        \n",
    "    def __cross_over(self, sample1, sample2, division_point):\n",
    "        \"\"\"\n",
    "        Apply the cross over method on two samples of population \n",
    "\n",
    "        Parameters:\n",
    "        ------------\n",
    "        sample1 : string \n",
    "            a sample from the population in genetic algorithm\n",
    "            having binary representation for example: `111000`\n",
    "        sample2 : string \n",
    "            a sample from the population in genetic algorithm\n",
    "            having binary representation for example: `111000`  \n",
    "        division_point : positive integer\n",
    "            the point that the samples are splitted\n",
    "\n",
    "        Returns:\n",
    "        ---------\n",
    "        new_sample1 : string\n",
    "            the newly created sample using cross over\n",
    "        new_sample2 : string\n",
    "            the newly created sample using cross over\n",
    "        \"\"\"\n",
    "\n",
    "        new_sample1 = sample1[:division_point] + sample2[division_point:]\n",
    "        new_sample2 = sample1[division_point:] + sample2[:division_point]\n",
    "\n",
    "        return new_sample1, new_sample2\n",
    "\n",
    "    def __mutation(self, sample1):\n",
    "        \"\"\"\n",
    "        Apply the mutation method on a samples of population to produce new samples \n",
    "\n",
    "        Parameters:\n",
    "        ------------\n",
    "        sample1 : string \n",
    "            a sample from the population in genetic algorithm\n",
    "            having binary representation for example: `111000`\n",
    "\n",
    "        Returns:\n",
    "        ---------\n",
    "        new_sample : string\n",
    "            the newly created sample using cross over\n",
    "        \"\"\"\n",
    "        ## the point that mutation will be applied\n",
    "        mutation_point = np.random.randint(0, len(sample1))\n",
    "        \n",
    "        new_sample = ''\n",
    "        new_sample += sample1[:mutation_point] + str(int(not int(sample1[mutation_point]))) + sample1[mutation_point+1:]\n",
    "\n",
    "        return new_sample\n",
    "    "
   ]
  },
  {
   "cell_type": "code",
   "execution_count": 59,
   "id": "f632f58a",
   "metadata": {},
   "outputs": [],
   "source": [
    "new_population_str = genetic_reproduction(GA_fuzzy.population_binary_representation).reproduce()"
   ]
  },
  {
   "cell_type": "code",
   "execution_count": 60,
   "id": "15ba843e",
   "metadata": {},
   "outputs": [],
   "source": [
    "def bin_to_decimal(binary_array):\n",
    "    \"\"\"\n",
    "    convert binary string array values to a decimal array\n",
    "    \n",
    "    Parameters:\n",
    "    ------------\n",
    "    binary_array : 1D array_like\n",
    "        an array that each value is representive of an binary string value\n",
    "    \n",
    "    Returns:\n",
    "    ---------\n",
    "    decimal_array : 1D array_like\n",
    "        array of decimal values representive of each binary input values\n",
    "    \"\"\"\n",
    "    decimal_array = []\n",
    "    for binary_value in binary_array:\n",
    "        decimal_array.append(int(binary_value, 2))\n",
    "        \n",
    "    return decimal_array"
   ]
  },
  {
   "cell_type": "code",
   "execution_count": 61,
   "id": "3fb0190a",
   "metadata": {},
   "outputs": [
    {
     "data": {
      "text/plain": [
       "array([61, 58, 62, 32])"
      ]
     },
     "execution_count": 61,
     "metadata": {},
     "output_type": "execute_result"
    }
   ],
   "source": [
    "new_population = bin_to_decimal(new_population_str)\n",
    "new_population = np.array(new_population)\n",
    "new_population"
   ]
  },
  {
   "cell_type": "code",
   "execution_count": 62,
   "id": "2d23da0b",
   "metadata": {},
   "outputs": [
    {
     "data": {
      "text/plain": [
       "(8.020257283638022, 7.023235019801585)"
      ]
     },
     "execution_count": 62,
     "metadata": {},
     "output_type": "execute_result"
    }
   ],
   "source": [
    "GA_fuzzy1 = genetic_fuzzy_tsukamoto()\n",
    "GA_fuzzy1.fit(dataset.x.values, dataset.y.values, population=np.array(new_population))\n",
    "\n",
    "y_pred1, y_pred2 = GA_fuzzy1.predict(dataset.x.values) \n",
    "\n",
    "rule1_fitness = find_fitness(y_pred1, dataset.y.values, 10)\n",
    "rule2_fitness = find_fitness(y_pred2, dataset.y.values, 10)\n",
    "\n",
    "rule1_fitness, rule2_fitness"
   ]
  },
  {
   "cell_type": "code",
   "execution_count": 63,
   "id": "e781b9ee",
   "metadata": {},
   "outputs": [],
   "source": [
    "table_row2 = create_table(GA_fuzzy1, dataset, y_pred1, y_pred2, rule1_fitness, rule2_fitness)"
   ]
  },
  {
   "cell_type": "code",
   "execution_count": 64,
   "id": "87165d92",
   "metadata": {},
   "outputs": [
    {
     "data": {
      "text/html": [
       "<div>\n",
       "<style scoped>\n",
       "    .dataframe tbody tr th:only-of-type {\n",
       "        vertical-align: middle;\n",
       "    }\n",
       "\n",
       "    .dataframe tbody tr th {\n",
       "        vertical-align: top;\n",
       "    }\n",
       "\n",
       "    .dataframe thead th {\n",
       "        text-align: right;\n",
       "    }\n",
       "</style>\n",
       "<table border=\"1\" class=\"dataframe\">\n",
       "  <thead>\n",
       "    <tr style=\"text-align: right;\">\n",
       "      <th></th>\n",
       "      <th>String</th>\n",
       "      <th>Base 1 binary</th>\n",
       "      <th>Base 2 binary</th>\n",
       "      <th>Base 3 binary</th>\n",
       "      <th>Base 4 binary</th>\n",
       "      <th>Base 1</th>\n",
       "      <th>Base 2</th>\n",
       "      <th>Base 3</th>\n",
       "      <th>Base 4</th>\n",
       "      <th>Rule 1, y' (x=0.0)</th>\n",
       "      <th>Rule 1, y' (x=0.3)</th>\n",
       "      <th>Rule 1, y' (x=0.6)</th>\n",
       "      <th>Rule 1, y' (x=1.0)</th>\n",
       "      <th>Rule 2, y' (x=0.0)</th>\n",
       "      <th>Rule 2, y' (x=0.3)</th>\n",
       "      <th>Rule 2, y' (x=0.6)</th>\n",
       "      <th>Rule 2, y' (x=1.0)</th>\n",
       "      <th>Rule 1 Fitness</th>\n",
       "      <th>Rule 2 Fitness</th>\n",
       "    </tr>\n",
       "  </thead>\n",
       "  <tbody>\n",
       "    <tr>\n",
       "      <th>0</th>\n",
       "      <td>['111110', '101101', '111110', '000010']</td>\n",
       "      <td>62</td>\n",
       "      <td>45</td>\n",
       "      <td>62</td>\n",
       "      <td>2</td>\n",
       "      <td>98.412698</td>\n",
       "      <td>71.428571</td>\n",
       "      <td>0.984127</td>\n",
       "      <td>0.031746</td>\n",
       "      <td>0.0</td>\n",
       "      <td>0.0</td>\n",
       "      <td>0.0</td>\n",
       "      <td>0.009941</td>\n",
       "      <td>0</td>\n",
       "      <td>0</td>\n",
       "      <td>0</td>\n",
       "      <td>0</td>\n",
       "      <td>8.020257</td>\n",
       "      <td>7.013641</td>\n",
       "    </tr>\n",
       "    <tr>\n",
       "      <th>1</th>\n",
       "      <td>['111101', '111010', '111110', '100000']</td>\n",
       "      <td>61</td>\n",
       "      <td>58</td>\n",
       "      <td>62</td>\n",
       "      <td>32</td>\n",
       "      <td>96.825397</td>\n",
       "      <td>92.063492</td>\n",
       "      <td>0.984127</td>\n",
       "      <td>0.507937</td>\n",
       "      <td>0.0</td>\n",
       "      <td>0.0</td>\n",
       "      <td>0.0</td>\n",
       "      <td>0.009941</td>\n",
       "      <td>0</td>\n",
       "      <td>0</td>\n",
       "      <td>0</td>\n",
       "      <td>0</td>\n",
       "      <td>8.020257</td>\n",
       "      <td>7.023235</td>\n",
       "    </tr>\n",
       "  </tbody>\n",
       "</table>\n",
       "</div>"
      ],
      "text/plain": [
       "                                     String  Base 1 binary  Base 2 binary  \\\n",
       "0  ['111110', '101101', '111110', '000010']             62             45   \n",
       "1  ['111101', '111010', '111110', '100000']             61             58   \n",
       "\n",
       "   Base 3 binary  Base 4 binary     Base 1     Base 2    Base 3    Base 4  \\\n",
       "0             62              2  98.412698  71.428571  0.984127  0.031746   \n",
       "1             62             32  96.825397  92.063492  0.984127  0.507937   \n",
       "\n",
       "   Rule 1, y' (x=0.0)  Rule 1, y' (x=0.3)  Rule 1, y' (x=0.6)  \\\n",
       "0                 0.0                 0.0                 0.0   \n",
       "1                 0.0                 0.0                 0.0   \n",
       "\n",
       "   Rule 1, y' (x=1.0)  Rule 2, y' (x=0.0)  Rule 2, y' (x=0.3)  \\\n",
       "0            0.009941                   0                   0   \n",
       "1            0.009941                   0                   0   \n",
       "\n",
       "   Rule 2, y' (x=0.6)  Rule 2, y' (x=1.0)  Rule 1 Fitness  Rule 2 Fitness  \n",
       "0                   0                   0        8.020257        7.013641  \n",
       "1                   0                   0        8.020257        7.023235  "
      ]
     },
     "execution_count": 64,
     "metadata": {},
     "output_type": "execute_result"
    }
   ],
   "source": [
    "pd.concat((table_row1, table_row2),ignore_index=True)"
   ]
  },
  {
   "cell_type": "markdown",
   "id": "5c2580ff",
   "metadata": {},
   "source": [
    "Let's do all the works and return the iteration one results."
   ]
  },
  {
   "cell_type": "code",
   "execution_count": 65,
   "id": "cdc2c448",
   "metadata": {},
   "outputs": [],
   "source": [
    "def iterate_genetic_algorithm(new_population_str, iteration_count=4):\n",
    "    \"\"\"\n",
    "    Iterate over all methods we've been created\n",
    "    \n",
    "    Parameters:\n",
    "    -----------\n",
    "    new_population_str : string array\n",
    "        the initialized population\n",
    "    iteration_count : positive integer\n",
    "        \n",
    "        \n",
    "    Returns:\n",
    "    --------\n",
    "    results_table : pandas dataframe\n",
    "        the results for all values\n",
    "    \"\"\"\n",
    "    table_iteration = []\n",
    "\n",
    "    for i in range(0, iteration_count):\n",
    "        GA_fuzzy = genetic_fuzzy_tsukamoto()\n",
    "\n",
    "        ## Reproduction phase\n",
    "        ## the last population is passed to create new population\n",
    "        new_population_str = genetic_reproduction(new_population_str).reproduce()\n",
    "        new_population = bin_to_decimal(new_population_str)\n",
    "        new_population = np.array(new_population)\n",
    "\n",
    "        GA_fuzzy.fit(dataset.x.values, dataset.y.values, population=np.array(new_population))\n",
    "\n",
    "        y_pred1, y_pred2 = GA_fuzzy.predict(dataset.x.values) \n",
    "\n",
    "        rule1_fitness = find_fitness(y_pred1, dataset.y.values, 10)\n",
    "        rule2_fitness = find_fitness(y_pred2, dataset.y.values, 10)\n",
    "\n",
    "        table = create_table(GA_fuzzy, dataset, y_pred1, y_pred2, rule1_fitness, rule2_fitness)   \n",
    "\n",
    "        table_iteration.append(table)\n",
    "    \n",
    "    results_table = pd.concat(table_iteration, ignore_index=True)\n",
    "    \n",
    "    return results_table"
   ]
  },
  {
   "cell_type": "code",
   "execution_count": 66,
   "id": "59af3f85",
   "metadata": {},
   "outputs": [
    {
     "name": "stdout",
     "output_type": "stream",
     "text": [
      "Found values in 10 iterations\n"
     ]
    },
    {
     "data": {
      "text/html": [
       "<div>\n",
       "<style scoped>\n",
       "    .dataframe tbody tr th:only-of-type {\n",
       "        vertical-align: middle;\n",
       "    }\n",
       "\n",
       "    .dataframe tbody tr th {\n",
       "        vertical-align: top;\n",
       "    }\n",
       "\n",
       "    .dataframe thead th {\n",
       "        text-align: right;\n",
       "    }\n",
       "</style>\n",
       "<table border=\"1\" class=\"dataframe\">\n",
       "  <thead>\n",
       "    <tr style=\"text-align: right;\">\n",
       "      <th></th>\n",
       "      <th>String</th>\n",
       "      <th>Base 1 binary</th>\n",
       "      <th>Base 2 binary</th>\n",
       "      <th>Base 3 binary</th>\n",
       "      <th>Base 4 binary</th>\n",
       "      <th>Base 1</th>\n",
       "      <th>Base 2</th>\n",
       "      <th>Base 3</th>\n",
       "      <th>Base 4</th>\n",
       "      <th>Rule 1, y' (x=0.0)</th>\n",
       "      <th>Rule 1, y' (x=0.3)</th>\n",
       "      <th>Rule 1, y' (x=0.6)</th>\n",
       "      <th>Rule 1, y' (x=1.0)</th>\n",
       "      <th>Rule 2, y' (x=0.0)</th>\n",
       "      <th>Rule 2, y' (x=0.3)</th>\n",
       "      <th>Rule 2, y' (x=0.6)</th>\n",
       "      <th>Rule 2, y' (x=1.0)</th>\n",
       "      <th>Rule 1 Fitness</th>\n",
       "      <th>Rule 2 Fitness</th>\n",
       "    </tr>\n",
       "  </thead>\n",
       "  <tbody>\n",
       "    <tr>\n",
       "      <th>0</th>\n",
       "      <td>['111010', '110111', '110000', '111010']</td>\n",
       "      <td>58</td>\n",
       "      <td>55</td>\n",
       "      <td>48</td>\n",
       "      <td>58</td>\n",
       "      <td>92.063492</td>\n",
       "      <td>87.301587</td>\n",
       "      <td>0.761905</td>\n",
       "      <td>0.920635</td>\n",
       "      <td>0.0</td>\n",
       "      <td>0.0</td>\n",
       "      <td>0.0</td>\n",
       "      <td>0.007696</td>\n",
       "      <td>0</td>\n",
       "      <td>0</td>\n",
       "      <td>0</td>\n",
       "      <td>0</td>\n",
       "      <td>8.018636</td>\n",
       "      <td>7.031512</td>\n",
       "    </tr>\n",
       "    <tr>\n",
       "      <th>1</th>\n",
       "      <td>['110111', '110101', '110010', '001110']</td>\n",
       "      <td>55</td>\n",
       "      <td>53</td>\n",
       "      <td>50</td>\n",
       "      <td>14</td>\n",
       "      <td>87.301587</td>\n",
       "      <td>84.126984</td>\n",
       "      <td>0.793651</td>\n",
       "      <td>0.222222</td>\n",
       "      <td>0.0</td>\n",
       "      <td>0.0</td>\n",
       "      <td>0.0</td>\n",
       "      <td>0.008017</td>\n",
       "      <td>0</td>\n",
       "      <td>0</td>\n",
       "      <td>0</td>\n",
       "      <td>0</td>\n",
       "      <td>8.018868</td>\n",
       "      <td>7.017484</td>\n",
       "    </tr>\n",
       "    <tr>\n",
       "      <th>2</th>\n",
       "      <td>['110111', '111010', '110010', '000111']</td>\n",
       "      <td>55</td>\n",
       "      <td>58</td>\n",
       "      <td>50</td>\n",
       "      <td>7</td>\n",
       "      <td>87.301587</td>\n",
       "      <td>92.063492</td>\n",
       "      <td>0.793651</td>\n",
       "      <td>0.111111</td>\n",
       "      <td>0.0</td>\n",
       "      <td>0.0</td>\n",
       "      <td>0.0</td>\n",
       "      <td>0.008017</td>\n",
       "      <td>0</td>\n",
       "      <td>0</td>\n",
       "      <td>0</td>\n",
       "      <td>0</td>\n",
       "      <td>8.018868</td>\n",
       "      <td>7.015243</td>\n",
       "    </tr>\n",
       "    <tr>\n",
       "      <th>3</th>\n",
       "      <td>['110110', '111110', '110111', '010000']</td>\n",
       "      <td>54</td>\n",
       "      <td>62</td>\n",
       "      <td>55</td>\n",
       "      <td>16</td>\n",
       "      <td>85.714286</td>\n",
       "      <td>98.412698</td>\n",
       "      <td>0.873016</td>\n",
       "      <td>0.253968</td>\n",
       "      <td>0.0</td>\n",
       "      <td>0.0</td>\n",
       "      <td>0.0</td>\n",
       "      <td>0.008818</td>\n",
       "      <td>0</td>\n",
       "      <td>0</td>\n",
       "      <td>0</td>\n",
       "      <td>0</td>\n",
       "      <td>8.019448</td>\n",
       "      <td>7.018124</td>\n",
       "    </tr>\n",
       "    <tr>\n",
       "      <th>4</th>\n",
       "      <td>['111110', '101101', '110000', '011101']</td>\n",
       "      <td>62</td>\n",
       "      <td>45</td>\n",
       "      <td>48</td>\n",
       "      <td>29</td>\n",
       "      <td>98.412698</td>\n",
       "      <td>71.428571</td>\n",
       "      <td>0.761905</td>\n",
       "      <td>0.460317</td>\n",
       "      <td>0.0</td>\n",
       "      <td>0.0</td>\n",
       "      <td>0.0</td>\n",
       "      <td>0.007696</td>\n",
       "      <td>0</td>\n",
       "      <td>0</td>\n",
       "      <td>0</td>\n",
       "      <td>0</td>\n",
       "      <td>8.018636</td>\n",
       "      <td>7.022278</td>\n",
       "    </tr>\n",
       "    <tr>\n",
       "      <th>5</th>\n",
       "      <td>['111111', '010110', '111101', '000001']</td>\n",
       "      <td>63</td>\n",
       "      <td>22</td>\n",
       "      <td>61</td>\n",
       "      <td>1</td>\n",
       "      <td>100.000000</td>\n",
       "      <td>34.920635</td>\n",
       "      <td>0.968254</td>\n",
       "      <td>0.015873</td>\n",
       "      <td>0.0</td>\n",
       "      <td>0.0</td>\n",
       "      <td>0.0</td>\n",
       "      <td>0.000000</td>\n",
       "      <td>0</td>\n",
       "      <td>0</td>\n",
       "      <td>0</td>\n",
       "      <td>0</td>\n",
       "      <td>7.075484</td>\n",
       "      <td>7.013321</td>\n",
       "    </tr>\n",
       "    <tr>\n",
       "      <th>6</th>\n",
       "      <td>['111110', '110101', '111101', '100000']</td>\n",
       "      <td>62</td>\n",
       "      <td>53</td>\n",
       "      <td>61</td>\n",
       "      <td>32</td>\n",
       "      <td>98.412698</td>\n",
       "      <td>84.126984</td>\n",
       "      <td>0.968254</td>\n",
       "      <td>0.507937</td>\n",
       "      <td>0.0</td>\n",
       "      <td>0.0</td>\n",
       "      <td>0.0</td>\n",
       "      <td>0.009780</td>\n",
       "      <td>0</td>\n",
       "      <td>0</td>\n",
       "      <td>0</td>\n",
       "      <td>0</td>\n",
       "      <td>8.020142</td>\n",
       "      <td>7.023235</td>\n",
       "    </tr>\n",
       "    <tr>\n",
       "      <th>7</th>\n",
       "      <td>['111101', '110110', '111100', '011000']</td>\n",
       "      <td>61</td>\n",
       "      <td>54</td>\n",
       "      <td>60</td>\n",
       "      <td>24</td>\n",
       "      <td>96.825397</td>\n",
       "      <td>85.714286</td>\n",
       "      <td>0.952381</td>\n",
       "      <td>0.380952</td>\n",
       "      <td>0.0</td>\n",
       "      <td>0.0</td>\n",
       "      <td>0.0</td>\n",
       "      <td>0.009620</td>\n",
       "      <td>0</td>\n",
       "      <td>0</td>\n",
       "      <td>0</td>\n",
       "      <td>0</td>\n",
       "      <td>8.020026</td>\n",
       "      <td>7.020681</td>\n",
       "    </tr>\n",
       "    <tr>\n",
       "      <th>8</th>\n",
       "      <td>['111110', '101110', '111000', '100011']</td>\n",
       "      <td>62</td>\n",
       "      <td>46</td>\n",
       "      <td>56</td>\n",
       "      <td>35</td>\n",
       "      <td>98.412698</td>\n",
       "      <td>73.015873</td>\n",
       "      <td>0.888889</td>\n",
       "      <td>0.555556</td>\n",
       "      <td>0.0</td>\n",
       "      <td>0.0</td>\n",
       "      <td>0.0</td>\n",
       "      <td>0.008979</td>\n",
       "      <td>0</td>\n",
       "      <td>0</td>\n",
       "      <td>0</td>\n",
       "      <td>0</td>\n",
       "      <td>8.019564</td>\n",
       "      <td>7.024192</td>\n",
       "    </tr>\n",
       "    <tr>\n",
       "      <th>9</th>\n",
       "      <td>['111110', '101011', '111001', '010001']</td>\n",
       "      <td>62</td>\n",
       "      <td>43</td>\n",
       "      <td>57</td>\n",
       "      <td>17</td>\n",
       "      <td>98.412698</td>\n",
       "      <td>68.253968</td>\n",
       "      <td>0.904762</td>\n",
       "      <td>0.269841</td>\n",
       "      <td>0.0</td>\n",
       "      <td>0.0</td>\n",
       "      <td>0.0</td>\n",
       "      <td>0.009139</td>\n",
       "      <td>0</td>\n",
       "      <td>0</td>\n",
       "      <td>0</td>\n",
       "      <td>0</td>\n",
       "      <td>8.019679</td>\n",
       "      <td>7.018444</td>\n",
       "    </tr>\n",
       "  </tbody>\n",
       "</table>\n",
       "</div>"
      ],
      "text/plain": [
       "                                     String  Base 1 binary  Base 2 binary  \\\n",
       "0  ['111010', '110111', '110000', '111010']             58             55   \n",
       "1  ['110111', '110101', '110010', '001110']             55             53   \n",
       "2  ['110111', '111010', '110010', '000111']             55             58   \n",
       "3  ['110110', '111110', '110111', '010000']             54             62   \n",
       "4  ['111110', '101101', '110000', '011101']             62             45   \n",
       "5  ['111111', '010110', '111101', '000001']             63             22   \n",
       "6  ['111110', '110101', '111101', '100000']             62             53   \n",
       "7  ['111101', '110110', '111100', '011000']             61             54   \n",
       "8  ['111110', '101110', '111000', '100011']             62             46   \n",
       "9  ['111110', '101011', '111001', '010001']             62             43   \n",
       "\n",
       "   Base 3 binary  Base 4 binary      Base 1     Base 2    Base 3    Base 4  \\\n",
       "0             48             58   92.063492  87.301587  0.761905  0.920635   \n",
       "1             50             14   87.301587  84.126984  0.793651  0.222222   \n",
       "2             50              7   87.301587  92.063492  0.793651  0.111111   \n",
       "3             55             16   85.714286  98.412698  0.873016  0.253968   \n",
       "4             48             29   98.412698  71.428571  0.761905  0.460317   \n",
       "5             61              1  100.000000  34.920635  0.968254  0.015873   \n",
       "6             61             32   98.412698  84.126984  0.968254  0.507937   \n",
       "7             60             24   96.825397  85.714286  0.952381  0.380952   \n",
       "8             56             35   98.412698  73.015873  0.888889  0.555556   \n",
       "9             57             17   98.412698  68.253968  0.904762  0.269841   \n",
       "\n",
       "   Rule 1, y' (x=0.0)  Rule 1, y' (x=0.3)  Rule 1, y' (x=0.6)  \\\n",
       "0                 0.0                 0.0                 0.0   \n",
       "1                 0.0                 0.0                 0.0   \n",
       "2                 0.0                 0.0                 0.0   \n",
       "3                 0.0                 0.0                 0.0   \n",
       "4                 0.0                 0.0                 0.0   \n",
       "5                 0.0                 0.0                 0.0   \n",
       "6                 0.0                 0.0                 0.0   \n",
       "7                 0.0                 0.0                 0.0   \n",
       "8                 0.0                 0.0                 0.0   \n",
       "9                 0.0                 0.0                 0.0   \n",
       "\n",
       "   Rule 1, y' (x=1.0)  Rule 2, y' (x=0.0)  Rule 2, y' (x=0.3)  \\\n",
       "0            0.007696                   0                   0   \n",
       "1            0.008017                   0                   0   \n",
       "2            0.008017                   0                   0   \n",
       "3            0.008818                   0                   0   \n",
       "4            0.007696                   0                   0   \n",
       "5            0.000000                   0                   0   \n",
       "6            0.009780                   0                   0   \n",
       "7            0.009620                   0                   0   \n",
       "8            0.008979                   0                   0   \n",
       "9            0.009139                   0                   0   \n",
       "\n",
       "   Rule 2, y' (x=0.6)  Rule 2, y' (x=1.0)  Rule 1 Fitness  Rule 2 Fitness  \n",
       "0                   0                   0        8.018636        7.031512  \n",
       "1                   0                   0        8.018868        7.017484  \n",
       "2                   0                   0        8.018868        7.015243  \n",
       "3                   0                   0        8.019448        7.018124  \n",
       "4                   0                   0        8.018636        7.022278  \n",
       "5                   0                   0        7.075484        7.013321  \n",
       "6                   0                   0        8.020142        7.023235  \n",
       "7                   0                   0        8.020026        7.020681  \n",
       "8                   0                   0        8.019564        7.024192  \n",
       "9                   0                   0        8.019679        7.018444  "
      ]
     },
     "execution_count": 66,
     "metadata": {},
     "output_type": "execute_result"
    }
   ],
   "source": [
    "## iteration count\n",
    "## Note all the values of random!!!\n",
    "## Can be different in the next run\n",
    "n = 10\n",
    "\n",
    "print(f\"Found values in {n} iterations\")\n",
    "iterate_genetic_algorithm(new_population_str, n)"
   ]
  },
  {
   "cell_type": "markdown",
   "id": "279dd8c9",
   "metadata": {},
   "source": [
    "## Possibility Distribution"
   ]
  },
  {
   "cell_type": "markdown",
   "id": "7a406b8d",
   "metadata": {},
   "source": [
    "### Q9\n",
    "Answer to the question 2 of chapter 8 Zimmerman book. "
   ]
  },
  {
   "cell_type": "markdown",
   "id": "20fa4e6b",
   "metadata": {},
   "source": [
    "Define a probability distribution for \"cars drive X mph on American freeways.\"\n",
    "\n",
    "If we define the mean to $80$, meaning that the most cars in freeways are driven with the speed of the $80 \\; mph$, We can define a gaussian function with $\\mu=80$ for the probability and if the highest and lowest speeds are $100$ and $60$ miles per hour the $\\sigma$ can be $20$. So the Probability can be defined as\n",
    "\\begin{equation}\n",
    "P(x) = \\frac{1}{\\sqrt{2\\pi}\\sigma} exp\\Big(-\\frac{1}{2}\\big(\\frac{x-80}{20}\\big)^2\\Big)\n",
    "\\end{equation}\n",
    "\n",
    "And having the facts we've defined above for probability distribution we can define a triangular fuzzy number for the possiblity distribution.\n",
    "\\begin{equation}\n",
    "\\pi(x) = Triangular(80, 60, 100)\n",
    "\\end{equation}\n",
    "Note that if we want to describe possiblity distribution with strong consistency principal we shouldn't use the triangular density function above, and instead we could defind the function below\n",
    "\\begin{equation}\n",
    "\\pi(x) = \\begin{cases}\n",
    "0 \\text{ For  }abs(x)=\\inf  \\\\\n",
    "1 \\text{ Otherwise}  \n",
    "\\end{cases}\n",
    "\\end{equation}"
   ]
  },
  {
   "cell_type": "code",
   "execution_count": 67,
   "id": "6c2a8adb",
   "metadata": {},
   "outputs": [
    {
     "data": {
      "image/png": "[encoded data removed]",
      "text/plain": [
       "<Figure size 432x288 with 1 Axes>"
      ]
     },
     "metadata": {
      "needs_background": "light"
     },
     "output_type": "display_data"
    }
   ],
   "source": [
    "### Let's just plot the distirbutions\n",
    "\n",
    "##### Parameters\n",
    "Mu = 80\n",
    "sigma = 20\n",
    "\n",
    "############### Probability\n",
    "X = np.linspace(10, 160, 100)\n",
    "Y = gaussian(X, sigma, Mu)\n",
    "plt.plot(X, Y)\n",
    "plt.show()"
   ]
  },
  {
   "cell_type": "code",
   "execution_count": 68,
   "id": "b3906980",
   "metadata": {},
   "outputs": [
    {
     "data": {
      "image/png": "[encoded data removed]",
      "text/plain": [
       "<Figure size 432x288 with 1 Axes>"
      ]
     },
     "metadata": {
      "needs_background": "light"
     },
     "output_type": "display_data"
    }
   ],
   "source": [
    "############# Possiblity distribution\n",
    "def triangular_fuzzy(X, Mu, left, right):\n",
    "    \"\"\"\n",
    "    Triangular fuzzy number\n",
    "    \n",
    "    Parameters:\n",
    "    -----------\n",
    "    X : array\n",
    "        the input range, can be an array of floating points\n",
    "    Mu : integer or float\n",
    "        the mean of the fuzzy number\n",
    "    left : integer or float\n",
    "        left expansion of the fuzzy number\n",
    "    right : integer or float\n",
    "        right expansion of the fuzzy number\n",
    "    \"\"\"\n",
    "    ## apply the left expansion on all the input\n",
    "    ## then using np.where apply the right expansion to the data\n",
    "    \n",
    "    ## Apply the right expansion in the first condition\n",
    "    ## and apply the left expansion in the left condition\n",
    "    Y = np.where(X > Mu, (right - X) / (right - Mu) ,(X - left) / (Mu - left))\n",
    "    ## zero the negative numbers\n",
    "    Y = np.where(Y < 0, 0, Y)\n",
    "    \n",
    "    return Y\n",
    "\n",
    "#### Parameters\n",
    "Mu = 80\n",
    "right = 100\n",
    "left = 60\n",
    "\n",
    "#### Plot the possiblity distribution\n",
    "X = np.linspace(10, 160, 100)\n",
    "Y = triangular_fuzzy(X, Mu, left, right)\n",
    "plt.plot(X, Y)\n",
    "plt.show()"
   ]
  },
  {
   "cell_type": "markdown",
   "id": "c1a1aaf2",
   "metadata": {},
   "source": [
    "### Q10\n",
    "Answer to the question 3 of chapter 8 of Zimmerman book.\n",
    "\n",
    "To find the possibility measures we should find the suprimum of the minimum values of $\\mu_{\\tilde{A}}(u), \\pi_x{u}$  "
   ]
  },
  {
   "cell_type": "markdown",
   "id": "17b225c3",
   "metadata": {},
   "source": [
    "So because values for $A$ given in range(6, 14) the answers can be\n",
    "\\begin{equation}\n",
    "\\pi_{\\tilde{A}} = \\{(8, .6), (9, .8), (10, 1),(1 1, .8), (12, .6)\\}\n",
    "\\end{equation}\n",
    "suprimum of the minimum values will be \n",
    "\\begin{equation}\n",
    "\\text{possiblity} = max(.6, 0.8, 1, 0.8, 0.6) = \\color{green}1\n",
    "\\end{equation}\n",
    "\\begin{equation}\n",
    "\\pi_{\\tilde{B}} = {(6, .4), (7, .5), (8, .6), (9, .8), (10,1),(11,.8), (12, .6), (13,.5), (14, .4)}\n",
    "\\end{equation}\n",
    "And for $\\tilde{B}$:\n",
    "\\begin{equation}\n",
    "\\text{possiblity} = max(0.4, 0.5, 0.6, 0.8, 1, 0.8, 0.6, 0.5, 0.4) = \\color{green}1\n",
    "\\end{equation}\n",
    "\n",
    "To discuss the values we can say that both possibilities for $\\tilde{A}$ and $\\tilde{B}$ is 1, meaning that they can happen with a probability."
   ]
  },
  {
   "cell_type": "markdown",
   "id": "0d23f057",
   "metadata": {},
   "source": [
    "### Q11"
   ]
  },
  {
   "cell_type": "markdown",
   "id": "b9e45fbd",
   "metadata": {},
   "source": [
    "Answer to the question 4 of chapter 4 of the Zimmerman book."
   ]
  },
  {
   "cell_type": "markdown",
   "id": "2b25fc43",
   "metadata": {},
   "source": [
    "Considering Example 4-1, we can answer find the probabilities of $A_1, A_2$ and $A_3$ via the equation below\n",
    "\\begin{equation}\n",
    "\\text{for }A \\subseteq X \\rightarrow \\pi(A) = sup(\\{x\\})\n",
    "\\end{equation}"
   ]
  },
  {
   "cell_type": "markdown",
   "id": "4356c7a6",
   "metadata": {},
   "source": [
    "And given $A_1, A_2$ and $A_3$ are as below:\n",
    "\\begin{equation}\n",
    "A_1 = \\{1, 2, 3,4,5, 6\\} \\\\\n",
    "A_2=\\{1, 5, 8, 9\\} \\\\ \n",
    "A3=\\{7, 9\\}\n",
    "\\end{equation}\n",
    "We can find the possiblity of them in the equations below"
   ]
  },
  {
   "cell_type": "markdown",
   "id": "0ba642e7",
   "metadata": {},
   "source": [
    "\\begin{equation}\n",
    "\\text{possiblity}(A_1) = \\pi(A_1) = sup(\\pi(1), \\pi(2), \\pi(3), \\pi(4), \\pi(5), \\pi(6)) = sup\\{0, 0, 0, 0, 0.1, 0.5\\} = \\color{green}{0.5} \\\\\n",
    "\\text{possiblity}(A_2) = \\pi(A_1) = sup(\\pi(1), \\pi(5), \\pi(8), \\pi(9)) = sup\\{0, 0.1, 1, 0.8\\} = \\color{green}1 \\\\\n",
    "\\text{possiblity}(A_3) = \\pi(A_1) = sup(\\pi(7), \\pi(9)) = sup\\{0.8, 0.8\\} = \\color{green}{0.8}\n",
    "\\end{equation}"
   ]
  },
  {
   "cell_type": "markdown",
   "id": "a8bd7860",
   "metadata": {},
   "source": [
    "### Q12\n",
    "Answer the question 5 of chapter 8 in Zimmerman book."
   ]
  },
  {
   "attachments": {
    "image-2.png": {
     "image/png": "[encoded data removed]"
    },
    "image.png": {
     "image/png": "[encoded data removed]"
    }
   },
   "cell_type": "markdown",
   "id": "3145a9d5",
   "metadata": {},
   "source": [
    "To define the Yager's probablity of a fuzzy event for question 10 here, we need to first have a look at what it was.\n",
    "\\begin{equation}\n",
    "P(A_\\alpha) = \\frac{\\sum_{x \\in A_{\\alpha}} P(x)}{\\sum_{x \\in A} P(x)}\n",
    "\\end{equation}\n",
    "So we can find out that for any $\\alpha$ cut of the set $A$, we can compute its probability with summing the probabilities of each item in $\\alpha$ cut.\n",
    "\n",
    "first to find the probability of each item having the universe set $A$ in mind we can assign $\\frac{1}{9}$ for each item probability.\n",
    "\\begin{equation}\n",
    "A = \\{6, 7, . . . , 13, 14\\}\n",
    "\\end{equation}\n",
    "And having $\\pi_{\\tilde{A}}$ in mind the question's answer will goes as follows\n",
    "![image.png](attachment:image.png)\n",
    "\n",
    "The complement of $\\tilde{A}$ will be\n",
    "\\begin{equation}\n",
    "\\pi_{C\\tilde{A}} = \\{(6,1), (7,1), (8,0.4),(9, 0.2),(11, 0.2),(12, 0.4), (13, 1), (14, 1)\\}\n",
    "\\end{equation}\n",
    "And so for $\\pi_{C\\tilde{A}}$\n",
    "![image-2.png](attachment:image-2.png)\n",
    "\n",
    "So using yager's probability definition, our answer will be the intersection of $\\pi_{\\tilde{A}}$ and $\\pi_{C\\tilde{A}}$ \n",
    "\n",
    "\\begin{equation}\n",
    "probability = \\begin{cases}\n",
    "0 \\text{ for } w \\in [0, \\frac{4}{9}] \\\\\n",
    "0.6 \\text{ for } w \\in [\\frac{4}{9}, \\frac{5}{9}] \\\\\n",
    "0 \\text{ for } w \\in [\\frac{5}{9}, 1] \\\\\n",
    "\\end{cases}\n",
    "\\end{equation}"
   ]
  },
  {
   "cell_type": "markdown",
   "id": "744326d9",
   "metadata": {},
   "source": [
    "## Extended operations on fuzzy numbers"
   ]
  },
  {
   "cell_type": "markdown",
   "id": "09e8ebfb",
   "metadata": {},
   "source": [
    "### Q13\n",
    "Answer to the question 5, chapter 5 of Zimmerman book."
   ]
  },
  {
   "cell_type": "markdown",
   "id": "9db35124",
   "metadata": {},
   "source": [
    "In this question using the values of $\\tilde{M}, L(x), R(x)$ in example 5-8, and having $\\tilde{N} = (-4, .1, .6)_{LR}$, find the answer of $\\tilde{M} \\ominus \\tilde{N}$."
   ]
  },
  {
   "cell_type": "markdown",
   "id": "c4c756c2",
   "metadata": {},
   "source": [
    "First we recall the values in example 5-8.\n",
    "\\begin{equation}\n",
    "L(x) = R(x) = \\frac{1}{1+x^2} \\\\\n",
    "\\tilde{M} = (1, .5, .8)_{LR} \n",
    "\\end{equation}"
   ]
  },
  {
   "cell_type": "markdown",
   "id": "1d6d8dce",
   "metadata": {},
   "source": [
    "Then it's easy to answer the question. We know from the extended subtraction that we first need to apply opposite of $\\tilde{N}$, then use extended sum to answer the question. So\n",
    "\\begin{equation}\n",
    "\\tilde{M} \\ominus \\tilde{N} = \\tilde{M} \\oplus (\\ominus \\tilde{N}) \\\\ (1, 0.5, 0.8)_{LR} \\oplus (\\ominus (-4, 0.1, 0.6)_{LR} \\\\\n",
    "(1, 0.5, 0.8)_{LR} \\oplus (4, 0.6, 0.1)_{LR} \\\\\n",
    "\\color{green}{(5, 1.1, 0.9)_{LR}}\n",
    "\\end{equation}"
   ]
  },
  {
   "cell_type": "markdown",
   "id": "80a09d45",
   "metadata": {},
   "source": [
    "### Q14\n",
    "Answer to the question 6, chapter 5 of Zimmerman book."
   ]
  },
  {
   "cell_type": "markdown",
   "id": "2c2644e3",
   "metadata": {},
   "source": [
    "For this question, We need to find $\\tilde{M} \\odot \\tilde{N}$ and values for $\\tilde{M}$ and $\\tilde{N}$ are given in example 5-8 as below\n",
    "\\begin{equation}\n",
    "L(x) = R(x) = \\frac{1}{1+x^2} \\\\\n",
    "\\tilde{M} = (1, .5, .8)_{LR} \\\\\n",
    "\\tilde{N} = (2, .6, .2)_{LR}\n",
    "\\end{equation}"
   ]
  },
  {
   "cell_type": "markdown",
   "id": "b53535c3",
   "metadata": {},
   "source": [
    "First we recall the equation for extended product\n",
    "\\begin{equation}\n",
    "(n, \\alpha, \\beta) \\odot (m, \\gamma, \\delta) = (mn, m\\alpha + n\\gamma, m\\beta + n\\delta)\n",
    "\\end{equation}\n",
    "So using the answer can be written as\n",
    "\\begin{equation}\n",
    "\\tilde{M} \\odot \\tilde{N} = (1, 0.5, 0.8) \\odot (2, 0.6, 0.2) = (2, 0.6 + 2 \\times 0.5, 0.2 + 2 \\times 0.8 ) = \\color{green}{(2, 1.6, 1.8)} \n",
    "\\end{equation}"
   ]
  },
  {
   "cell_type": "markdown",
   "id": "eb0a83f8",
   "metadata": {},
   "source": [
    "## Fuzzy Clustering"
   ]
  },
  {
   "cell_type": "markdown",
   "id": "03de2e43",
   "metadata": {},
   "source": [
    "### Q15\n",
    "Answer to the question 7, chapter 13 of Zimmerman book."
   ]
  },
  {
   "cell_type": "markdown",
   "id": "abf67285",
   "metadata": {},
   "source": [
    "In this question, three possible fuzzy three-partitions for dataset $X=\\{x_1, x_2, x_3, x_4, x_5\\}$ is requested.\n",
    "\n",
    "The answer can be a matrix whose sum each column must be 1, So we can write 3 possible matrixes for fuzzy 3-partition clustering\n",
    "\n",
    "\\begin{equation}\n",
    "U_1 = \\begin{bmatrix}\n",
    "0.3 & 0.5 & 0.1 & 0.25 & 0.07\\\\\n",
    "0.2 & 0.1 & 0.3 & 0.35 & 0.08\\\\\n",
    "0.5 & 0.4 & 0.6 & 0.4 & 0.85\n",
    "\\end{bmatrix},\n",
    "U_2 = \\begin{bmatrix}\n",
    "0.1 & 0.35 & 0.15 & 0.9 & 0.45\\\\\n",
    "0.4 & 0.15 & 0.25 & 0.05 & 0.05\\\\\n",
    "0.5 & 0.5 & 0.6 & 0.05 & 0.05\n",
    "\\end{bmatrix}, \\\\\n",
    "U_3 = \\begin{bmatrix}\n",
    "0.4 & 0.01 & 0.12 & 0.18 & 0.55\\\\\n",
    "0.6 & 0.9 & 0.28 & 0.17 & 0.35\\\\\n",
    "0.0 & 0.09 & 0.6 & 0.65 & 0.1\n",
    "\\end{bmatrix}\n",
    "\\end{equation}"
   ]
  },
  {
   "cell_type": "markdown",
   "id": "e9fd5098",
   "metadata": {},
   "source": [
    "### Q16\n",
    "Answer to the question 8, chapter 13 of Zimmerman book."
   ]
  },
  {
   "cell_type": "markdown",
   "id": "0054379a",
   "metadata": {},
   "source": [
    "In this question, a set of $X$ is given and (a) finding a 3 crisp partition that groups $(1, 3)$ and $(10, 3)$ together w.r.t minimizing Euclidean norm is requested. For (b) Doing the same procedure but minimizing the variance is needed.\n",
    "\\begin{equation}\n",
    "X = \\{(1, 1), (1, 3), (10, 1), (10, 3), (5, 2)\\}\n",
    "\\end{equation}"
   ]
  },
  {
   "cell_type": "markdown",
   "id": "46c16bf8",
   "metadata": {},
   "source": [
    "#### Part a"
   ]
  },
  {
   "cell_type": "markdown",
   "id": "f8f50696",
   "metadata": {},
   "source": [
    "To group two set of values $(1, 3)$ and $(10, 3)$, we cannot use euclidean distance measure for both features $x_1$ and $x_2$ because the euclidean distance of the values $(1, 3)$ and $(10, 3)$ is $\\sqrt{(1-10)^2 + (3-3)^2} = 9$. So it's a big value and the points cannot be grouped together. \n",
    "\n",
    "If we notice the second feature subtraction we can find out that using just the second feature can help us group together $(1, 3)$ and $(10, 3)$ using euclidean distance. So the procedure will goes as below\n",
    "\n",
    "Grouping of $(1, 3)$ and $(10, 3)$ \n",
    "\\begin{equation}\n",
    "euclidean = \\sqrt{(3-3)^2} = 0 \n",
    "\\end{equation}\n",
    "Grouping $(1,1)$ and $(10, 1)$\n",
    "\\begin{equation}\n",
    "euclidean = \\sqrt{(1-1)^2} = 0 \n",
    "\\end{equation}\n",
    "And just $(5, 2)$ is left as another partition. So using the second feature can help us group the $X$ set and represent us a perfect euclidean score of zero."
   ]
  },
  {
   "cell_type": "markdown",
   "id": "02a755a0",
   "metadata": {},
   "source": [
    "#### Part b"
   ]
  },
  {
   "cell_type": "markdown",
   "id": "c967e6d9",
   "metadata": {},
   "source": [
    "To minimize the variance we must first see how variance equation works. Variance shows us the sum of differences from mean value, so the equation will be as below\n",
    "\\begin{equation}\n",
    "Var(x) = \\frac{\\sum_{i=0}^{n} (x_i - \\bar{x})^2}{n}\n",
    "\\end{equation}"
   ]
  },
  {
   "cell_type": "markdown",
   "id": "9ab55ea7",
   "metadata": {},
   "source": [
    "So we first find the mean values as below\n",
    "\\begin{equation}\n",
    "\\bar{x_1} = \\frac{1+1+10+10+5}{5} = 5.4 \\\\\n",
    "\\bar{x_2} = \\frac{1+3+1+3+2}{5} = 2\n",
    "\\end{equation}\n",
    "So using the mean values of $x_1$ and $x_2$, we first try the method in part a to see does it works as before or not."
   ]
  },
  {
   "cell_type": "code",
   "execution_count": 69,
   "id": "3182e85f",
   "metadata": {},
   "outputs": [
    {
     "data": {
      "text/plain": [
       "(20.259999999999998, 1.0)"
      ]
     },
     "execution_count": 69,
     "metadata": {},
     "output_type": "execute_result"
    }
   ],
   "source": [
    "## the variance of (1, 3) and (10, 3)\n",
    "((1-5.4)**2 + (10-5.4)**2)/2, ((3-2)**2 + (3-2)**2)/2, "
   ]
  },
  {
   "cell_type": "code",
   "execution_count": 70,
   "id": "cc29cbc1",
   "metadata": {},
   "outputs": [
    {
     "data": {
      "text/plain": [
       "(20.259999999999998, 1.0)"
      ]
     },
     "execution_count": 70,
     "metadata": {},
     "output_type": "execute_result"
    }
   ],
   "source": [
    "## the variance of (1, 1) and (10, 1)\n",
    "((1-5.4)**2 + (10-5.4)**2)/2, ((1-2)**2 + (1-2)**2)/2, "
   ]
  },
  {
   "cell_type": "code",
   "execution_count": 71,
   "id": "5de1e8f1",
   "metadata": {},
   "outputs": [
    {
     "data": {
      "text/plain": [
       "(0.16000000000000028, 0.0)"
      ]
     },
     "execution_count": 71,
     "metadata": {},
     "output_type": "execute_result"
    }
   ],
   "source": [
    "## the variance of (5, 2)\n",
    "((5-5.4)**2)/1, (2-2)**2/1"
   ]
  },
  {
   "cell_type": "markdown",
   "id": "1294155b",
   "metadata": {},
   "source": [
    "We've calculated the variances above and it is obvious that choosing the second features as in part a can minimize the variances for us. So we would stick to the solution in part (a)"
   ]
  },
  {
   "cell_type": "markdown",
   "id": "ff1dee31",
   "metadata": {},
   "source": [
    "### Q17\n",
    "Answer the question 9, chapter 13 of Zimmerman book."
   ]
  },
  {
   "attachments": {
    "image.png": {
     "image/png": "[encoded data removed]"
    }
   },
   "cell_type": "markdown",
   "id": "db0a918b",
   "metadata": {},
   "source": [
    "This question wants us to find the cluster validity of figures 13-11 and 13-12 using partition coefficient and partition entropy.\n",
    "\n",
    "First we have to take a look at the figures 13-11 and 13-12.\n",
    "![image.png](attachment:image.png)\n",
    "Then the equation for partition coefficient is\n",
    "\\begin{equation}\n",
    "F(\\tilde{U}, c) = \\sum_{k=1}^{n} \\sum_{i=1}^{c} \\frac{(\\mu_{ik})^2}{n}\n",
    "\\end{equation}\n",
    "And partition entropy is\n",
    "\\begin{equation}\n",
    "H(\\tilde{U}, c) = -\\frac{1}{n} \\sum_{k=1}^{n} \\sum_{i=1}^{c} \\mu_{ik} log_e(\\mu_{ik})\n",
    "\\end{equation}"
   ]
  },
  {
   "cell_type": "markdown",
   "id": "6fdc99f3",
   "metadata": {},
   "source": [
    "For Figure 13-11 the partition coefficient and entropy will be calculated as\n",
    "\\begin{equation}\n",
    "F(\\tilde{U}, c) = \\frac{(.99)^2 + (.99)^2 + 1^2 + 1^2 + 1^2 + 1^2 + (.99)^2 + (.47)^2 + (.01)^2 + (0)^2 + (0)^2 + (0)^2 + (.01)^2 + (.01)^2 + 0^2}{15}\n",
    "\\end{equation}\n",
    "And the entropy will be as (we simplified the equation)\n",
    "\\begin{equation}\n",
    "H(\\tilde{U}, c) = -\\frac{1}{15} \\big(3 \\times 0.99 log_e 0.99 + 4 \\times 1 log_e 1 + 0.47 log_e 0.47 + 3 \\times 0.01 log_e 0.01 + 4 \\times 0 log_e 0\\big)\n",
    "\\end{equation}"
   ]
  },
  {
   "cell_type": "code",
   "execution_count": 72,
   "id": "f0c54624",
   "metadata": {},
   "outputs": [
    {
     "name": "stdout",
     "output_type": "stream",
     "text": [
      "Figure 13-11: Partition Coefficient 0.4774333333333333\n",
      "Figure 13-11: Partition Entropy 0.03485768117834783\n"
     ]
    }
   ],
   "source": [
    "## the results is\n",
    "def power_2(value):\n",
    "    \"\"\"\n",
    "    find the power 2 of the value\n",
    "    \"\"\"\n",
    "    return value ** 2\n",
    "\n",
    "def entropy(value):\n",
    "    \"\"\"\n",
    "    return the entropy of the value\n",
    "    \"\"\"\n",
    "    return value * np.log(value)\n",
    "\n",
    "## partition coefficient\n",
    "F = 3 * power_2(0.99) + 4 * power_2(1) + power_2(0.47) + 3 * power_2(0.01)\n",
    "F = F / 15\n",
    "## entropy\n",
    "H = 3 * entropy(0.99) + 4 * entropy(1) + entropy(0.47) + 3 * entropy(0.01)\n",
    "H = H / -15\n",
    "\n",
    "print(\"Figure 13-11: Partition Coefficient\", F)\n",
    "print(\"Figure 13-11: Partition Entropy\", H)"
   ]
  },
  {
   "cell_type": "markdown",
   "id": "cb8bba39",
   "metadata": {},
   "source": [
    "And for figure 13-12 the calculations are as\n",
    "\n",
    "Partition Coefficient:\n",
    "\\begin{equation}\n",
    "F(\\tilde{U}, c) = \\\\ \\frac{(.86)^2 + (.97)^2 + (.86)^2 + (.94)^2 + (.99)^2 + (.94)^2 + (.88)^2 + (.50)^2 + (.12)^2 + (0.06)^2 + (0.01)^2 + (0.06)^2 + (.14)^2 + (.03)^2 + (0.14)^2}{15}\n",
    "\\end{equation}\n",
    "Entropy:\n",
    "\\begin{equation}\n",
    "H(\\tilde{U}, c) = -\\frac{1}{15} \\big(2 \\times 0.86 log_e 0.86 + 0.97 log_e 0.97 + 2 \\times 0.94 log_e 0.94 + 0.99 log_e 0.99 + 0.88 log_e 0.88 + 0.50 log_e 0.50 + 0.12 log_e 0.12 + 2 \\times 0.06 log_e 0.06 + 0.01 log_e 0.01 + 2 \\times 0.14 log_e 0.14 + 0.03 log_e 0.03 \\big)\n",
    "\\end{equation}"
   ]
  },
  {
   "cell_type": "code",
   "execution_count": 73,
   "id": "727ef140",
   "metadata": {},
   "outputs": [
    {
     "name": "stdout",
     "output_type": "stream",
     "text": [
      "Figure 13-12: Partition Coefficient 0.41690666666666665\n",
      "Figure 13-12: Partition Entropy 0.1445402866144255\n"
     ]
    }
   ],
   "source": [
    "## partition coefficient\n",
    "## because the equation was long we divided into three parts\n",
    "F = 2 * power_2(0.86) + power_2(0.97) + 2 * power_2(0.94) + power_2(0.99)\n",
    "F += power_2(0.88) + power_2(0.5) + power_2(0.12) + 2 * power_2(0.06) \n",
    "F += power_2(0.01) + 2 * power_2(0.14) + power_2(0.03)\n",
    "\n",
    "F = F / 15\n",
    "\n",
    "## entropy\n",
    "## it is divided in two parts to avoid long length expressions\n",
    "H = 2 * entropy(0.86) + entropy(0.97) + 2 * entropy(0.94) + entropy(0.99) + entropy(0.88)\n",
    "H += entropy(0.5) + entropy(0.12) + 2 * entropy(0.06) + entropy(0.01) + 2 * entropy(0.14) + entropy(0.03) \n",
    "H = H / -15\n",
    "\n",
    "print(\"Figure 13-12: Partition Coefficient\", F)\n",
    "print(\"Figure 13-12: Partition Entropy\", H)"
   ]
  },
  {
   "cell_type": "markdown",
   "id": "61cb5215",
   "metadata": {},
   "source": [
    "### Q18\n",
    "Answer the question 1, chapter 10 of Ross book."
   ]
  },
  {
   "attachments": {
    "image.png": {
     "image/png": "[encoded data removed]"
    }
   },
   "cell_type": "markdown",
   "id": "8365123c",
   "metadata": {},
   "source": [
    "Using the table given below, And creating $\\alpha$-cut$=0.5$, find how many clusters we could have? (Use max-min operator to first generate fuzzy similarity in $\\tilde{R}$)\n",
    "![image.png](attachment:image.png)"
   ]
  },
  {
   "cell_type": "code",
   "execution_count": 74,
   "id": "02e6c0a0",
   "metadata": {},
   "outputs": [],
   "source": [
    "def fuzzy_max_min(relation1, relation2):\n",
    "    \"\"\"\n",
    "    apply fuzzy max-min on two relations\n",
    "    \n",
    "    Parameters:\n",
    "    -----------\n",
    "    relation1 : matrix_like\n",
    "        the relation matrix containing fuzzy values\n",
    "    relation2 : matrix_like\n",
    "        the relation matrix containing fuzzy values\n",
    "    \n",
    "    Returns:\n",
    "    ---------\n",
    "    result_relation : matrix_like\n",
    "        the result of max-min composition on relation1 and relation2\n",
    "    \"\"\"\n",
    "    assert relation1.shape[1] == relation2.shape[0], 'Error: Relation shapes must match!'\n",
    "    \n",
    "    ## initialize an empty array with None values\n",
    "    result_relation = np.full((relation1.shape[0], relation2.shape[1]), None)\n",
    "\n",
    "    for i in range(relation1.shape[0]):\n",
    "        for j in range(relation2.shape[1]):\n",
    "            values = np.minimum(relation1[i], relation2[:, j].T)\n",
    "            \n",
    "            result_relation[i, j] = np.max(values)\n",
    "    \n",
    "    return result_relation"
   ]
  },
  {
   "cell_type": "code",
   "execution_count": 75,
   "id": "08acc2ad",
   "metadata": {},
   "outputs": [
    {
     "data": {
      "text/plain": [
       "matrix([[0.4, 0.1, 0.3, 0.8],\n",
       "        [0.2, 0.7, 0.2, 0.1],\n",
       "        [0.4, 0.2, 0.5, 0.1]])"
      ]
     },
     "execution_count": 75,
     "metadata": {},
     "output_type": "execute_result"
    }
   ],
   "source": [
    "table = np.matrix('.4 .1 .3 .8; .2 .7 .2 .1; .4 .2 .5 .1')\n",
    "table"
   ]
  },
  {
   "cell_type": "code",
   "execution_count": 76,
   "id": "c04c0a90",
   "metadata": {},
   "outputs": [
    {
     "data": {
      "text/plain": [
       "array([[0.8, 0.2, 0.4],\n",
       "       [0.2, 0.7, 0.2],\n",
       "       [0.4, 0.2, 0.5]], dtype=object)"
      ]
     },
     "execution_count": 76,
     "metadata": {},
     "output_type": "execute_result"
    }
   ],
   "source": [
    "table_relation = fuzzy_max_min(table, table.T)\n",
    "table_relation"
   ]
  },
  {
   "cell_type": "markdown",
   "id": "f732dfb9",
   "metadata": {},
   "source": [
    "So the $\\tilde{R}$ is now created and for $\\alpha$-cut$=0.5$ we can find the matrix below."
   ]
  },
  {
   "cell_type": "code",
   "execution_count": 77,
   "id": "4638c4ca",
   "metadata": {},
   "outputs": [
    {
     "data": {
      "text/plain": [
       "array([[1, 0, 0],\n",
       "       [0, 1, 0],\n",
       "       [0, 0, 1]])"
      ]
     },
     "execution_count": 77,
     "metadata": {},
     "output_type": "execute_result"
    }
   ],
   "source": [
    "## weak alpha cut is used\n",
    "(table_relation >= 0.5).astype(np.int32)"
   ]
  },
  {
   "cell_type": "markdown",
   "id": "64cc0f18",
   "metadata": {},
   "source": [
    "In the relation above we can see that three clusters are apeared and the patterns are divided into:\n",
    "\\begin{equation}\n",
    "Cluster_1 = \\{a\\} \\\\ Cluster_2 = \\{b\\} \\\\ Cluster_3 = \\{c\\}\n",
    "\\end{equation}"
   ]
  },
  {
   "cell_type": "markdown",
   "id": "b6f3f831",
   "metadata": {},
   "source": [
    "### Q19\n",
    "Answer question 4, chapter 10 of Ross book."
   ]
  },
  {
   "cell_type": "markdown",
   "id": "2e5e0e66",
   "metadata": {},
   "source": [
    "In this question 7 values are given and using a $\\tilde{U}^0$ as an initiali reference function, we need to apply a fuzzy clustering. ($m^{'}=2.0$ and $\\epsilon_L \\leq 0.01$)"
   ]
  },
  {
   "cell_type": "markdown",
   "id": "d8797693",
   "metadata": {},
   "source": [
    "\\begin{equation}\n",
    "Dataset = \\begin{pmatrix}\n",
    "x_1 \\\\ x_2\n",
    "\\end{pmatrix} =\n",
    "\\begin{pmatrix}\n",
    "2 & 9 & 9 & 5 & 8 & 5 & 6 \\\\\n",
    "7& 3 & 4 & 6 & 8 & 11 & 1\n",
    "\\end{pmatrix} \\\\\n",
    "\\tilde{U}^0 = \\begin{pmatrix}\n",
    "0 & 0 & 0 & 0 & 0 & 0 & 1 \\\\\n",
    "1 & 1 & 1 & 1 & 1 & 1 & 0\n",
    "\\end{pmatrix}\n",
    "\\end{equation}\n",
    "Note: $\\tilde{U}^0$ given in the question was wrong (it has 8 columns), So because of that we changed it to 7 columns to match the dataset size."
   ]
  },
  {
   "cell_type": "markdown",
   "id": "c321e617",
   "metadata": {},
   "source": [
    "First let's recall the equations needed for this exercise.\n",
    "\\begin{equation}\n",
    "V_i = \\frac{1}{\\sum_{k=1}^n \\mu_{ik}^m} \\sum_{k=1}^n \\mu_{ik}^m x_k \\text{,     For i=1,..., c} \\\\\n",
    "\\mu_{ik} = \\frac{\\big(\\frac{1}{||x_k - v_i||_G^2} \\big)^{1/(m-1)}}{ \\sum_{j=1}^c \\big(\\frac{1}{||x_k - v_j||_G^2} \\big)^{1/(m-1)}} \\text{,     For i=1,..., c; k=1,..., n}\n",
    "\\end{equation}"
   ]
  },
  {
   "cell_type": "code",
   "execution_count": 78,
   "id": "5d9f40d8",
   "metadata": {},
   "outputs": [
    {
     "data": {
      "text/plain": [
       "((7, 2), (7, 2))"
      ]
     },
     "execution_count": 78,
     "metadata": {},
     "output_type": "execute_result"
    }
   ],
   "source": [
    "## we define the given U reference function as our initial mu_ik\n",
    "U = np.matrix('0 0 0 0 0 0 1; 1 1 1 1 1 1 0').T\n",
    "## rename U to match the notation of Zimmerman book and our equations\n",
    "mu = U.astype(np.float32)\n",
    "\n",
    "dataset = np.matrix('2 9 9 5 8 5 6; 7 3 4 6 8 11 1').T\n",
    "\n",
    "dataset.shape, U.shape"
   ]
  },
  {
   "cell_type": "code",
   "execution_count": 79,
   "id": "8add06df",
   "metadata": {},
   "outputs": [],
   "source": [
    "## the parameter for C-means\n",
    "m = 2"
   ]
  },
  {
   "cell_type": "code",
   "execution_count": 80,
   "id": "503e8e72",
   "metadata": {},
   "outputs": [],
   "source": [
    "def find_cluster_center(mu, x, m):\n",
    "    \"\"\"\n",
    "    Find the cluster center for Fuzzy C-means or crisp K-means method\n",
    "    depend on `mu` this function can either work for crisp K-means and Fuzzy C-means\n",
    "    \n",
    "    Parameters:\n",
    "    ------------\n",
    "    mu : 2D array\n",
    "        reference matrix that represents the membership of each data to each cluster\n",
    "    x : 2D array\n",
    "        input data that have x and y coordinates\n",
    "        \n",
    "    Returns:\n",
    "    ---------\n",
    "    center : array\n",
    "        center representing the center value for x and y data\n",
    "    \"\"\"\n",
    "    with np.errstate(divide='ignore'):\n",
    "        division = np.divide(1, np.sum(np.power(mu, m), axis=0))\n",
    "        ## check the 1 divided by 0 values and change it to 0\n",
    "        division = np.where(division == np.inf, 0, division)\n",
    "        \n",
    "        center = 0.0\n",
    "        for i in range(len(mu)):\n",
    "            center += np.power(mu[i], m).item() * x[i]\n",
    "        \n",
    "        center = np.multiply(division, center)\n",
    "#             center = np.multiply(division, np.sum(np.multiply(np.power(mu, m), x) ,axis=0))\n",
    "\n",
    "    return center\n",
    "\n",
    "def find_reference_matrix(v_correspond, v, x, m):\n",
    "    \"\"\"\n",
    "    Find the cluster reference matrix for for Fuzzy C-means or crisp K-means method\n",
    "    depend on `v` this function can either work for crisp K-means and Fuzzy C-means\n",
    "    \n",
    "    \n",
    "    Parameters:\n",
    "    ------------\n",
    "    v_correspond : array\n",
    "        centers of belonging x to the cluster\n",
    "    v : 2D array\n",
    "        center of the all clusters\n",
    "    x : 2D array\n",
    "        input data that have x and y coordinates\n",
    "    m : float bigger than 1\n",
    "        parameter for the function\n",
    "    \n",
    "    Returns:\n",
    "    ---------\n",
    "    reference_matrix : array\n",
    "        newly created reference array for one data\n",
    "    \"\"\"\n",
    "    if m <= 1:\n",
    "        raise ValueError(\"V cannot be less equal than 1!\")\n",
    "    with np.errstate(divide='ignore', invalid= 'ignore'):\n",
    "        ## above and below of the division\n",
    "        above = np.power(np.divide(1, np.linalg.norm(x - v_correspond)), 1/ (m-1))\n",
    "        ## change infinity values to zero\n",
    "        above = np.where(above == np.inf, 0, above)\n",
    "\n",
    "        below = 0\n",
    "        for center in v:\n",
    "            below += np.power(np.divide(1, np.linalg.norm(x - center)), 1 / (m-1))\n",
    "            ## change infinity values to zero\n",
    "            below = np.where(below == np.inf, 0, below)\n",
    " \n",
    "        reference_matrix = np.divide(above, below)\n",
    "        ## change infinity values to zero\n",
    "        reference_matrix = np.where(reference_matrix == np.inf, 0, reference_matrix)\n",
    "        reference_matrix = np.where(np.isnan(reference_matrix), 0, reference_matrix)\n",
    "        \n",
    "\n",
    "    return reference_matrix"
   ]
  },
  {
   "cell_type": "code",
   "execution_count": 81,
   "id": "c759afc2",
   "metadata": {},
   "outputs": [],
   "source": [
    "def update_CMeans_values(mu, dataset, centers, m):\n",
    "    \"\"\"\n",
    "    apply one iteration of fuzzy C-means updating center means and reference matrix\n",
    "    \n",
    "    Parameters:\n",
    "    ------------\n",
    "    mu : 2D array\n",
    "        reference matrix that represents the membership of each data to each cluster\n",
    "    dataset : 2D array\n",
    "        2D array representing x and y coordinates\n",
    "    centers : 2D array\n",
    "        array of centers representing the centers of clusters\n",
    "    m : float bigger than 1\n",
    "        parameter for the function\n",
    "        \n",
    "    Returns:\n",
    "    ---------\n",
    "    mu_new : 2D array\n",
    "        the updated reference values\n",
    "    centers_new : 2D array\n",
    "        the updated centers \n",
    "    \"\"\"\n",
    "    \n",
    "    ## initialization of variables\n",
    "    centers_new = np.copy(centers) \n",
    "    mu_new = np.copy(mu)\n",
    "    \n",
    "    ########### update the reference functions\n",
    "    for i in range(len(dataset)):\n",
    "        mu_new[i, 0] = find_reference_matrix(centers_new[0], centers_new, dataset[i], m)\n",
    "        mu_new[i, 1] = find_reference_matrix(centers_new[1], centers_new, dataset[i], m)\n",
    "        \n",
    "        \n",
    "    ########## update the centers\n",
    "\n",
    "    \n",
    "    ###### The commented code is for crisp K-means, we need the Fuzzy C-means\n",
    "#     ## thoes belong to cluster 1\n",
    "#     cluster1_mu = mu[np.array(mu[:, 0] < mu[:, 1]).flatten()]\n",
    "#     ## and thoes belong to cluster number 0\n",
    "#     cluster0_mu = mu[np.array(mu[:, 0] > mu[:, 1]).flatten()]\n",
    "\n",
    "#     ## data that belongs to cluster 1\n",
    "#     cluster1_data = dataset[np.array(mu[:, 0] < mu[:, 1]).flatten()]\n",
    "\n",
    "#     ## data that belongs to cluster 0\n",
    "#     cluster0_data = dataset[np.array(mu[:, 0] > mu[:, 1]).flatten()]     \n",
    "\n",
    "#     ## update the centers using the new membership function\n",
    "#     center1 = find_cluster_center(cluster1_mu, cluster1_data, m)\n",
    "#     center2 = find_cluster_center(cluster0_mu, cluster0_data, m)\n",
    "    \n",
    "    ## using C-means\n",
    "    center1 = find_cluster_center(mu[:, 0], dataset, m)\n",
    "    center0 = find_cluster_center(mu[:, 1], dataset, m)\n",
    "    \n",
    "    centers_new = np.concatenate((center0, center1))\n",
    "    \n",
    "    return mu_new, centers_new"
   ]
  },
  {
   "cell_type": "code",
   "execution_count": 82,
   "id": "f065dda3",
   "metadata": {},
   "outputs": [],
   "source": [
    "def fit_Cmeans(dataset , mu, centers ,epsilon=0.01, m=2, max_iter=1000):\n",
    "    \"\"\"\n",
    "    Fit on data iteratively using C-Means method\n",
    "    \n",
    "    Parametrs:\n",
    "    -----------\n",
    "    dataset : 2D array\n",
    "        set of x and y data coordinates\n",
    "    mu : 2D array\n",
    "        reference matrix that represents the membership of each data to each cluster\n",
    "    centers : 2D array\n",
    "        array of centers representing the centers of clusters\n",
    "    epsilon : float\n",
    "        when to stop the iterations, where values are changing less than `epsilon`\n",
    "        default is `0.01`\n",
    "    m : float bigger than 1\n",
    "        parameter for the function\n",
    "        default value is `2`\n",
    "    max_iter : positive integer\n",
    "        if the method doesn't converge, how many iterations it should iterate\n",
    "        default is `1000`\n",
    "        \n",
    "        \n",
    "    Returns:\n",
    "    ---------\n",
    "    new_mu : 2D array\n",
    "        new updated reference matrix\n",
    "    new_centers : 2D array\n",
    "        new updated center values\n",
    "    \"\"\"\n",
    "    \n",
    "    new_centers = np.copy(centers)\n",
    "    new_mu = np.copy(mu)\n",
    "    \n",
    "    ## set to be the default condition\n",
    "    condition = True\n",
    "    ## set to have the count of iterations\n",
    "    i = 0\n",
    "    while condition:\n",
    "        ## save the last iteration values to be able to find how values are changing\n",
    "        old_mu, old_centers = new_mu, new_centers\n",
    "        ## then update\n",
    "        new_mu, new_centers = update_CMeans_values(new_mu, dataset, new_centers, m)\n",
    "        \n",
    "        measure1 = np.sum(new_mu - old_mu)\n",
    "        measure2 = np.sum(new_centers - old_centers)\n",
    "        \n",
    "        if ((measure1 + measure2) < epsilon):\n",
    "            print(f\"Method converged to a local optimum in {i+1} iterations!\")\n",
    "            condition = False\n",
    "        elif i > max_iter:\n",
    "            print(f\"Method coudn't converge to a local optimum and ended with {i+1} iterations!\")\n",
    "            condition = False\n",
    "    \n",
    "    return new_mu, new_centers"
   ]
  },
  {
   "cell_type": "code",
   "execution_count": 83,
   "id": "d6357b09",
   "metadata": {},
   "outputs": [],
   "source": [
    "center0 = find_cluster_center(mu[:, 0], dataset, m)\n",
    "center1 = find_cluster_center(mu[:, 1], dataset, m)\n",
    "\n",
    "centers = np.concatenate((center0, center1))"
   ]
  },
  {
   "cell_type": "code",
   "execution_count": 84,
   "id": "ca7684c9",
   "metadata": {},
   "outputs": [
    {
     "name": "stdout",
     "output_type": "stream",
     "text": [
      "Method converged to a local optimum in 1 iterations!\n"
     ]
    },
    {
     "data": {
      "text/plain": [
       "(array([[0.37691298, 0.62308705],\n",
       "        [0.5496257 , 0.45037428],\n",
       "        [0.46281585, 0.5371842 ],\n",
       "        [0.21830392, 0.7816961 ],\n",
       "        [0.23547374, 0.76452625],\n",
       "        [0.31834063, 0.6816594 ],\n",
       "        [0.        , 1.        ]], dtype=float32),\n",
       " matrix([[6.33333333, 6.5       ],\n",
       "         [6.        , 1.        ]]))"
      ]
     },
     "execution_count": 84,
     "metadata": {},
     "output_type": "execute_result"
    }
   ],
   "source": [
    "fit_Cmeans(dataset, mu, centers)"
   ]
  }
 ],
 "metadata": {
  "kernelspec": {
   "display_name": "Python 3 (ipykernel)",
   "language": "python",
   "name": "python3"
  },
  "language_info": {
   "codemirror_mode": {
    "name": "ipython",
    "version": 3
   },
   "file_extension": ".py",
   "mimetype": "text/x-python",
   "name": "python",
   "nbconvert_exporter": "python",
   "pygments_lexer": "ipython3",
   "version": "3.8.10"
  }
 },
 "nbformat": 4,
 "nbformat_minor": 5
}
