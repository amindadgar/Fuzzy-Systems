{
 "cells": [
  {
   "cell_type": "markdown",
   "id": "e9fe3da3",
   "metadata": {},
   "source": [
    "# Homework #3 of Fuzzy Systems\n",
    "**Student name:** Seyed Mohammad Amin Dadgar <br>\n",
    "**Student Id:** 4003624016 <br>\n",
    "**Instructor:** Dr. Hossein Karshenas <br>\n",
    "\n",
    "**Date:** June, 2022 | Khordad, 1401"
   ]
  },
  {
   "cell_type": "markdown",
   "id": "14c486ee",
   "metadata": {},
   "source": [
    "Libraries Used:\n",
    "- matplotlib\n",
    "- numpy\n",
    "- scipy"
   ]
  },
  {
   "cell_type": "code",
   "execution_count": 1,
   "id": "6875e9d6",
   "metadata": {},
   "outputs": [],
   "source": [
    "import matplotlib.pyplot as plt\n",
    "import numpy as np\n",
    "import scipy"
   ]
  },
  {
   "cell_type": "markdown",
   "id": "6dd871bb",
   "metadata": {},
   "source": [
    "The questions are from the excersises of the books Zimmerman $4^{th}$ edition $2001$ and Ross $4^{th}$ edition $2017$. We've specified the question numbers and the answers of it in this file."
   ]
  },
  {
   "cell_type": "markdown",
   "id": "279dd8c9",
   "metadata": {},
   "source": [
    "## Possibility Distribution"
   ]
  },
  {
   "cell_type": "markdown",
   "id": "7a406b8d",
   "metadata": {},
   "source": [
    "### Q9\n",
    "Answer to the question 2 of chapter 8 Zimmerman book. "
   ]
  },
  {
   "cell_type": "markdown",
   "id": "20fa4e6b",
   "metadata": {},
   "source": [
    "Define a probability distribution for \"cars drive X mph on American freeways.\"\n",
    "\n",
    "If we define the mean to $80$, meaning that the most cars in freeways are driven with the speed of the $80 \\; mph$, We can define a gaussian function with $\\mu=80$ for the probability and if the highest and lowest speeds are $100$ and $60$ miles per hour the $\\sigma$ can be $20$. So the Probability can be defined as\n",
    "\\begin{equation}\n",
    "P(x) = \\frac{1}{\\sqrt{2\\pi}\\sigma} exp\\Big(-\\frac{1}{2}\\big(\\frac{x-80}{20}\\big)^2\\Big)\n",
    "\\end{equation}\n",
    "\n",
    "And having the facts we've defined above for the possiblity distribution we can define a triangular fuzzy number for the possiblity distribution.\n",
    "\\begin{equation}\n",
    "possiblity = Triangular(80, 60, 100)\n",
    "\\end{equation}"
   ]
  },
  {
   "cell_type": "code",
   "execution_count": 52,
   "id": "6c2a8adb",
   "metadata": {},
   "outputs": [
    {
     "data": {
      "image/png": "[encoded data removed]",
      "text/plain": [
       "<Figure size 432x288 with 1 Axes>"
      ]
     },
     "metadata": {
      "needs_background": "light"
     },
     "output_type": "display_data"
    }
   ],
   "source": [
    "### Let's just plot the distirbutions\n",
    "\n",
    "def gaussian(X, Sigma, Mu):\n",
    "    \"\"\"\n",
    "    The gaussian distribution\n",
    "    \n",
    "    Paremeters:\n",
    "    ------------\n",
    "    X : array_like\n",
    "        the input range, can be an array of floating points\n",
    "    Sigma : float\n",
    "        the variance for gaussian distribution\n",
    "    Mu : float\n",
    "        the mean for gaussian distribution\n",
    "        \n",
    "    Returns:\n",
    "    ---------\n",
    "    Y : array_like\n",
    "        same dimension as input `X`\n",
    "        the values representing gaussian distribution\n",
    "    \"\"\"\n",
    "    fraction = 1 / np.sqrt(2 * np.pi * (Sigma**2))\n",
    "    p2 = np.exp(-np.power(X - Mu, 2) / (2*(Sigma**2)))\n",
    "\n",
    "    Y = p1 * p2\n",
    "    return Y\n",
    "\n",
    "##### Parameters\n",
    "Mu = 80\n",
    "sigma = 20\n",
    "\n",
    "############### Probability\n",
    "X = np.linspace(10, 160, 100)\n",
    "Y = gaussian(X, sigma, Mu)\n",
    "plt.plot(X, Y)\n",
    "plt.show()"
   ]
  },
  {
   "cell_type": "code",
   "execution_count": 70,
   "id": "b3906980",
   "metadata": {},
   "outputs": [
    {
     "data": {
      "image/png": "[encoded data removed]",
      "text/plain": [
       "<Figure size 432x288 with 1 Axes>"
      ]
     },
     "metadata": {
      "needs_background": "light"
     },
     "output_type": "display_data"
    }
   ],
   "source": [
    "############# Possiblity distribution\n",
    "def triangular_fuzzy(X, Mu, left, right):\n",
    "    \"\"\"\n",
    "    Triangular fuzzy number\n",
    "    \n",
    "    Parameters:\n",
    "    -----------\n",
    "    X : array\n",
    "        the input range, can be an array of floating points\n",
    "    Mu : integer or float\n",
    "        the mean of the fuzzy number\n",
    "    left : integer or float\n",
    "        left expansion of the fuzzy number\n",
    "    right : integer or float\n",
    "        right expansion of the fuzzy number\n",
    "    \"\"\"\n",
    "    ## apply the left expansion on all the input\n",
    "    ## then using np.where apply the right expansion to the data\n",
    "    \n",
    "    ## Apply the right expansion in the first condition\n",
    "    ## and apply the left expansion in the left condition\n",
    "    Y = np.where(X > Mu, (right - X) / (right - Mu) ,(X - left) / (Mu - left))\n",
    "    ## zero the negative numbers\n",
    "    Y = np.where(Y < 0, 0, Y)\n",
    "    \n",
    "    return Y\n",
    "\n",
    "#### Parameters\n",
    "Mu = 80\n",
    "right = 100\n",
    "left = 60\n",
    "\n",
    "#### Plot the possiblity distribution\n",
    "X = np.linspace(10, 160, 100)\n",
    "Y = triangular_fuzzy(X, Mu, left, right)\n",
    "plt.plot(X, Y)\n",
    "plt.show()"
   ]
  },
  {
   "cell_type": "markdown",
   "id": "c1a1aaf2",
   "metadata": {},
   "source": [
    "### Q10\n",
    "Answer to the question 3 of chapter 8 of Zimmerman book.\n",
    "\n",
    "To find the possibility measures we should find the suprimum of the minimum values of $\\mu_{\\tilde{A}}(u), \\pi_x{u}$  "
   ]
  },
  {
   "cell_type": "markdown",
   "id": "17b225c3",
   "metadata": {},
   "source": [
    "So because values for $A$ given in range(6, 14) the answers can be\n",
    "\\begin{equation}\n",
    "\\pi_{\\tilde{A}} = \\{(8, .6), (9, .8), (10, 1),(1 1, .8), (12, .6)\\}\n",
    "\\end{equation}\n",
    "suprimum of the minimum values will be \n",
    "\\begin{equation}\n",
    "\\text{possiblity} = max(.6, 0.8, 1, 0.8, 0.6) = \\color{green}1\n",
    "\\end{equation}\n",
    "And for $\\tilde{B}$:\n",
    "\\begin{equation}\n",
    "\\text{possiblity} = max(0.4, 0.5, 0.6, 0.8, 1, 0.8, 0.6, 0.5, 0.4) = \\color{green}1\n",
    "\\end{equation}"
   ]
  },
  {
   "cell_type": "markdown",
   "id": "0d23f057",
   "metadata": {},
   "source": [
    "### Q11"
   ]
  },
  {
   "cell_type": "markdown",
   "id": "b9e45fbd",
   "metadata": {},
   "source": [
    "Answer to the question 4 of chapter 4 of the Zimmerman book."
   ]
  },
  {
   "cell_type": "markdown",
   "id": "2b25fc43",
   "metadata": {},
   "source": [
    "Considering Example 4-1, we can answer find the probabilities of $A_1, A_2$ and $A_3$ via the equation below\n",
    "\\begin{equation}\n",
    "\\text{for }A \\subseteq X \\rightarrow \\pi(A) = sup(\\{x\\})\n",
    "\\end{equation}"
   ]
  },
  {
   "cell_type": "markdown",
   "id": "4356c7a6",
   "metadata": {},
   "source": [
    "And given $A_1, A_2$ and $A_3$ are as below:\n",
    "\\begin{equation}\n",
    "A_1 = \\{1, 2, 3,4,5, 6\\} \\\\\n",
    "A_2=\\{1, 5, 8, 9\\} \\\\ \n",
    "A3=\\{7, 9\\}\n",
    "\\end{equation}\n",
    "We can find the possiblity of them in the equations below"
   ]
  },
  {
   "cell_type": "markdown",
   "id": "0ba642e7",
   "metadata": {},
   "source": [
    "\\begin{equation}\n",
    "\\text{possiblity}(A_1) = \\pi(A_1) = sup(\\pi(1), \\pi(2), \\pi(3), \\pi(4), \\pi(5), \\pi(6)) = sup\\{0, 0, 0, 0, 0.1, 0.5\\} = \\color{green}{0.5} \\\\\n",
    "\\text{possiblity}(A_2) = \\pi(A_1) = sup(\\pi(1), \\pi(5), \\pi(8), \\pi(9)) = sup\\{0, 0.1, 1, 0.8\\} = \\color{green}1 \\\\\n",
    "\\text{possiblity}(A_3) = \\pi(A_1) = sup(\\pi(7), \\pi(9)) = sup\\{0.8, 0.8\\} = \\color{green}{0.8}\n",
    "\\end{equation}"
   ]
  },
  {
   "cell_type": "markdown",
   "id": "a8bd7860",
   "metadata": {},
   "source": [
    "### Q12\n",
    "Answer the question 5 of chapter 8 in Zimmerman book. $\\color{red}{\\text{Wrong and incomplete answer!}}$"
   ]
  },
  {
   "cell_type": "markdown",
   "id": "3145a9d5",
   "metadata": {},
   "source": [
    "To define the Yager's probablity of a fuzzy event for question 10 here, we need to first have a look at what it was.\n",
    "\\begin{equation}\n",
    "P(A_\\alpha) = \\sum_{x \\in A_{\\alpha}} P(x)\n",
    "\\end{equation}\n",
    "So we can find out that for any $\\alpha$ cut of the set $A$, we can compute its probability with summing the probabilities of each item in $\\alpha$ cut.\n",
    "\n",
    "first to find the probability of each item having the universe set $A$ in mind we can assign $\\frac{1}{7}$ for each item probability.\n",
    "\\begin{equation}\n",
    "A = \\{6, 7, . . . , 13, 14\\}\n",
    "\\end{equation}\n",
    "And having $\\pi_{\\tilde{A}}$ in mind the question's answer we will goes as follows\n",
    "\\begin{equation}\n",
    "\\text{probability}(A_1) = 0 \\text{  for all } \\alpha \\text{  cuts} \n",
    "\\end{equation}\n",
    "\\begin{equation}\n",
    "\\text{probability}(A_2) = \\begin{cases}\n",
    "0  & \\text{ for } w \\in \\text{[0, 0.6]} \\\\\n",
    "0.6  & \\text{ for } w \\in \\text{[0.6, 0.8]} \\\\\n",
    "\\end{cases}\n",
    "\\end{equation}"
   ]
  }
 ],
 "metadata": {
  "kernelspec": {
   "display_name": "Python 3 (ipykernel)",
   "language": "python",
   "name": "python3"
  },
  "language_info": {
   "codemirror_mode": {
    "name": "ipython",
    "version": 3
   },
   "file_extension": ".py",
   "mimetype": "text/x-python",
   "name": "python",
   "nbconvert_exporter": "python",
   "pygments_lexer": "ipython3",
   "version": "3.9.0"
  }
 },
 "nbformat": 4,
 "nbformat_minor": 5
}
